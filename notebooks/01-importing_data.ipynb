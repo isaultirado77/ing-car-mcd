{
 "cells": [
  {
   "cell_type": "markdown",
   "id": "440ae10d",
   "metadata": {},
   "source": [
    "# **01 Intro to importing data in Python**"
   ]
  },
  {
   "cell_type": "markdown",
   "id": "b0fabe9d",
   "metadata": {},
   "source": [
    "# Reading Text File in Python\n",
    "\n",
    "## 1. Usando `open` y `close` manualmente\n",
    "\n",
    "```python\n",
    "file = open(\"archivo.txt\", \"r\", encoding=\"utf-8\")  # \"r\" = modo lectura\n",
    "contenido = file.read()\n",
    "print(contenido)\n",
    "file.close()  \n",
    "```\n",
    "\n",
    "## 2. Usando *Context Manager*\n",
    "\n",
    "```python\n",
    "with open(\"archivo.txt\", \"r\", encoding=\"utf-8\") as file:\n",
    "    contenido = file.read()\n",
    "    print(contenido)\n",
    "# el archivo se cierra automáticamente al salir del bloque\n",
    "```"
   ]
  },
  {
   "cell_type": "code",
   "execution_count": 16,
   "id": "2ff91347",
   "metadata": {},
   "outputs": [],
   "source": [
    "filename = \"../datasets/hunk_finn.txt\"\n",
    "file = open(filename, mode='w')  \n",
    "#print(file.write(\"\\nHOLA\"))\n",
    "file.close()"
   ]
  },
  {
   "cell_type": "code",
   "execution_count": 18,
   "id": "92417edf",
   "metadata": {},
   "outputs": [
    {
     "name": "stdout",
     "output_type": "stream",
     "text": [
      "You donâ€™t know about me, without you have read a book by the\n",
      "name of The Adventures of Tom Sawyer; but that ainâ€™t no matter. That\n",
      "book was made by Mr. Mark Twain, and he told the truth, mainly.\n",
      "There was things which he stretched, but mainly he told the truth.\n",
      "That is nothing. I never seen anybody but lied one time or another,\n",
      "without it was Aunt Polly, or the widow, or maybe Mary. Aunt\n",
      "Pollyâ€”Tomâ€™s Aunt Polly, she isâ€”and Mary, and the Widow Douglas\n",
      "is all told about in that book, which is mostly a true book, with some\n",
      "stretchers, as I said before.\n"
     ]
    }
   ],
   "source": [
    "with open(filename, 'r') as file: \n",
    "    print(file.read())"
   ]
  },
  {
   "cell_type": "code",
   "execution_count": 40,
   "id": "86d557ba",
   "metadata": {},
   "outputs": [],
   "source": [
    "moby_file = open(\"../datasets/moby_dick.txt\", 'r')"
   ]
  },
  {
   "cell_type": "code",
   "execution_count": 41,
   "id": "8bd07e7d",
   "metadata": {},
   "outputs": [
    {
     "data": {
      "text/plain": [
       "_io.TextIOWrapper"
      ]
     },
     "execution_count": 41,
     "metadata": {},
     "output_type": "execute_result"
    }
   ],
   "source": [
    "type(moby_file)"
   ]
  },
  {
   "cell_type": "code",
   "execution_count": 33,
   "id": "b2abc26b",
   "metadata": {},
   "outputs": [
    {
     "data": {
      "text/plain": [
       "\"CHAPTER 1. Loomings.\\n\\nCall me Ishmael. Some years ago--never mind how long precisely--having\\nlittle or no money in my purse, and nothing particular to interest me on\\nshore, I thought I would sail about a little and see the watery part of\\nthe world. It is a way I have of driving off the spleen and regulating\\nthe circulation. Whenever I find myself growing grim about the mouth;\\nwhenever it is a damp, drizzly November in my soul; whenever I find\\nmyself involuntarily pausing before coffin warehouses, and bringing up\\nthe rear of every funeral I meet; and especially whenever my hypos get\\nsuch an upper hand of me, that it requires a strong moral principle to\\nprevent me from deliberately stepping into the street, and methodically\\nknocking people's hats off--then, I account it high time to get to sea\\nas soon as I can. This is my substitute for pistol and ball. With a\\nphilosophical flourish Cato throws himself upon his sword; I quietly\\ntake to the ship. There is nothing surprising in this. If they but knew\\nit, almost all men in their degree, some time or other, cherish very\\nnearly the same feelings towards the ocean with me.\\n\""
      ]
     },
     "execution_count": 33,
     "metadata": {},
     "output_type": "execute_result"
    }
   ],
   "source": [
    "moby_file.read()"
   ]
  },
  {
   "cell_type": "code",
   "execution_count": 42,
   "id": "2fb46380",
   "metadata": {},
   "outputs": [
    {
     "data": {
      "text/plain": [
       "['CHAPTER 1. Loomings.\\n',\n",
       " '\\n',\n",
       " 'Call me Ishmael. Some years ago--never mind how long precisely--having\\n',\n",
       " 'little or no money in my purse, and nothing particular to interest me on\\n',\n",
       " 'shore, I thought I would sail about a little and see the watery part of\\n',\n",
       " 'the world. It is a way I have of driving off the spleen and regulating\\n',\n",
       " 'the circulation. Whenever I find myself growing grim about the mouth;\\n',\n",
       " 'whenever it is a damp, drizzly November in my soul; whenever I find\\n',\n",
       " 'myself involuntarily pausing before coffin warehouses, and bringing up\\n',\n",
       " 'the rear of every funeral I meet; and especially whenever my hypos get\\n',\n",
       " 'such an upper hand of me, that it requires a strong moral principle to\\n',\n",
       " 'prevent me from deliberately stepping into the street, and methodically\\n',\n",
       " \"knocking people's hats off--then, I account it high time to get to sea\\n\",\n",
       " 'as soon as I can. This is my substitute for pistol and ball. With a\\n',\n",
       " 'philosophical flourish Cato throws himself upon his sword; I quietly\\n',\n",
       " 'take to the ship. There is nothing surprising in this. If they but knew\\n',\n",
       " 'it, almost all men in their degree, some time or other, cherish very\\n',\n",
       " 'nearly the same feelings towards the ocean with me.\\n']"
      ]
     },
     "execution_count": 42,
     "metadata": {},
     "output_type": "execute_result"
    }
   ],
   "source": [
    "moby_file.readlines()"
   ]
  },
  {
   "cell_type": "markdown",
   "id": "3f40501a",
   "metadata": {},
   "source": [
    "## Flat files in numpy\n",
    "\n",
    "* `np.loadtxt(filename, delimiter=',', skiprows=1, dtype=str)`\n",
    "\n",
    "  Carga datos de un archivo de texto en un array de NumPy. Permite especificar delimitadores, saltar filas, y definir el tipo de dato.\n",
    "\n",
    "* `np.genfromtxt(filename, delimiter=',', skip_header=1, dtype=None)`\n",
    "\n",
    "  Similar a `loadtxt`, pero más robusto con datos faltantes, ya que puede manejar valores vacíos o no numéricos.\n",
    "\n",
    "---\n",
    "\n",
    "## Other file types\n",
    "\n",
    "### ExcelFile\n",
    "\n",
    "* `pd.ExcelFile('filename.xlsx')`\n",
    "  Permite abrir un archivo de Excel para inspeccionarlo y luego cargar sus hojas en un DataFrame.\n",
    "\n",
    "* `xls.sheet_names`\n",
    "  Lista las hojas disponibles en el archivo Excel abierto con `ExcelFile`.\n",
    "\n",
    "* `xls.parse('Sheet1')`\n",
    "  Carga una hoja específica de Excel a un DataFrame.\n",
    "\n",
    "### SAS/Stata\n",
    "\n",
    "* `.`\n",
    "* `from sas7bdat import SAS7BDAT`\n",
    "\n",
    "```python\n",
    "with SAS7BDAT()...\n",
    "```\n",
    "* `pd.read_stata()`\n",
    "\n",
    "* HDF5 files\n",
    "```python\n",
    "import h5py\n",
    "```\n",
    "\n",
    "### Matlab\n",
    "\n",
    "* `.`\n",
    "\n",
    "```python\n",
    "impor scipy.io\n",
    "\n",
    "mat = scipy.io.loadmat(fileanme)\n",
    "```\n"
   ]
  },
  {
   "cell_type": "code",
   "execution_count": null,
   "id": "2f16cbd1",
   "metadata": {},
   "outputs": [],
   "source": []
  },
  {
   "cell_type": "markdown",
   "id": "3608b892",
   "metadata": {},
   "source": [
    "## Working with Databases\n",
    "\n",
    "* Creating a db\n",
    "```python\n",
    "from sqlalchemy import create_engine\n",
    "\n",
    "engine = create_engine('db connection')\n",
    "table_names = engine.table_name()\n",
    "```\n",
    "* Querying relational dbs in Python\n",
    "    * With connection\n",
    "    ```python\n",
    "        con = engine.connect()\n",
    "        rs = con.execute(\"QUERY\")\n",
    "        df = pd.DataFrame(rs.fetchall())\n",
    "        df.columns = rs.keys()\n",
    "        con.close()\n",
    "    ```\n",
    "    * With context manager\n",
    "    ```python\n",
    "    with engine.connect() as con: \n",
    "        rs = con.execute(\"QUERY\")\n",
    "        df = pd.DataFrame(rs.fetchmany(100))\n",
    "        df.columns = rs.keys()\n",
    "    ```\n",
    "    * Using pandas\n",
    "    ```python\n",
    "    df = pd.read_sql_query(\"QUERY\", engine)\n",
    "    ```\n"
   ]
  },
  {
   "cell_type": "code",
   "execution_count": null,
   "id": "67770a1b",
   "metadata": {},
   "outputs": [],
   "source": []
  }
 ],
 "metadata": {
  "kernelspec": {
   "display_name": "base",
   "language": "python",
   "name": "python3"
  },
  "language_info": {
   "codemirror_mode": {
    "name": "ipython",
    "version": 3
   },
   "file_extension": ".py",
   "mimetype": "text/x-python",
   "name": "python",
   "nbconvert_exporter": "python",
   "pygments_lexer": "ipython3",
   "version": "3.13.5"
  }
 },
 "nbformat": 4,
 "nbformat_minor": 5
}
