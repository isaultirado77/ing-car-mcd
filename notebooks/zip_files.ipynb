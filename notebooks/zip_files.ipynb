{
 "cells": [
  {
   "cell_type": "markdown",
   "id": "69bf37d5",
   "metadata": {},
   "source": [
    "# Zipfiles with Python\n",
    "\n",
    "https://realpython.com/python-zipfile/"
   ]
  },
  {
   "cell_type": "code",
   "execution_count": 1,
   "id": "51474030",
   "metadata": {},
   "outputs": [],
   "source": [
    "import shutil\n",
    "import zipfile\n",
    "from pathlib import Path"
   ]
  },
  {
   "cell_type": "code",
   "execution_count": 2,
   "id": "0c19bd6f",
   "metadata": {},
   "outputs": [],
   "source": [
    "# help(zipfile);"
   ]
  },
  {
   "cell_type": "code",
   "execution_count": 27,
   "id": "b846fd66",
   "metadata": {},
   "outputs": [],
   "source": [
    "ROOT_PATH = Path(\".\").absolute().parent\n",
    "DATA_PATH = ROOT_PATH / \"datasets\"\n",
    "ZIP_PATH = DATA_PATH / \"zipfiles\""
   ]
  },
  {
   "cell_type": "code",
   "execution_count": 28,
   "id": "5bc4a39f",
   "metadata": {},
   "outputs": [
    {
     "data": {
      "text/plain": [
       "(True, True, True)"
      ]
     },
     "execution_count": 28,
     "metadata": {},
     "output_type": "execute_result"
    }
   ],
   "source": [
    "ROOT_PATH.exists(), DATA_PATH.exists(), ZIP_PATH.exists()"
   ]
  },
  {
   "cell_type": "markdown",
   "id": "e26856ca",
   "metadata": {},
   "source": [
    "## Testing creating zipfiles"
   ]
  },
  {
   "cell_type": "code",
   "execution_count": 41,
   "id": "90597c0e",
   "metadata": {},
   "outputs": [],
   "source": [
    "with zipfile.ZipFile(ROOT_PATH.joinpath(\"notebooks/temps\") / \"test.zip\", mode='w') as archive: \n",
    "    for filepath in DATA_PATH.iterdir():\n",
    "        if filepath.is_file(): \n",
    "            archive.write(filepath, filepath.relative_to(DATA_PATH))"
   ]
  },
  {
   "cell_type": "code",
   "execution_count": 50,
   "id": "f1f53ca9",
   "metadata": {},
   "outputs": [],
   "source": [
    "with zipfile.ZipFile(ZIP_PATH / \"sample.zip\", mode='w') as archive: \n",
    "    for filepath in DATA_PATH.joinpath(\"sample/\").iterdir(): \n",
    "        archive.write(filepath, filepath.relative_to(DATA_PATH / \"sample/\"))"
   ]
  },
  {
   "cell_type": "markdown",
   "id": "fbc078b3",
   "metadata": {},
   "source": [
    "## Manipulating existing ZIP files"
   ]
  },
  {
   "cell_type": "code",
   "execution_count": 44,
   "id": "5f20978b",
   "metadata": {},
   "outputs": [
    {
     "name": "stdout",
     "output_type": "stream",
     "text": [
      "File Name                                             Modified             Size\n",
      "hello.txt                                      2025-09-10 17:50:02          168\n",
      "lorem.md                                       2025-09-10 17:49:39            7\n",
      "real_python.md                                 2025-09-10 17:49:45           13\n"
     ]
    }
   ],
   "source": [
    "with zipfile.ZipFile(ZIP_PATH / \"sample.zip\", 'r') as a: \n",
    "    archive.printdir()"
   ]
  },
  {
   "cell_type": "markdown",
   "id": "9cac86f9",
   "metadata": {},
   "source": [
    "* Checking file is a zipfile"
   ]
  },
  {
   "cell_type": "code",
   "execution_count": 45,
   "id": "85e667e3",
   "metadata": {},
   "outputs": [
    {
     "data": {
      "text/plain": [
       "True"
      ]
     },
     "execution_count": 45,
     "metadata": {},
     "output_type": "execute_result"
    }
   ],
   "source": [
    "zipfile.is_zipfile(ZIP_PATH / \"sample.zip\")"
   ]
  },
  {
   "cell_type": "code",
   "execution_count": 46,
   "id": "f8db0d72",
   "metadata": {},
   "outputs": [
    {
     "data": {
      "text/plain": [
       "True"
      ]
     },
     "execution_count": 46,
     "metadata": {},
     "output_type": "execute_result"
    }
   ],
   "source": [
    "zipfile.is_zipfile(ZIP_PATH / \"test.zip\")"
   ]
  },
  {
   "cell_type": "code",
   "execution_count": 47,
   "id": "843fc2ef",
   "metadata": {},
   "outputs": [
    {
     "data": {
      "text/plain": [
       "False"
      ]
     },
     "execution_count": 47,
     "metadata": {},
     "output_type": "execute_result"
    }
   ],
   "source": [
    "zipfile.is_zipfile(DATA_PATH / \"data.txt\")"
   ]
  },
  {
   "cell_type": "code",
   "execution_count": 54,
   "id": "4b288815",
   "metadata": {},
   "outputs": [
    {
     "name": "stdout",
     "output_type": "stream",
     "text": [
      "Filename: hello.txt\n",
      "Normal size: 168 bytes\n",
      "Compressed size: 168 bytes\n",
      "--------------------\n",
      "Filename: lorem.md\n",
      "Normal size: 7 bytes\n",
      "Compressed size: 7 bytes\n",
      "--------------------\n",
      "Filename: real_python.md\n",
      "Normal size: 13 bytes\n",
      "Compressed size: 13 bytes\n",
      "--------------------\n",
      "Filename: data.txt\n",
      "Normal size: 186 bytes\n",
      "Compressed size: 186 bytes\n",
      "--------------------\n"
     ]
    }
   ],
   "source": [
    "with zipfile.ZipFile(ZIP_PATH / \"sample.zip\", 'r') as a: \n",
    "    for info in a.infolist(): \n",
    "        print(f\"Filename: {info.filename}\")\n",
    "        print(f\"Normal size: {info.file_size} bytes\")\n",
    "        print(f\"Compressed size: {info.compress_size} bytes\")\n",
    "        print(\"-\" * 20)"
   ]
  },
  {
   "cell_type": "markdown",
   "id": "26e3a64b",
   "metadata": {},
   "source": [
    "### Inserting a file on a zip"
   ]
  },
  {
   "cell_type": "code",
   "execution_count": null,
   "id": "b6a35669",
   "metadata": {},
   "outputs": [],
   "source": [
    "with zipfile.ZipFile(ZIP_PATH / \"sample.zip\", 'a') as a: # 'a' append content; 'w': overwrites content \n",
    "    to_write = DATA_PATH / \"data.txt\"\n",
    "    a.write(to_write, to_write.relative_to(DATA_PATH))  "
   ]
  },
  {
   "cell_type": "markdown",
   "id": "57f65872",
   "metadata": {},
   "source": [
    "### Extracting a member from ZIP archives"
   ]
  },
  {
   "cell_type": "code",
   "execution_count": 57,
   "id": "0006d4ce",
   "metadata": {},
   "outputs": [],
   "source": [
    "with zipfile.ZipFile(ZIP_PATH / \"sample.zip\", mode='r') as archive: \n",
    "    archive.extract(\"data.txt\", path=ROOT_PATH / \"notebooks/temps/lol\")"
   ]
  },
  {
   "cell_type": "code",
   "execution_count": 60,
   "id": "ee4d6726",
   "metadata": {},
   "outputs": [],
   "source": [
    "with zipfile.ZipFile(ZIP_PATH / \"sample.zip\", mode='r') as archive: \n",
    "    archive.extractall(path=ROOT_PATH / \"notebooks/temps/trol\")"
   ]
  },
  {
   "cell_type": "markdown",
   "id": "e1621b54",
   "metadata": {},
   "source": [
    "## Creatin, Populating, and Extracting Zip Files"
   ]
  },
  {
   "cell_type": "markdown",
   "id": "f968df16",
   "metadata": {},
   "source": [
    "### From directories with subdirectories"
   ]
  },
  {
   "cell_type": "code",
   "execution_count": 61,
   "id": "dcb28ad9",
   "metadata": {},
   "outputs": [],
   "source": [
    "with zipfile.ZipFile(ZIP_PATH / \"all_subdirs.zip\", 'w') as archive: \n",
    "    source_path = DATA_PATH\n",
    "    for filepath in source_path.rglob(\"*\"): \n",
    "        if filepath.parent != ZIP_PATH: \n",
    "            archive.write(\n",
    "                filepath, \n",
    "                arcname=filepath.relative_to(DATA_PATH)\n",
    "            )"
   ]
  },
  {
   "cell_type": "code",
   "execution_count": 62,
   "id": "0dbdf4f6",
   "metadata": {},
   "outputs": [
    {
     "name": "stdout",
     "output_type": "stream",
     "text": [
      "File Name                                             Modified             Size\n",
      "data.txt                                       2025-09-09 12:42:50          186\n",
      "housing.csv                                    2025-08-26 16:35:48      1423529\n",
      "hunk_finn.txt                                  2025-08-26 14:06:30          571\n",
      "moby_dick.txt                                  2025-08-26 14:09:38         1151\n",
      "netflix_data.csv                               2025-08-22 11:13:28      1729748\n",
      "sample/                                        2025-09-10 17:49:24            0\n",
      "schools.csv                                    2025-08-22 11:13:14        25412\n",
      "zipfiles/                                      2025-09-11 13:09:44            0\n",
      "sample/hello.txt                               2025-09-10 17:50:02          168\n",
      "sample/lorem.md                                2025-09-10 17:49:38            7\n",
      "sample/real_python.md                          2025-09-10 17:49:44           13\n"
     ]
    }
   ],
   "source": [
    "with zipfile.ZipFile(ZIP_PATH / \"all_subdirs.zip\", 'r') as archive: \n",
    "    archive.printdir()"
   ]
  },
  {
   "cell_type": "markdown",
   "id": "aa022cca",
   "metadata": {},
   "source": [
    "### Creating Files sequentially"
   ]
  },
  {
   "cell_type": "code",
   "execution_count": 68,
   "id": "6784975f",
   "metadata": {},
   "outputs": [
    {
     "data": {
      "text/plain": [
       "[WindowsPath('c:/Users/isaul/Documents/repos/feature-engineering-mcd/datasets/data.txt'),\n",
       " WindowsPath('c:/Users/isaul/Documents/repos/feature-engineering-mcd/datasets/housing.csv'),\n",
       " WindowsPath('c:/Users/isaul/Documents/repos/feature-engineering-mcd/datasets/hunk_finn.txt'),\n",
       " WindowsPath('c:/Users/isaul/Documents/repos/feature-engineering-mcd/datasets/moby_dick.txt'),\n",
       " WindowsPath('c:/Users/isaul/Documents/repos/feature-engineering-mcd/datasets/netflix_data.csv'),\n",
       " WindowsPath('c:/Users/isaul/Documents/repos/feature-engineering-mcd/datasets/schools.csv')]"
      ]
     },
     "execution_count": 68,
     "metadata": {},
     "output_type": "execute_result"
    }
   ],
   "source": [
    "fileslst = [file for file in DATA_PATH.iterdir() if file.is_file()]\n",
    "fileslst"
   ]
  },
  {
   "cell_type": "code",
   "execution_count": null,
   "id": "2fd163a3",
   "metadata": {},
   "outputs": [],
   "source": [
    "def append_member(zip_path, member, relative_to): \n",
    "    with zipfile.ZipFile(zip_path, 'a') as archive:\n",
    "        archive.write(zip_path, arcname=zip_path.relative_to(relative_to))\n",
    "\n",
    "def get_file_from_stream(files): \n",
    "    for file in files: \n",
    "        yield file"
   ]
  },
  {
   "cell_type": "code",
   "execution_count": 79,
   "id": "52eefcd1",
   "metadata": {},
   "outputs": [
    {
     "name": "stderr",
     "output_type": "stream",
     "text": [
      "c:\\Users\\isaul\\anaconda3\\Lib\\zipfile\\__init__.py:1642: UserWarning: Duplicate name: 'zipfiles/incremental.zip'\n",
      "  return self._open_to_write(zinfo, force_zip64=force_zip64)\n"
     ]
    }
   ],
   "source": [
    "for filename in get_file_from_stream(fileslst): \n",
    "    append_member(ZIP_PATH / \"incremental.zip\", filename, relative_to=DATA_PATH)"
   ]
  },
  {
   "cell_type": "markdown",
   "id": "837e0fea",
   "metadata": {},
   "source": [
    "### Extracting files and directories"
   ]
  },
  {
   "cell_type": "code",
   "execution_count": null,
   "id": "23a8e25e",
   "metadata": {},
   "outputs": [],
   "source": []
  }
 ],
 "metadata": {
  "kernelspec": {
   "display_name": "base",
   "language": "python",
   "name": "python3"
  },
  "language_info": {
   "codemirror_mode": {
    "name": "ipython",
    "version": 3
   },
   "file_extension": ".py",
   "mimetype": "text/x-python",
   "name": "python",
   "nbconvert_exporter": "python",
   "pygments_lexer": "ipython3",
   "version": "3.13.5"
  }
 },
 "nbformat": 4,
 "nbformat_minor": 5
}
