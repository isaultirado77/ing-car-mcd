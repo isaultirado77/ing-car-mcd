{
 "cells": [
  {
   "cell_type": "markdown",
   "id": "087d2e04",
   "metadata": {},
   "source": [
    "# Reshaping data with pandas"
   ]
  },
  {
   "cell_type": "markdown",
   "id": "705171de",
   "metadata": {},
   "source": [
    "## 1 Introduction to reshaping\n",
    "\n",
    "* ``\n",
    "```Python\n",
    "```\n",
    "\n",
    "### Using reshape\n",
    "* `pd.DataFrame().set_index('column')`\n",
    "* `pd.DataFrame().transpose()`\n",
    "\n",
    "### Using pivot\n",
    "* `pd.DataFrame().pivot(index='[to_index]', column='[column_names]', values=[col])`\n",
    "* `pd.DataFrame().pivot_table(index='[to_index]', column='[column_names]', values=[col], aggfunc=[], margin=True|false)`\n",
    "\n",
    "## 2 Reshaping Data \n",
    "\n",
    "* `pd.DataFrame().melt(id_vars=[], value_vars=[], var_name=[], value_name=[] )`\n",
    "* ``\n",
    "\n",
    "### Wide to long transformation\n",
    "\n",
    "* `pd.wide_to_long(df, stubnames=[], i='', j='', sep='', suffix='')`\n",
    "\n",
    "### Working with string columns\n",
    "\n",
    "* `` \n",
    "\n",
    "\n",
    "## 3 Stacking and Unstacking DataFrames\n",
    "\n",
    "* Creating a multilevel index\n",
    "    * `pd.DataFrame().set_index([], inplace=True)`\n",
    "    * `df.index = pd.MultiIndex.from_arrays(new_array, names=[...]) ` "
   ]
  },
  {
   "cell_type": "markdown",
   "id": "fda0bf57",
   "metadata": {},
   "source": []
  }
 ],
 "metadata": {
  "kernelspec": {
   "display_name": "base",
   "language": "python",
   "name": "python3"
  },
  "language_info": {
   "name": "python",
   "version": "3.13.5"
  }
 },
 "nbformat": 4,
 "nbformat_minor": 5
}
