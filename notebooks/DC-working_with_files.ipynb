{
 "cells": [
  {
   "cell_type": "markdown",
   "id": "123c38e3",
   "metadata": {},
   "source": [
    "# Working with files in Python\n",
    "\n",
    "https://realpython.com/working-with-files-in-python/"
   ]
  },
  {
   "cell_type": "markdown",
   "id": "759d65e0",
   "metadata": {},
   "source": [
    "* `with open(...)` statement allows open files and close automatically"
   ]
  },
  {
   "cell_type": "code",
   "execution_count": 1,
   "id": "1e92fd57",
   "metadata": {},
   "outputs": [
    {
     "name": "stdout",
     "output_type": "stream",
     "text": [
      "Help on function open in module _io:\n",
      "\n",
      "open(\n",
      "    file,\n",
      "    mode='r',\n",
      "    buffering=-1,\n",
      "    encoding=None,\n",
      "    errors=None,\n",
      "    newline=None,\n",
      "    closefd=True,\n",
      "    opener=None\n",
      ")\n",
      "    Open file and return a stream.  Raise OSError upon failure.\n",
      "\n",
      "    file is either a text or byte string giving the name (and the path\n",
      "    if the file isn't in the current working directory) of the file to\n",
      "    be opened or an integer file descriptor of the file to be\n",
      "    wrapped. (If a file descriptor is given, it is closed when the\n",
      "    returned I/O object is closed, unless closefd is set to False.)\n",
      "\n",
      "    mode is an optional string that specifies the mode in which the file\n",
      "    is opened. It defaults to 'r' which means open for reading in text\n",
      "    mode.  Other common values are 'w' for writing (truncating the file if\n",
      "    it already exists), 'x' for creating and writing to a new file, and\n",
      "    'a' for appending (which on some Unix systems, means that all writes\n",
      "    append to the end of the file regardless of the current seek position).\n",
      "    In text mode, if encoding is not specified the encoding used is platform\n",
      "    dependent: locale.getencoding() is called to get the current locale encoding.\n",
      "    (For reading and writing raw bytes use binary mode and leave encoding\n",
      "    unspecified.) The available modes are:\n",
      "\n",
      "    ========= ===============================================================\n",
      "    Character Meaning\n",
      "    --------- ---------------------------------------------------------------\n",
      "    'r'       open for reading (default)\n",
      "    'w'       open for writing, truncating the file first\n",
      "    'x'       create a new file and open it for writing\n",
      "    'a'       open for writing, appending to the end of the file if it exists\n",
      "    'b'       binary mode\n",
      "    't'       text mode (default)\n",
      "    '+'       open a disk file for updating (reading and writing)\n",
      "    ========= ===============================================================\n",
      "\n",
      "    The default mode is 'rt' (open for reading text). For binary random\n",
      "    access, the mode 'w+b' opens and truncates the file to 0 bytes, while\n",
      "    'r+b' opens the file without truncation. The 'x' mode implies 'w' and\n",
      "    raises an `FileExistsError` if the file already exists.\n",
      "\n",
      "    Python distinguishes between files opened in binary and text modes,\n",
      "    even when the underlying operating system doesn't. Files opened in\n",
      "    binary mode (appending 'b' to the mode argument) return contents as\n",
      "    bytes objects without any decoding. In text mode (the default, or when\n",
      "    't' is appended to the mode argument), the contents of the file are\n",
      "    returned as strings, the bytes having been first decoded using a\n",
      "    platform-dependent encoding or using the specified encoding if given.\n",
      "\n",
      "    buffering is an optional integer used to set the buffering policy.\n",
      "    Pass 0 to switch buffering off (only allowed in binary mode), 1 to select\n",
      "    line buffering (only usable in text mode), and an integer > 1 to indicate\n",
      "    the size of a fixed-size chunk buffer.  When no buffering argument is\n",
      "    given, the default buffering policy works as follows:\n",
      "\n",
      "    * Binary files are buffered in fixed-size chunks; the size of the buffer\n",
      "      is chosen using a heuristic trying to determine the underlying device's\n",
      "      \"block size\" and falling back on `io.DEFAULT_BUFFER_SIZE`.\n",
      "      On many systems, the buffer will typically be 4096 or 8192 bytes long.\n",
      "\n",
      "    * \"Interactive\" text files (files for which isatty() returns True)\n",
      "      use line buffering.  Other text files use the policy described above\n",
      "      for binary files.\n",
      "\n",
      "    encoding is the name of the encoding used to decode or encode the\n",
      "    file. This should only be used in text mode. The default encoding is\n",
      "    platform dependent, but any encoding supported by Python can be\n",
      "    passed.  See the codecs module for the list of supported encodings.\n",
      "\n",
      "    errors is an optional string that specifies how encoding errors are to\n",
      "    be handled---this argument should not be used in binary mode. Pass\n",
      "    'strict' to raise a ValueError exception if there is an encoding error\n",
      "    (the default of None has the same effect), or pass 'ignore' to ignore\n",
      "    errors. (Note that ignoring encoding errors can lead to data loss.)\n",
      "    See the documentation for codecs.register or run 'help(codecs.Codec)'\n",
      "    for a list of the permitted encoding error strings.\n",
      "\n",
      "    newline controls how universal newlines works (it only applies to text\n",
      "    mode). It can be None, '', '\\n', '\\r', and '\\r\\n'.  It works as\n",
      "    follows:\n",
      "\n",
      "    * On input, if newline is None, universal newlines mode is\n",
      "      enabled. Lines in the input can end in '\\n', '\\r', or '\\r\\n', and\n",
      "      these are translated into '\\n' before being returned to the\n",
      "      caller. If it is '', universal newline mode is enabled, but line\n",
      "      endings are returned to the caller untranslated. If it has any of\n",
      "      the other legal values, input lines are only terminated by the given\n",
      "      string, and the line ending is returned to the caller untranslated.\n",
      "\n",
      "    * On output, if newline is None, any '\\n' characters written are\n",
      "      translated to the system default line separator, os.linesep. If\n",
      "      newline is '' or '\\n', no translation takes place. If newline is any\n",
      "      of the other legal values, any '\\n' characters written are translated\n",
      "      to the given string.\n",
      "\n",
      "    If closefd is False, the underlying file descriptor will be kept open\n",
      "    when the file is closed. This does not work when a file name is given\n",
      "    and must be True in that case.\n",
      "\n",
      "    A custom opener can be used by passing a callable as *opener*. The\n",
      "    underlying file descriptor for the file object is then obtained by\n",
      "    calling *opener* with (*file*, *flags*). *opener* must return an open\n",
      "    file descriptor (passing os.open as *opener* results in functionality\n",
      "    similar to passing None).\n",
      "\n",
      "    open() returns a file object whose type depends on the mode, and\n",
      "    through which the standard file operations such as reading and writing\n",
      "    are performed. When open() is used to open a file in a text mode ('w',\n",
      "    'r', 'wt', 'rt', etc.), it returns a TextIOWrapper. When used to open\n",
      "    a file in a binary mode, the returned class varies: in read binary\n",
      "    mode, it returns a BufferedReader; in write binary and append binary\n",
      "    modes, it returns a BufferedWriter, and in read/write mode, it returns\n",
      "    a BufferedRandom.\n",
      "\n",
      "    It is also possible to use a string or bytearray as a file for both\n",
      "    reading and writing. For strings StringIO can be used like a file\n",
      "    opened in a text mode, and for bytes a BytesIO can be used like a file\n",
      "    opened in a binary mode.\n",
      "\n"
     ]
    }
   ],
   "source": [
    "help(open)"
   ]
  },
  {
   "cell_type": "markdown",
   "id": "ab359b48",
   "metadata": {},
   "source": [
    "    ========= ===============================================================\n",
    "    Character Meaning\n",
    "    --------- ---------------------------------------------------------------\n",
    "    'r'       open for reading (default)\n",
    "    'w'       open for writing, truncating the file first\n",
    "    'x'       create a new file and open it for writing\n",
    "    'a'       open for writing, appending to the end of the file if it exists\n",
    "    'b'       binary mode\n",
    "    't'       text mode (default)\n",
    "    '+'       open a disk file for updating (reading and writing)\n",
    "    ========= ==============================================================="
   ]
  },
  {
   "cell_type": "code",
   "execution_count": 2,
   "id": "c598e941",
   "metadata": {},
   "outputs": [],
   "source": [
    "with open(\"../datasets/data.txt\") as file:\n",
    "    data = file.read()"
   ]
  },
  {
   "cell_type": "code",
   "execution_count": 3,
   "id": "2337cdc8",
   "metadata": {},
   "outputs": [
    {
     "data": {
      "text/plain": [
       "['-lfmwmkl2mg',\n",
       " 'ergmlñgmgmwñemglwerg',\n",
       " 'werñlgwegmlñwerm',\n",
       " 'werfpwlemglwmer',\n",
       " '}wer',\n",
       " 'gwerfwer',\n",
       " 'g}r}r}wer',\n",
       " 'gwerfwergwer',\n",
       " 'gwerfwewerfwerf',\n",
       " 'wergwerdsvsddafwaefqwfgwer',\n",
       " 'gwerfwerrgwerfwe',\n",
       " 'fvdsds']"
      ]
     },
     "execution_count": 3,
     "metadata": {},
     "output_type": "execute_result"
    }
   ],
   "source": [
    "data.split()"
   ]
  },
  {
   "cell_type": "markdown",
   "id": "2da5cb5e",
   "metadata": {},
   "source": [
    "## Directory listing\n",
    "\n",
    "* `os` module ..."
   ]
  },
  {
   "cell_type": "code",
   "execution_count": 4,
   "id": "737442a0",
   "metadata": {},
   "outputs": [],
   "source": [
    "import os"
   ]
  },
  {
   "cell_type": "code",
   "execution_count": 5,
   "id": "b5551d1c",
   "metadata": {},
   "outputs": [
    {
     "data": {
      "text/plain": [
       "(['.git',\n",
       "  '.gitignore',\n",
       "  'certifications',\n",
       "  'datasets',\n",
       "  'images',\n",
       "  'notebooks',\n",
       "  'notes',\n",
       "  'practice',\n",
       "  'projects',\n",
       "  'readme.md',\n",
       "  'requirements.txt',\n",
       "  'scripts'],\n",
       " list)"
      ]
     },
     "execution_count": 5,
     "metadata": {},
     "output_type": "execute_result"
    }
   ],
   "source": [
    "entries =os.listdir(\"../\")  # list all files and subdirectories of the given path\n",
    "entries, type(entries)"
   ]
  },
  {
   "cell_type": "markdown",
   "id": "4303d754",
   "metadata": {},
   "source": [
    "* `os.scandir` is an alternative to `os.listdir`"
   ]
  },
  {
   "cell_type": "code",
   "execution_count": 6,
   "id": "3cba09c0",
   "metadata": {},
   "outputs": [
    {
     "data": {
      "text/plain": [
       "(<nt.ScandirIterator at 0x1dc01171d70>, nt.ScandirIterator)"
      ]
     },
     "execution_count": 6,
     "metadata": {},
     "output_type": "execute_result"
    }
   ],
   "source": [
    "entries = os.scandir(\"../\")  # returns an iterator pointing to the entries in the directory\n",
    "entries, type(entries)"
   ]
  },
  {
   "cell_type": "code",
   "execution_count": 7,
   "id": "17ffb97d",
   "metadata": {},
   "outputs": [
    {
     "name": "stdout",
     "output_type": "stream",
     "text": [
      ".git\n",
      ".gitignore\n",
      "certifications\n",
      "datasets\n",
      "images\n",
      "notebooks\n",
      "notes\n",
      "practice\n",
      "projects\n",
      "readme.md\n",
      "requirements.txt\n",
      "scripts\n"
     ]
    }
   ],
   "source": [
    "# os.scandir suports the context manager protocol\n",
    "with os.scandir(\"../\") as entries:  \n",
    "    for entry in entries: \n",
    "        print(entry.name)"
   ]
  },
  {
   "cell_type": "markdown",
   "id": "8df63483",
   "metadata": {},
   "source": [
    "* Using `pathlib`"
   ]
  },
  {
   "cell_type": "code",
   "execution_count": 8,
   "id": "dc80c3e2",
   "metadata": {},
   "outputs": [],
   "source": [
    "from pathlib import Path"
   ]
  },
  {
   "cell_type": "code",
   "execution_count": 9,
   "id": "463c8068",
   "metadata": {},
   "outputs": [
    {
     "data": {
      "text/plain": [
       "(WindowsPath('..'), pathlib._local.WindowsPath)"
      ]
     },
     "execution_count": 9,
     "metadata": {},
     "output_type": "execute_result"
    }
   ],
   "source": [
    "entries = Path(\"../\")\n",
    "entries, type(entries)"
   ]
  },
  {
   "cell_type": "code",
   "execution_count": 10,
   "id": "5cca1814",
   "metadata": {},
   "outputs": [
    {
     "name": "stdout",
     "output_type": "stream",
     "text": [
      "..\\.git .git <class 'pathlib._local.WindowsPath'>\n",
      "..\\.gitignore .gitignore <class 'pathlib._local.WindowsPath'>\n",
      "..\\certifications certifications <class 'pathlib._local.WindowsPath'>\n",
      "..\\datasets datasets <class 'pathlib._local.WindowsPath'>\n",
      "..\\images images <class 'pathlib._local.WindowsPath'>\n",
      "..\\notebooks notebooks <class 'pathlib._local.WindowsPath'>\n",
      "..\\notes notes <class 'pathlib._local.WindowsPath'>\n",
      "..\\practice practice <class 'pathlib._local.WindowsPath'>\n",
      "..\\projects projects <class 'pathlib._local.WindowsPath'>\n",
      "..\\readme.md readme.md <class 'pathlib._local.WindowsPath'>\n",
      "..\\requirements.txt requirements.txt <class 'pathlib._local.WindowsPath'>\n",
      "..\\scripts scripts <class 'pathlib._local.WindowsPath'>\n"
     ]
    }
   ],
   "source": [
    "for entry in entries.iterdir(): \n",
    "    print(entry, entry.name, type(entry))"
   ]
  },
  {
   "cell_type": "markdown",
   "id": "c15deb01",
   "metadata": {},
   "source": [
    "* `pathlib.Path(...).iterdir()` doesn't support the context manager protocol"
   ]
  },
  {
   "cell_type": "markdown",
   "id": "71665ef9",
   "metadata": {},
   "source": [
    "| Function                 | Description                                                                     |\n",
    "|--------------------------|---------------------------------------------------------------------------------|\n",
    "| `os.listdir()`           | Returns a list of all files and folders in a directory                         |\n",
    "| `os.scandir()`           | Returns an iterator of all the objects in a directory including file attribute information |\n",
    "| `pathlib.Path.iterdir()` | Returns an iterator of all the objects in a directory including file attribute information |\n"
   ]
  },
  {
   "cell_type": "markdown",
   "id": "574e7be2",
   "metadata": {},
   "source": [
    "### Listing all **files** in a directory"
   ]
  },
  {
   "cell_type": "code",
   "execution_count": 11,
   "id": "d0019425",
   "metadata": {},
   "outputs": [],
   "source": [
    "basepath = \"../\""
   ]
  },
  {
   "cell_type": "markdown",
   "id": "b96e9177",
   "metadata": {},
   "source": [
    "* Using `os.listdir()`"
   ]
  },
  {
   "cell_type": "code",
   "execution_count": 12,
   "id": "12207fce",
   "metadata": {},
   "outputs": [
    {
     "name": "stdout",
     "output_type": "stream",
     "text": [
      ".gitignore\n",
      "readme.md\n",
      "requirements.txt\n"
     ]
    }
   ],
   "source": [
    "for entry in os.listdir(basepath): \n",
    "    if os.path.isfile(os.path.join(basepath, entry)):\n",
    "        # checks if the current basepath+entry es a file \n",
    "        print(entry)"
   ]
  },
  {
   "cell_type": "markdown",
   "id": "ca1ce138",
   "metadata": {},
   "source": [
    "* Using `os.scandir()`"
   ]
  },
  {
   "cell_type": "code",
   "execution_count": 13,
   "id": "931ddf65",
   "metadata": {},
   "outputs": [
    {
     "name": "stdout",
     "output_type": "stream",
     "text": [
      ".gitignore\n",
      "readme.md\n",
      "requirements.txt\n"
     ]
    }
   ],
   "source": [
    "with os.scandir(basepath) as entries: \n",
    "    for entry in entries: \n",
    "        if entry.is_file(): \n",
    "            print(entry.name)"
   ]
  },
  {
   "cell_type": "markdown",
   "id": "c554d52b",
   "metadata": {},
   "source": [
    "* Using `pathlib.Path()`"
   ]
  },
  {
   "cell_type": "code",
   "execution_count": 14,
   "id": "15baed40",
   "metadata": {},
   "outputs": [],
   "source": [
    "basepath = Path(\"../\")\n",
    "files_in_basepath = basepath.iterdir()"
   ]
  },
  {
   "cell_type": "code",
   "execution_count": 15,
   "id": "3525fce7",
   "metadata": {},
   "outputs": [
    {
     "name": "stdout",
     "output_type": "stream",
     "text": [
      ".gitignore\n",
      "readme.md\n",
      "requirements.txt\n"
     ]
    }
   ],
   "source": [
    "for item in files_in_basepath: \n",
    "    if item.is_file(): \n",
    "        print(item.name)"
   ]
  },
  {
   "cell_type": "markdown",
   "id": "89c96c00",
   "metadata": {},
   "source": [
    "## Listing subdirectories"
   ]
  },
  {
   "cell_type": "markdown",
   "id": "1cc785a8",
   "metadata": {},
   "source": [
    "* Using `os.listdir()` and `os.path()`"
   ]
  },
  {
   "cell_type": "code",
   "execution_count": 16,
   "id": "0802e6a8",
   "metadata": {},
   "outputs": [],
   "source": [
    "basepath = \"../\""
   ]
  },
  {
   "cell_type": "code",
   "execution_count": 17,
   "id": "7a0bda8b",
   "metadata": {},
   "outputs": [
    {
     "name": "stdout",
     "output_type": "stream",
     "text": [
      ".git\n",
      "certifications\n",
      "datasets\n",
      "images\n",
      "notebooks\n",
      "notes\n",
      "practice\n",
      "projects\n",
      "scripts\n"
     ]
    }
   ],
   "source": [
    "for entry in os.listdir(basepath):\n",
    "    if os.path.isdir(os.path.join(basepath, entry)):\n",
    "        print(entry)"
   ]
  },
  {
   "cell_type": "code",
   "execution_count": 18,
   "id": "bd48ed8c",
   "metadata": {},
   "outputs": [
    {
     "name": "stdout",
     "output_type": "stream",
     "text": [
      ".git\n",
      "certifications\n",
      "datasets\n",
      "images\n",
      "notebooks\n",
      "notes\n",
      "practice\n",
      "projects\n",
      "scripts\n"
     ]
    }
   ],
   "source": [
    "with os.scandir(basepath) as entries: \n",
    "    for entry in entries: \n",
    "        if entry.is_dir(): print(entry.name)"
   ]
  },
  {
   "cell_type": "markdown",
   "id": "0efdc52e",
   "metadata": {},
   "source": [
    "* Using `pathlib.Path().scandir()`"
   ]
  },
  {
   "cell_type": "code",
   "execution_count": 19,
   "id": "e393a822",
   "metadata": {},
   "outputs": [
    {
     "name": "stdout",
     "output_type": "stream",
     "text": [
      ".git\n",
      "certifications\n",
      "datasets\n",
      "images\n",
      "notebooks\n",
      "notes\n",
      "practice\n",
      "projects\n",
      "scripts\n"
     ]
    }
   ],
   "source": [
    "basepath = Path(\"../\")\n",
    "entries = basepath.iterdir()\n",
    "\n",
    "for entry in entries: \n",
    "    if entry.is_dir(): print(entry.name)"
   ]
  },
  {
   "cell_type": "markdown",
   "id": "172c6a64",
   "metadata": {},
   "source": [
    "## Getting file atributes\n",
    "\n",
    "* We can get information of a file, such as size and modified times easy. "
   ]
  },
  {
   "cell_type": "code",
   "execution_count": 20,
   "id": "042fdfca",
   "metadata": {},
   "outputs": [
    {
     "name": "stdout",
     "output_type": "stream",
     "text": [
      ".git 1757364826.4669695\n",
      ".gitignore 1757452584.921516\n",
      "certifications 1757265203.999761\n",
      "datasets 1757446959.244487\n",
      "images 1757369331.2478101\n",
      "notebooks 1757452378.0220563\n",
      "notes 1757357356.1709347\n",
      "practice 1757364894.3521965\n",
      "projects 1755886436.210866\n",
      "readme.md 1755886491.9523795\n",
      "requirements.txt 1755886751.089005\n",
      "scripts 1757449113.376423\n"
     ]
    }
   ],
   "source": [
    "with os.scandir(\"../\") as dir_contents: \n",
    "    for entry in dir_contents: \n",
    "        info = entry.stat()\n",
    "        #print(type(info))  # returns a os.stat_result\n",
    "        print(entry.name, info.st_mtime)  # print the time of the files was last modified in seconds"
   ]
  },
  {
   "cell_type": "markdown",
   "id": "739e0411",
   "metadata": {},
   "source": [
    "* Using `pathlib.Path().iterdir()`"
   ]
  },
  {
   "cell_type": "code",
   "execution_count": 21,
   "id": "8ce2330c",
   "metadata": {},
   "outputs": [
    {
     "name": "stdout",
     "output_type": "stream",
     "text": [
      ".git 1757364826.4669695\n",
      ".gitignore 1757452584.921516\n",
      "certifications 1757265203.999761\n",
      "datasets 1757446959.244487\n",
      "images 1757369331.2478101\n",
      "notebooks 1757452378.0220563\n",
      "notes 1757357356.1709347\n",
      "practice 1757364894.3521965\n",
      "projects 1755886436.210866\n",
      "readme.md 1755886491.9523795\n",
      "requirements.txt 1755886751.089005\n",
      "scripts 1757449113.376423\n"
     ]
    }
   ],
   "source": [
    "current_dir = Path(\"../\")\n",
    "for path in current_dir.iterdir():\n",
    "    info = path.stat()\n",
    "    print(path.name, info.st_mtime)"
   ]
  },
  {
   "cell_type": "markdown",
   "id": "50ee87d1",
   "metadata": {},
   "source": [
    "## Making directories\n",
    "\n",
    "|Function | Description|\n",
    "|---------|-------------|\n",
    "|os.mkdir() | Creates a single subdirectory|\n",
    "|pathlib.Path.mkdir() | Creates single or multiple directories|\n",
    "|os.makedirs() | Creates multiple directories, including intermediate directories|"
   ]
  },
  {
   "cell_type": "markdown",
   "id": "d693b6ca",
   "metadata": {},
   "source": [
    "* Creating a single dir"
   ]
  },
  {
   "cell_type": "code",
   "execution_count": 24,
   "id": "a456f001",
   "metadata": {},
   "outputs": [],
   "source": [
    "#os.mkdir(\"example_dir\")"
   ]
  },
  {
   "cell_type": "code",
   "execution_count": 25,
   "id": "816dc2a7",
   "metadata": {},
   "outputs": [
    {
     "data": {
      "text/plain": [
       "True"
      ]
     },
     "execution_count": 25,
     "metadata": {},
     "output_type": "execute_result"
    }
   ],
   "source": [
    "\"example_dir\" in os.listdir(\".\")"
   ]
  },
  {
   "cell_type": "code",
   "execution_count": 26,
   "id": "de25ab20",
   "metadata": {},
   "outputs": [],
   "source": [
    "#os.mkdir(\"example_dir\")  # raises an FileExistingError"
   ]
  },
  {
   "cell_type": "code",
   "execution_count": 28,
   "id": "5108bc97",
   "metadata": {},
   "outputs": [],
   "source": [
    "p = Path(\"second_example_dir\")\n",
    "p.mkdir(exist_ok=True)"
   ]
  },
  {
   "cell_type": "code",
   "execution_count": 29,
   "id": "918d4f4a",
   "metadata": {},
   "outputs": [
    {
     "data": {
      "text/plain": [
       "True"
      ]
     },
     "execution_count": 29,
     "metadata": {},
     "output_type": "execute_result"
    }
   ],
   "source": [
    "p.name in os.listdir(\".\")"
   ]
  },
  {
   "cell_type": "code",
   "execution_count": 30,
   "id": "4ff5993c",
   "metadata": {},
   "outputs": [
    {
     "name": "stdout",
     "output_type": "stream",
     "text": [
      "[WinError 183] No se puede crear un archivo que ya existe: 'second_example_dir'\n"
     ]
    }
   ],
   "source": [
    "# p.mkdir()  # raises a FileExistingError\n",
    "\n",
    "# We can catch the error as follows:\n",
    "try: \n",
    "    p.mkdir()\n",
    "except FileExistsError as exc: \n",
    "    print(exc)\n"
   ]
  },
  {
   "cell_type": "code",
   "execution_count": 31,
   "id": "fc30dc90",
   "metadata": {},
   "outputs": [
    {
     "data": {
      "text/plain": [
       "True"
      ]
     },
     "execution_count": 31,
     "metadata": {},
     "output_type": "execute_result"
    }
   ],
   "source": [
    "# Alternativelly: \n",
    "p = Path(\"dir\")\n",
    "p.mkdir(exist_ok=True)\n",
    "p.name in os.listdir()"
   ]
  },
  {
   "cell_type": "code",
   "execution_count": 32,
   "id": "9225f204",
   "metadata": {},
   "outputs": [],
   "source": [
    "p.mkdir(exist_ok=True)"
   ]
  },
  {
   "cell_type": "code",
   "execution_count": 33,
   "id": "a7ec1345",
   "metadata": {},
   "outputs": [
    {
     "name": "stdout",
     "output_type": "stream",
     "text": [
      "admin.py\n",
      "data_01.txt\n",
      "data_01_backup.txt\n",
      "data_02.txt\n",
      "data_02_backup.txt\n",
      "data_03.txt\n",
      "data_03_backup.txt\n",
      "sub_dir\n",
      "tests.py\n"
     ]
    }
   ],
   "source": [
    "p = Path(\"some_directory\")\n",
    "for item in p.iterdir(): \n",
    "    print(item.name)"
   ]
  },
  {
   "cell_type": "markdown",
   "id": "6e5ef364",
   "metadata": {},
   "source": [
    "## Filename Pattern Matching"
   ]
  },
  {
   "cell_type": "markdown",
   "id": "7d040dc8",
   "metadata": {},
   "source": [
    "### String methods\n",
    "\n",
    "* There are multiple string methods, the most useful when finding a string are `.endswith()`, `.startswith()`"
   ]
  },
  {
   "cell_type": "code",
   "execution_count": 34,
   "id": "8d2b4dd6",
   "metadata": {},
   "outputs": [
    {
     "name": "stdout",
     "output_type": "stream",
     "text": [
      "data_01.txt\n",
      "data_01_backup.txt\n",
      "data_02.txt\n",
      "data_02_backup.txt\n",
      "data_03.txt\n",
      "data_03_backup.txt\n"
     ]
    }
   ],
   "source": [
    "for f_name in os.listdir(\"some_directory\"): \n",
    "    if f_name.endswith('.txt'): \n",
    "        print(f_name)"
   ]
  },
  {
   "cell_type": "code",
   "execution_count": 35,
   "id": "32eb461d",
   "metadata": {},
   "outputs": [
    {
     "name": "stdout",
     "output_type": "stream",
     "text": [
      "admin.py\n",
      "tests.py\n"
     ]
    }
   ],
   "source": [
    "for f_name in os.listdir(\"some_directory\"): \n",
    "    if f_name.endswith('.py'): \n",
    "        print(f_name)"
   ]
  },
  {
   "cell_type": "code",
   "execution_count": 36,
   "id": "ea862137",
   "metadata": {},
   "outputs": [
    {
     "name": "stdout",
     "output_type": "stream",
     "text": [
      "data_01.txt\n",
      "data_01_backup.txt\n",
      "data_02.txt\n",
      "data_02_backup.txt\n",
      "data_03.txt\n",
      "data_03_backup.txt\n"
     ]
    }
   ],
   "source": [
    "for f_name in os.listdir(\"some_directory\"): \n",
    "    if f_name.startswith('data'): print(f_name)"
   ]
  },
  {
   "cell_type": "markdown",
   "id": "0fb89990",
   "metadata": {},
   "source": [
    "### Using `fnmatch`\n",
    "\n",
    "* `fnmatch` has advenced methods for pattern matching\n",
    "* `fnmatch.fnmatch()` supports regex wildcards"
   ]
  },
  {
   "cell_type": "code",
   "execution_count": 37,
   "id": "4c487290",
   "metadata": {},
   "outputs": [],
   "source": [
    "import fnmatch"
   ]
  },
  {
   "cell_type": "code",
   "execution_count": 38,
   "id": "805fa62c",
   "metadata": {},
   "outputs": [
    {
     "name": "stdout",
     "output_type": "stream",
     "text": [
      "data_01.txt\n",
      "data_01_backup.txt\n",
      "data_02.txt\n",
      "data_02_backup.txt\n",
      "data_03.txt\n",
      "data_03_backup.txt\n"
     ]
    }
   ],
   "source": [
    "for file_name in os.listdir(\"some_directory\"): \n",
    "    if fnmatch.fnmatch(file_name, \"*.txt\"): \n",
    "        print(file_name)"
   ]
  },
  {
   "cell_type": "markdown",
   "id": "9e1aa120",
   "metadata": {},
   "source": [
    "### Advanced pattern matching"
   ]
  },
  {
   "cell_type": "code",
   "execution_count": 39,
   "id": "3d8b7ba1",
   "metadata": {},
   "outputs": [
    {
     "name": "stdout",
     "output_type": "stream",
     "text": [
      "data_01_backup.txt\n",
      "data_02_backup.txt\n",
      "data_03_backup.txt\n"
     ]
    }
   ],
   "source": [
    "# printing only backup data\n",
    "for file_name in os.listdir(\"some_directory/\"):\n",
    "    if fnmatch.fnmatch(file_name, \"data_*_backup.txt\"): \n",
    "        print(file_name)"
   ]
  },
  {
   "cell_type": "markdown",
   "id": "a991b469",
   "metadata": {},
   "source": [
    "### Using glob\n",
    "\n",
    "* `glob` python module allow us to work with glob UNIX patterns"
   ]
  },
  {
   "cell_type": "code",
   "execution_count": 40,
   "id": "e79ba319",
   "metadata": {},
   "outputs": [],
   "source": [
    "import glob"
   ]
  },
  {
   "cell_type": "code",
   "execution_count": 41,
   "id": "80df3395",
   "metadata": {},
   "outputs": [
    {
     "data": {
      "text/plain": [
       "(list,\n",
       " ['01-importing_data.ipynb',\n",
       "  '02-importing_data.ipynb',\n",
       "  'cleaning_data.ipynb',\n",
       "  'data_manipulation_with_pandas.ipynb',\n",
       "  'downloading_data.ipynb',\n",
       "  'intro_seaborn.ipynb',\n",
       "  'working_with_files.ipynb',\n",
       "  'working_with_pd-dates.ipynb',\n",
       "  'zip_files.ipynb'])"
      ]
     },
     "execution_count": 41,
     "metadata": {},
     "output_type": "execute_result"
    }
   ],
   "source": [
    "notebooks = glob.glob(\"*.ipynb\")\n",
    "type(notebooks), notebooks "
   ]
  },
  {
   "cell_type": "markdown",
   "id": "759f61b0",
   "metadata": {},
   "source": [
    "* `glob.glob()` returns a `list` with all paths matching the pattern"
   ]
  },
  {
   "cell_type": "code",
   "execution_count": 42,
   "id": "76573f59",
   "metadata": {},
   "outputs": [
    {
     "data": {
      "text/plain": [
       "['some_directory\\\\admin.py', 'some_directory\\\\tests.py']"
      ]
     },
     "execution_count": 42,
     "metadata": {},
     "output_type": "execute_result"
    }
   ],
   "source": [
    "glob.glob(\"some_directory/*.py\")"
   ]
  },
  {
   "cell_type": "code",
   "execution_count": 43,
   "id": "0ad363dc",
   "metadata": {},
   "outputs": [
    {
     "name": "stdout",
     "output_type": "stream",
     "text": [
      "data_01.txt\n",
      "data_01_backup.txt\n",
      "data_02.txt\n",
      "data_02_backup.txt\n",
      "data_03.txt\n",
      "data_03_backup.txt\n"
     ]
    }
   ],
   "source": [
    "for name in glob.glob(\"*[0-9]*.txt\", root_dir=\"some_directory\"): \n",
    "    print(name)"
   ]
  },
  {
   "cell_type": "markdown",
   "id": "f8c4bf64",
   "metadata": {},
   "source": [
    "* Searching patterns on subdirectories recursively"
   ]
  },
  {
   "cell_type": "code",
   "execution_count": 44,
   "id": "d04bdc7a",
   "metadata": {},
   "outputs": [
    {
     "name": "stdout",
     "output_type": "stream",
     "text": [
      "admin.py\n",
      "tests.py\n",
      "sub_dir\\file1.py\n",
      "sub_dir\\file2.py\n"
     ]
    }
   ],
   "source": [
    "for name in glob.iglob(\"**/*.py\", recursive=True, root_dir=\"some_directory\"): \n",
    "    print(name)"
   ]
  },
  {
   "cell_type": "markdown",
   "id": "06e4b3a4",
   "metadata": {},
   "source": [
    "* `iglob()` returns an iterator instad of a list given by `glob()`"
   ]
  },
  {
   "cell_type": "markdown",
   "id": "1e3d551e",
   "metadata": {},
   "source": [
    "#### Using `pathlib.Path().glob`"
   ]
  },
  {
   "cell_type": "code",
   "execution_count": 45,
   "id": "bd90705f",
   "metadata": {},
   "outputs": [],
   "source": [
    "p = Path(\"./some_directory/\")"
   ]
  },
  {
   "cell_type": "code",
   "execution_count": 46,
   "id": "f85ac17f",
   "metadata": {},
   "outputs": [
    {
     "name": "stdout",
     "output_type": "stream",
     "text": [
      "admin.py\n",
      "data_01.txt\n",
      "data_01_backup.txt\n",
      "data_02.txt\n",
      "data_02_backup.txt\n",
      "data_03.txt\n",
      "data_03_backup.txt\n",
      "sub_dir\n",
      "tests.py\n"
     ]
    }
   ],
   "source": [
    "for item in p.iterdir(): print(item.name)"
   ]
  },
  {
   "cell_type": "markdown",
   "id": "6579bb89",
   "metadata": {},
   "source": [
    "* `pathlib.Path().glob()` returns a generator that points to all files in the curr dir"
   ]
  },
  {
   "cell_type": "code",
   "execution_count": 47,
   "id": "4142a03a",
   "metadata": {},
   "outputs": [
    {
     "name": "stdout",
     "output_type": "stream",
     "text": [
      "some_directory\\admin.py\n",
      "some_directory\\tests.py\n"
     ]
    }
   ],
   "source": [
    "for name in p.glob(\"*.p*\"):\n",
    "    print(name)"
   ]
  },
  {
   "cell_type": "markdown",
   "id": "b90bec12",
   "metadata": {},
   "source": [
    "## Traversing directories and processing files\n",
    "\n",
    "* A common programming task is walking a directory tree and processing files in the tree. \n",
    "* We use `os.walk()`"
   ]
  },
  {
   "cell_type": "code",
   "execution_count": 48,
   "id": "216cf56a",
   "metadata": {},
   "outputs": [
    {
     "name": "stdout",
     "output_type": "stream",
     "text": [
      "Found dir: ./some_directory/\n",
      "admin.py\n",
      "data_01.txt\n",
      "data_01_backup.txt\n",
      "data_02.txt\n",
      "data_02_backup.txt\n",
      "data_03.txt\n",
      "data_03_backup.txt\n",
      "tests.py\n",
      "Found dir: ./some_directory/sub_dir\n",
      "file1.py\n",
      "file2.py\n"
     ]
    }
   ],
   "source": [
    "for dirpath, dirnames, files in os.walk(\"./some_directory/\"):\n",
    "    print(f'Found dir: {dirpath}')\n",
    "    for file_name in files: \n",
    "        print(file_name)"
   ]
  },
  {
   "cell_type": "markdown",
   "id": "f1b7e2d7",
   "metadata": {},
   "source": [
    "* `os.walk()` returns three values on each iteration of the loop:\n",
    "\n",
    "    1. The name of the current folder\n",
    "\n",
    "    2. A list of folders in the current folder\n",
    "\n",
    "    3. A list of files in the current folder"
   ]
  },
  {
   "cell_type": "markdown",
   "id": "fda812b4",
   "metadata": {},
   "source": [
    "## Temporary files and directories\n",
    "\n",
    "* we can create temp files used when the program is running"
   ]
  },
  {
   "cell_type": "code",
   "execution_count": 49,
   "id": "b2493c38",
   "metadata": {},
   "outputs": [],
   "source": [
    "from tempfile import TemporaryFile, NamedTemporaryFile, TemporaryDirectory"
   ]
  },
  {
   "cell_type": "code",
   "execution_count": 50,
   "id": "65632c1f",
   "metadata": {},
   "outputs": [],
   "source": [
    "fp = TemporaryFile('w+t')\n",
    "\n",
    "fp.write('Hello universe!\\n')\n",
    "fp.write('This is a new line.\\n')\n",
    "fp.seek(0)\n",
    "data = fp.read()\n",
    "fp.close()"
   ]
  },
  {
   "cell_type": "code",
   "execution_count": 51,
   "id": "6bf7aaf9",
   "metadata": {},
   "outputs": [
    {
     "name": "stdout",
     "output_type": "stream",
     "text": [
      "Hello universe!\n",
      "This is a new line.\n",
      " <class 'str'>\n"
     ]
    }
   ],
   "source": [
    "print(data, type(data))"
   ]
  },
  {
   "cell_type": "markdown",
   "id": "fe8949a0",
   "metadata": {},
   "source": [
    "* `tempfile` objects are contexts"
   ]
  },
  {
   "cell_type": "code",
   "execution_count": 52,
   "id": "2c74c474",
   "metadata": {},
   "outputs": [
    {
     "name": "stdout",
     "output_type": "stream",
     "text": [
      "C:\\Users\\isaul\\AppData\\Local\\Temp\\tmp0r9hjkjg\n",
      "Hello universe!\n",
      "holaholahloa\n"
     ]
    }
   ],
   "source": [
    "with TemporaryFile('w+t') as fp:\n",
    "    fp.write('Hello universe!\\n')\n",
    "    fp.write('holaholahloa')\n",
    "    fp.seek(0)\n",
    "    print(fp.name)\n",
    "    print(fp.read())\n",
    "# File is now closed and removed"
   ]
  },
  {
   "cell_type": "code",
   "execution_count": 53,
   "id": "f1546789",
   "metadata": {},
   "outputs": [
    {
     "name": "stdout",
     "output_type": "stream",
     "text": [
      "Temporary file created at: C:\\Users\\isaul\\AppData\\Local\\Temp\\tmp780wdni7\n"
     ]
    }
   ],
   "source": [
    "with NamedTemporaryFile(mode='w', delete=True) as tf: \n",
    "    tf.write('Test message\\n')\n",
    "    tf.write('Test message\\n')\n",
    "    tf.write('Test message\\n')\n",
    "    tf.write('Test message\\n')\n",
    "\n",
    "    temp_file_name = tf.name\n",
    "    print(f\"Temporary file created at: {temp_file_name}\")\n",
    "    # with open(temp_file_name, 'r') as f_read: \n",
    "    #     content = f_read.read()\n",
    "    #     print('Content of the temp file:\\n', content)\n"
   ]
  },
  {
   "cell_type": "markdown",
   "id": "f0b4a93c",
   "metadata": {},
   "source": [
    "* Temp dirs"
   ]
  },
  {
   "cell_type": "code",
   "execution_count": 54,
   "id": "d454390e",
   "metadata": {},
   "outputs": [
    {
     "name": "stdout",
     "output_type": "stream",
     "text": [
      "created temp dir:  C:\\Users\\isaul\\AppData\\Local\\Temp\\tmp5i14pmg5\n",
      "True\n"
     ]
    }
   ],
   "source": [
    "with TemporaryDirectory() as tmpdir: \n",
    "    print('created temp dir: ', tmpdir)\n",
    "    print(os.path.exists(tmpdir))"
   ]
  },
  {
   "cell_type": "markdown",
   "id": "88c8096b",
   "metadata": {},
   "source": [
    "## Deleting files and directories"
   ]
  },
  {
   "cell_type": "markdown",
   "id": "0170cca1",
   "metadata": {},
   "source": [
    "### Deleting files"
   ]
  },
  {
   "cell_type": "code",
   "execution_count": 58,
   "id": "a4c4e553",
   "metadata": {},
   "outputs": [
    {
     "name": "stdout",
     "output_type": "stream",
     "text": [
      "admin.py\n",
      "data.txt\n",
      "data_01.txt\n",
      "data_01_backup.txt\n",
      "data_02.txt\n",
      "data_02_backup.txt\n",
      "data_03.txt\n",
      "data_03_backup.txt\n",
      "sub_dir\n",
      "tests.py\n"
     ]
    }
   ],
   "source": [
    "for item in p.iterdir(): \n",
    "    print(item.name)"
   ]
  },
  {
   "cell_type": "code",
   "execution_count": 60,
   "id": "c5c61e11",
   "metadata": {},
   "outputs": [
    {
     "name": "stdout",
     "output_type": "stream",
     "text": [
      "some_directory\\data.txt\n"
     ]
    }
   ],
   "source": [
    "data_file = p.joinpath(\"data.txt\")\n",
    "print(data_file)"
   ]
  },
  {
   "cell_type": "code",
   "execution_count": 61,
   "id": "fb5b4b56",
   "metadata": {},
   "outputs": [],
   "source": [
    "os.remove(data_file)"
   ]
  },
  {
   "cell_type": "code",
   "execution_count": 62,
   "id": "ccb593e0",
   "metadata": {},
   "outputs": [
    {
     "data": {
      "text/plain": [
       "False"
      ]
     },
     "execution_count": 62,
     "metadata": {},
     "output_type": "execute_result"
    }
   ],
   "source": [
    "data_file in p.iterdir()"
   ]
  },
  {
   "cell_type": "markdown",
   "id": "33b3c7dd",
   "metadata": {},
   "source": [
    "* File doesn't exist anymore"
   ]
  },
  {
   "cell_type": "code",
   "execution_count": 63,
   "id": "865897ca",
   "metadata": {},
   "outputs": [
    {
     "name": "stdout",
     "output_type": "stream",
     "text": [
      "<class 'FileNotFoundError'> [WinError 2] El sistema no puede encontrar el archivo especificado: 'some_directory\\\\data.txt'\n"
     ]
    }
   ],
   "source": [
    "try: \n",
    "    os.remove(data_file)\n",
    "except Exception as e: \n",
    "    print(type(e), e)"
   ]
  },
  {
   "cell_type": "markdown",
   "id": "dc6b137b",
   "metadata": {},
   "source": [
    "* what happens if the file is a directory?"
   ]
  },
  {
   "cell_type": "code",
   "execution_count": 64,
   "id": "af383dca",
   "metadata": {},
   "outputs": [
    {
     "name": "stdout",
     "output_type": "stream",
     "text": [
      "some_directory\\sub_dir\n"
     ]
    }
   ],
   "source": [
    "dir_path = p.joinpath(\"sub_dir\")\n",
    "print(dir_path)"
   ]
  },
  {
   "cell_type": "code",
   "execution_count": 65,
   "id": "e8cd7617",
   "metadata": {},
   "outputs": [
    {
     "name": "stdout",
     "output_type": "stream",
     "text": [
      "<class 'PermissionError'> [WinError 5] Acceso denegado: 'some_directory\\\\sub_dir'\n"
     ]
    }
   ],
   "source": [
    "try: \n",
    "    os.remove(dir_path)\n",
    "except Exception as e: \n",
    "    print(type(e), e)"
   ]
  },
  {
   "cell_type": "code",
   "execution_count": 68,
   "id": "f67c69e0",
   "metadata": {},
   "outputs": [
    {
     "data": {
      "text/plain": [
       "(True, False)"
      ]
     },
     "execution_count": 68,
     "metadata": {},
     "output_type": "execute_result"
    }
   ],
   "source": [
    "os.path.isfile(p.joinpath(\"admin.py\")), os.path.isfile(dir_path)"
   ]
  },
  {
   "cell_type": "markdown",
   "id": "eb399c82",
   "metadata": {},
   "source": [
    "### Deleting directories\n",
    "\n",
    "* we can use: \n",
    "    * `os.rmdir()`\n",
    "    * `pathlib.Path().rmdir()`\n",
    "    * `shutil.rmtree()`"
   ]
  },
  {
   "cell_type": "code",
   "execution_count": 71,
   "id": "69babf84",
   "metadata": {},
   "outputs": [
    {
     "data": {
      "text/plain": [
       "WindowsPath('some_directory')"
      ]
     },
     "execution_count": 71,
     "metadata": {},
     "output_type": "execute_result"
    }
   ],
   "source": [
    "p"
   ]
  },
  {
   "cell_type": "code",
   "execution_count": 79,
   "id": "1e710f77",
   "metadata": {},
   "outputs": [],
   "source": [
    "empty_dir = p.joinpath(\"empty\")\n",
    "empty_dir.mkdir(exist_ok=True)"
   ]
  },
  {
   "cell_type": "code",
   "execution_count": 81,
   "id": "f320892c",
   "metadata": {},
   "outputs": [
    {
     "data": {
      "text/plain": [
       "True"
      ]
     },
     "execution_count": 81,
     "metadata": {},
     "output_type": "execute_result"
    }
   ],
   "source": [
    "empty_dir in p.iterdir()"
   ]
  },
  {
   "cell_type": "code",
   "execution_count": 82,
   "id": "1de1d8b4",
   "metadata": {},
   "outputs": [],
   "source": [
    "empty_dir.rmdir()"
   ]
  },
  {
   "cell_type": "code",
   "execution_count": 83,
   "id": "2ba85c54",
   "metadata": {},
   "outputs": [
    {
     "data": {
      "text/plain": [
       "False"
      ]
     },
     "execution_count": 83,
     "metadata": {},
     "output_type": "execute_result"
    }
   ],
   "source": [
    "empty_dir in p.iterdir()"
   ]
  },
  {
   "cell_type": "code",
   "execution_count": 75,
   "id": "5f291f86",
   "metadata": {},
   "outputs": [],
   "source": [
    "trash_dir = Path(\"some_directory/trash_dir\")\n",
    "trash_dir.mkdir(exist_ok=True)"
   ]
  },
  {
   "cell_type": "code",
   "execution_count": 76,
   "id": "73a19cd2",
   "metadata": {},
   "outputs": [
    {
     "data": {
      "text/plain": [
       "True"
      ]
     },
     "execution_count": 76,
     "metadata": {},
     "output_type": "execute_result"
    }
   ],
   "source": [
    "trash_dir in p.iterdir()"
   ]
  },
  {
   "cell_type": "code",
   "execution_count": 77,
   "id": "0c9ff4cc",
   "metadata": {},
   "outputs": [
    {
     "name": "stdout",
     "output_type": "stream",
     "text": [
      "some_directory\\trash_dir\\a.txt\n",
      "some_directory\\trash_dir\\b.txt\n"
     ]
    }
   ],
   "source": [
    "for x in trash_dir.iterdir(): print(x)"
   ]
  },
  {
   "cell_type": "markdown",
   "id": "2ccdd2ab",
   "metadata": {},
   "source": [
    "* Non-empty dirs cannot be deleted"
   ]
  },
  {
   "cell_type": "code",
   "execution_count": 78,
   "id": "dbf7836c",
   "metadata": {},
   "outputs": [
    {
     "name": "stdout",
     "output_type": "stream",
     "text": [
      "<class 'OSError'> [WinError 145] El directorio no está vacío: 'some_directory\\\\trash_dir'\n"
     ]
    }
   ],
   "source": [
    "try: \n",
    "    os.rmdir(trash_dir)\n",
    "except Exception as e: \n",
    "    print(type(e), e)"
   ]
  },
  {
   "cell_type": "markdown",
   "id": "6ef2acc8",
   "metadata": {},
   "source": [
    "### Deleting entire directory trees"
   ]
  },
  {
   "cell_type": "code",
   "execution_count": 84,
   "id": "9ded8afd",
   "metadata": {},
   "outputs": [],
   "source": [
    "import shutil"
   ]
  },
  {
   "cell_type": "code",
   "execution_count": 85,
   "id": "92797047",
   "metadata": {},
   "outputs": [
    {
     "data": {
      "text/plain": [
       "WindowsPath('some_directory/trash_dir')"
      ]
     },
     "execution_count": 85,
     "metadata": {},
     "output_type": "execute_result"
    }
   ],
   "source": [
    "trash_dir"
   ]
  },
  {
   "cell_type": "code",
   "execution_count": 86,
   "id": "3193037f",
   "metadata": {},
   "outputs": [],
   "source": [
    "try: \n",
    "    shutil.rmtree(trash_dir)\n",
    "except Exception as e: \n",
    "    print(type(e), e)"
   ]
  },
  {
   "cell_type": "code",
   "execution_count": 87,
   "id": "293eafb3",
   "metadata": {},
   "outputs": [
    {
     "data": {
      "text/plain": [
       "False"
      ]
     },
     "execution_count": 87,
     "metadata": {},
     "output_type": "execute_result"
    }
   ],
   "source": [
    "trash_dir in p.iterdir()"
   ]
  },
  {
   "cell_type": "markdown",
   "id": "26efdb28",
   "metadata": {},
   "source": [
    "|Function | Description|\n",
    "|---------|-------------|\n",
    "|os.remove() | Deletes a file and does not delete directories|\n",
    "|os.unlink()|Is identical to os.remove() and deletes a single file|\n",
    "|pathlib.Path.unlink()|Deletes a file and cannot delete directories|\n",
    "|os.rmdir()|Deletes an empty directory|\n",
    "|pathlib.Path.rmdir()|Deletes an empty directory|\n",
    "|shutil.rmtree()|Deletes entire directory tree and can be used to delete non-empty directories|"
   ]
  },
  {
   "cell_type": "markdown",
   "id": "f8a6b33e",
   "metadata": {},
   "source": [
    "## Copying "
   ]
  },
  {
   "cell_type": "markdown",
   "id": "7cde0bb7",
   "metadata": {},
   "source": [
    "### Files"
   ]
  },
  {
   "cell_type": "code",
   "execution_count": 88,
   "id": "a62334dd",
   "metadata": {},
   "outputs": [
    {
     "data": {
      "text/plain": [
       "'some_directory/subdir'"
      ]
     },
     "execution_count": 88,
     "metadata": {},
     "output_type": "execute_result"
    }
   ],
   "source": [
    "src = \"dir/datitos.txt\"\n",
    "dst = \"some_directory/subdir\"\n",
    "\n",
    "shutil.copy(src, dst)"
   ]
  },
  {
   "cell_type": "markdown",
   "id": "cece2719",
   "metadata": {},
   "source": [
    "### Dirs"
   ]
  },
  {
   "cell_type": "code",
   "execution_count": 96,
   "id": "01806430",
   "metadata": {},
   "outputs": [
    {
     "data": {
      "text/plain": [
       "'some_directory/'"
      ]
     },
     "execution_count": 96,
     "metadata": {},
     "output_type": "execute_result"
    }
   ],
   "source": [
    "shutil.copytree(\"backup/\", \"some_directory/\", dirs_exist_ok=True)"
   ]
  },
  {
   "cell_type": "code",
   "execution_count": 97,
   "id": "27969a98",
   "metadata": {},
   "outputs": [],
   "source": [
    "shutil.rmtree(\"backup/\")"
   ]
  },
  {
   "cell_type": "markdown",
   "id": "1093537c",
   "metadata": {},
   "source": [
    "## Archiving - ZIP Files"
   ]
  },
  {
   "cell_type": "code",
   "execution_count": 98,
   "id": "635943e9",
   "metadata": {},
   "outputs": [],
   "source": [
    "import zipfile"
   ]
  },
  {
   "cell_type": "code",
   "execution_count": 100,
   "id": "52dcde5b",
   "metadata": {},
   "outputs": [
    {
     "data": {
      "text/plain": [
       "(WindowsPath('some_directory/ziped.zip'), True)"
      ]
     },
     "execution_count": 100,
     "metadata": {},
     "output_type": "execute_result"
    }
   ],
   "source": [
    "zip_path = Path(\"some_directory/ziped.zip\")\n",
    "zip_path, zip_path.is_file()"
   ]
  },
  {
   "cell_type": "code",
   "execution_count": 110,
   "id": "a8a7a355",
   "metadata": {},
   "outputs": [
    {
     "name": "stdout",
     "output_type": "stream",
     "text": [
      "['sub_dir/', 'sub_dir/bar.py', 'sub_dir/foo.py', 'file1.py', 'file2.py', 'file3.py']\n",
      "File Name: sub_dir/bar.py\n",
      "Uncompressed Size: 9 bytes\n",
      "Compressed Size: 9 bytes\n",
      "Compression Method: 0\n"
     ]
    }
   ],
   "source": [
    "with zipfile.ZipFile(zip_path, 'r') as zipobj: \n",
    "    print(zipobj.namelist())\n",
    "    bar_info = zipobj.getinfo(\"sub_dir/bar.py\")\n",
    "    print(f\"File Name: {bar_info.filename}\")\n",
    "    print(f\"Uncompressed Size: {bar_info.file_size} bytes\")\n",
    "    print(f\"Compressed Size: {bar_info.compress_size} bytes\")\n",
    "    print(f\"Compression Method: {bar_info.compress_type}\")\n"
   ]
  },
  {
   "cell_type": "code",
   "execution_count": 112,
   "id": "2e42ac6e",
   "metadata": {},
   "outputs": [
    {
     "name": "stdout",
     "output_type": "stream",
     "text": [
      "Member: sub_dir/, Size: 0\n",
      "Member: sub_dir/bar.py, Size: 9\n",
      "Member: sub_dir/foo.py, Size: 9\n",
      "Member: file1.py, Size: 11\n",
      "Member: file2.py, Size: 11\n",
      "Member: file3.py, Size: 11\n"
     ]
    }
   ],
   "source": [
    "with zipfile.ZipFile(zip_path) as my_zip: \n",
    "    for member in my_zip.infolist(): \n",
    "        print(f'Member: {member.filename}, Size: {member.file_size}')"
   ]
  },
  {
   "cell_type": "markdown",
   "id": "ccd372f7",
   "metadata": {},
   "source": [
    "### Extracting ZIP Archives"
   ]
  },
  {
   "cell_type": "code",
   "execution_count": 113,
   "id": "994b5820",
   "metadata": {},
   "outputs": [],
   "source": [
    "data_zip = zipfile.ZipFile(zip_path, 'r')"
   ]
  },
  {
   "cell_type": "code",
   "execution_count": 116,
   "id": "bcb0c6b1",
   "metadata": {},
   "outputs": [
    {
     "data": {
      "text/plain": [
       "'some_directory\\\\unziped\\\\file1.py'"
      ]
     },
     "execution_count": 116,
     "metadata": {},
     "output_type": "execute_result"
    }
   ],
   "source": [
    "data_zip.extract('file1.py', path=\"some_directory/unziped/\")"
   ]
  },
  {
   "cell_type": "code",
   "execution_count": 117,
   "id": "8bc959c2",
   "metadata": {},
   "outputs": [],
   "source": [
    "os.remove(\"some_directory/unziped/file1.py\")"
   ]
  },
  {
   "cell_type": "code",
   "execution_count": 118,
   "id": "0cade709",
   "metadata": {},
   "outputs": [],
   "source": [
    "data_zip.extractall(path=\"some_directory/unziped/\")"
   ]
  },
  {
   "cell_type": "code",
   "execution_count": 119,
   "id": "c55ef66f",
   "metadata": {},
   "outputs": [],
   "source": [
    "data_zip.close()"
   ]
  },
  {
   "cell_type": "markdown",
   "id": "f7f4bae1",
   "metadata": {},
   "source": [
    "* Sometimes zipfiles are protected, we need to specify the password when extracting\n",
    "\n",
    "```Python\n",
    "with zipfile.ZipFile('secret.zip', 'r') as pwd_zip:\n",
    "    # Extract from a password protected archive\n",
    "    pwd_zip.extractall(path='extract_dir', pwd='Quish3@o')\n",
    "```"
   ]
  },
  {
   "cell_type": "markdown",
   "id": "bd887390",
   "metadata": {},
   "source": [
    "## Creating new ZIP files"
   ]
  },
  {
   "cell_type": "code",
   "execution_count": 121,
   "id": "c73ebc7c",
   "metadata": {},
   "outputs": [],
   "source": [
    "lst = [x for x in p.iterdir()]\n",
    "lst;"
   ]
  },
  {
   "cell_type": "code",
   "execution_count": 124,
   "id": "6fbd2a61",
   "metadata": {},
   "outputs": [],
   "source": [
    "with zipfile.ZipFile(\"../datasets/new_zip.zip\", 'w') as new_zip: \n",
    "    for name in lst: \n",
    "        new_zip.write(name)"
   ]
  },
  {
   "cell_type": "code",
   "execution_count": null,
   "id": "ac031c1e",
   "metadata": {},
   "outputs": [],
   "source": []
  }
 ],
 "metadata": {
  "kernelspec": {
   "display_name": "base",
   "language": "python",
   "name": "python3"
  },
  "language_info": {
   "codemirror_mode": {
    "name": "ipython",
    "version": 3
   },
   "file_extension": ".py",
   "mimetype": "text/x-python",
   "name": "python",
   "nbconvert_exporter": "python",
   "pygments_lexer": "ipython3",
   "version": "3.13.5"
  }
 },
 "nbformat": 4,
 "nbformat_minor": 5
}
