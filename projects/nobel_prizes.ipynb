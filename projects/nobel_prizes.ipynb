{
 "cells": [
  {
   "cell_type": "markdown",
   "id": "db5bd2ce-918a-4f7d-a927-a3ea74c4b456",
   "metadata": {},
   "source": [
    "The Nobel Prize has been among the most prestigious international awards since 1901. Each year, awards are bestowed in chemistry, literature, physics, physiology or medicine, economics, and peace. In addition to the honor, prestige, and substantial prize money, the recipient also gets a gold medal with an image of Alfred Nobel (1833 - 1896), who established the prize.\n",
    "\n",
    "![](../images/Nobel_Prize.png)\n",
    "\n",
    "The Nobel Foundation has made a dataset available of all prize winners from the outset of the awards from 1901 to 2023. The dataset used in this project is from the Nobel Prize API and is available in the `nobel.csv` file in the `data` folder.\n",
    "\n",
    "In this project, you'll get a chance to explore and answer several questions related to this prizewinning data. And we encourage you then to explore further questions that you're interested in!"
   ]
  },
  {
   "cell_type": "code",
   "execution_count": null,
   "id": "11fd5946-7bd1-495c-aa7f-ff6e7e4a350b",
   "metadata": {
    "executionCancelledAt": null,
    "executionTime": 11,
    "lastExecutedAt": 1758050912064,
    "lastExecutedByKernel": "727babcc-dd2d-43c7-acc7-9ef650bf40f7",
    "lastScheduledRunId": null,
    "lastSuccessfullyExecutedCode": "from pathlib import Path\n\nimport pandas as pd\nimport seaborn as sns\nimport numpy as np"
   },
   "outputs": [],
   "source": [
    "import pandas as pd\n",
    "import seaborn as sns\n",
    "import numpy as np"
   ]
  },
  {
   "cell_type": "code",
   "execution_count": null,
   "id": "2370512c",
   "metadata": {},
   "outputs": [],
   "source": [
    "import matplotlib.pyplot as plt\n",
    "plt.style.use('ggplot')"
   ]
  },
  {
   "cell_type": "markdown",
   "id": "4564ba91-071b-4ab6-916a-7d93e1002bad",
   "metadata": {},
   "source": [
    "## Data loading"
   ]
  },
  {
   "cell_type": "code",
   "execution_count": null,
   "id": "95b336f9-d75b-470f-86fc-2f1e3cc3aa3b",
   "metadata": {
    "executionCancelledAt": null,
    "executionTime": 54,
    "lastExecutedAt": 1758051140237,
    "lastExecutedByKernel": "727babcc-dd2d-43c7-acc7-9ef650bf40f7",
    "lastScheduledRunId": null,
    "lastSuccessfullyExecutedCode": "df = pd.read_csv(datapath)\ndf.head()",
    "outputsMetadata": {
     "0": {
      "height": 500,
      "tableState": {},
      "type": "dataFrame"
     }
    }
   },
   "outputs": [],
   "source": [
    "df = pd.read_csv(\"../datasets/nobel.csv\")\n",
    "df.head()"
   ]
  },
  {
   "cell_type": "markdown",
   "id": "f53c3fb7-3bcf-44c1-ab32-f3671dbd8dcc",
   "metadata": {},
   "source": [
    "## EDA"
   ]
  },
  {
   "cell_type": "code",
   "execution_count": null,
   "id": "4fa41530-7a21-445f-aba1-1271baaadbd5",
   "metadata": {
    "executionCancelledAt": null,
    "executionTime": 21,
    "lastExecutedAt": 1758051160084,
    "lastExecutedByKernel": "727babcc-dd2d-43c7-acc7-9ef650bf40f7",
    "lastScheduledRunId": null,
    "lastSuccessfullyExecutedCode": "df.info()"
   },
   "outputs": [],
   "source": [
    "df.info()"
   ]
  },
  {
   "cell_type": "code",
   "execution_count": null,
   "id": "98b32415-e335-4eaa-aeb6-af22d5293141",
   "metadata": {
    "executionCancelledAt": null,
    "executionTime": 17,
    "lastExecutedAt": 1758051260248,
    "lastExecutedByKernel": "727babcc-dd2d-43c7-acc7-9ef650bf40f7",
    "lastScheduledRunId": null,
    "lastSuccessfullyExecutedCode": "df.info()\n"
   },
   "outputs": [],
   "source": [
    "df.info()\n"
   ]
  },
  {
   "cell_type": "markdown",
   "id": "75402ca3-4171-48e1-b9d1-d728b53cc60d",
   "metadata": {},
   "source": [
    "### What is the most commonly awarded gender and birth country?"
   ]
  },
  {
   "cell_type": "code",
   "execution_count": null,
   "id": "dc19d203-5186-49f7-bd7d-b6e5c2baa112",
   "metadata": {
    "executionCancelledAt": null,
    "executionTime": 60,
    "lastExecutedAt": 1758051935076,
    "lastExecutedByKernel": "727babcc-dd2d-43c7-acc7-9ef650bf40f7",
    "lastScheduledRunId": null,
    "lastSuccessfullyExecutedCode": "sex_counts = df['sex'].value_counts().reset_index()\nsex_counts.columns = ['sex', 'count']\nsex_counts",
    "outputsMetadata": {
     "0": {
      "height": 500,
      "tableState": {},
      "type": "dataFrame"
     }
    }
   },
   "outputs": [],
   "source": [
    "sex_counts = df['sex'].value_counts().reset_index()\n",
    "sex_counts.columns = ['sex', 'count']\n",
    "sex_counts"
   ]
  },
  {
   "cell_type": "code",
   "execution_count": null,
   "id": "cc95d559-79c0-4ba3-ab6c-bcbdaa9d6835",
   "metadata": {
    "executionCancelledAt": null,
    "executionTime": 12,
    "lastExecutedAt": 1758051803341,
    "lastExecutedByKernel": "727babcc-dd2d-43c7-acc7-9ef650bf40f7",
    "lastScheduledRunId": null,
    "lastSuccessfullyExecutedCode": "top_gender = 'Male'",
    "outputsMetadata": {
     "0": {
      "height": 500,
      "tableState": {},
      "type": "dataFrame"
     }
    }
   },
   "outputs": [],
   "source": [
    "top_gender = 'Male'"
   ]
  },
  {
   "cell_type": "code",
   "execution_count": null,
   "id": "bb7be215-5584-4f3a-a2ab-ec7ea8ca46fc",
   "metadata": {
    "executionCancelledAt": null,
    "executionTime": 259,
    "lastExecutedAt": 1758051939997,
    "lastExecutedByKernel": "727babcc-dd2d-43c7-acc7-9ef650bf40f7",
    "lastScheduledRunId": null,
    "lastSuccessfullyExecutedCode": "g = sns.catplot(\n    kind='bar', \n    data=sex_counts,\n    x='sex', y='count'\n)"
   },
   "outputs": [],
   "source": [
    "g = sns.catplot(\n",
    "    kind='bar', \n",
    "    data=sex_counts,\n",
    "    x='sex', y='count',\n",
    "    hue='sex'\n",
    ")"
   ]
  },
  {
   "cell_type": "code",
   "execution_count": null,
   "id": "39f1caca-5895-448f-a304-709ee1f3f8bf",
   "metadata": {
    "executionCancelledAt": null,
    "executionTime": 20,
    "lastExecutedAt": 1758052036115,
    "lastExecutedByKernel": "727babcc-dd2d-43c7-acc7-9ef650bf40f7",
    "lastScheduledRunId": null,
    "lastSuccessfullyExecutedCode": "country_counts = df['birth_country'].value_counts().reset_index()\ncountry_counts.columns = ['country', 'count']\ncountry_counts.head()",
    "outputsMetadata": {
     "0": {
      "height": 500,
      "tableState": {},
      "type": "dataFrame"
     }
    }
   },
   "outputs": [],
   "source": [
    "country_counts = df['birth_country'].value_counts().reset_index()\n",
    "country_counts.columns = ['country', 'count']\n",
    "country_counts.head()"
   ]
  },
  {
   "cell_type": "code",
   "execution_count": null,
   "id": "1de97f13-d093-4d28-aca9-fa11ef1f0655",
   "metadata": {
    "executionCancelledAt": null,
    "executionTime": 342,
    "lastExecutedAt": 1758052133699,
    "lastExecutedByKernel": "727babcc-dd2d-43c7-acc7-9ef650bf40f7",
    "lastScheduledRunId": null,
    "lastSuccessfullyExecutedCode": "g = sns.catplot(\n    kind='bar', \n    data=country_counts.head(10), \n    y='country', x='count'\n)"
   },
   "outputs": [],
   "source": [
    "g = sns.catplot(\n",
    "    kind='bar', \n",
    "    data=country_counts.head(20), \n",
    "    y='country', x='count', \n",
    "    hue='country'\n",
    ")"
   ]
  },
  {
   "cell_type": "code",
   "execution_count": null,
   "id": "96bb7aa3-1ef4-4c82-aae0-459ed87d2611",
   "metadata": {
    "executionCancelledAt": null,
    "executionTime": 9,
    "lastExecutedAt": 1758052314136,
    "lastExecutedByKernel": "727babcc-dd2d-43c7-acc7-9ef650bf40f7",
    "lastScheduledRunId": null,
    "lastSuccessfullyExecutedCode": "top_country = 'United States of America'",
    "outputsMetadata": {
     "0": {
      "height": 500,
      "tableState": {},
      "type": "dataFrame"
     }
    }
   },
   "outputs": [],
   "source": [
    "top_country = 'United States of America'"
   ]
  },
  {
   "cell_type": "markdown",
   "id": "9e51d2e7-4d46-4983-b3e0-cdc1b4474136",
   "metadata": {},
   "source": [
    "### Wich decade had the highest ratio of US-born Nobel Prize winners to total winners in all categories?"
   ]
  },
  {
   "cell_type": "code",
   "execution_count": null,
   "id": "2b9676d3-5874-4d1d-b0c3-e46b68014999",
   "metadata": {
    "executionCancelledAt": null,
    "executionTime": 12,
    "lastExecutedAt": 1758052487127,
    "lastExecutedByKernel": "727babcc-dd2d-43c7-acc7-9ef650bf40f7",
    "lastScheduledRunId": null,
    "lastSuccessfullyExecutedCode": "df.columns"
   },
   "outputs": [],
   "source": [
    "df.columns"
   ]
  },
  {
   "cell_type": "code",
   "execution_count": null,
   "id": "fc50d64b",
   "metadata": {},
   "outputs": [],
   "source": [
    "df.dtypes"
   ]
  },
  {
   "cell_type": "code",
   "execution_count": null,
   "id": "f0b670b6-9ad7-4d55-8f26-dd9ebccd4f8a",
   "metadata": {},
   "outputs": [],
   "source": [
    "df['year'].unique()"
   ]
  },
  {
   "cell_type": "code",
   "execution_count": null,
   "id": "308abbf4",
   "metadata": {},
   "outputs": [],
   "source": [
    "df['year'] = df['year'].astype(int)"
   ]
  },
  {
   "cell_type": "code",
   "execution_count": null,
   "id": "958a75b5",
   "metadata": {},
   "outputs": [],
   "source": [
    "df['year']//10*10"
   ]
  },
  {
   "cell_type": "code",
   "execution_count": null,
   "id": "b0f2ab09",
   "metadata": {},
   "outputs": [],
   "source": [
    "df['decade'] = (df['year']//10)*10\n",
    "df['decade'].unique()"
   ]
  },
  {
   "cell_type": "code",
   "execution_count": null,
   "id": "825540be",
   "metadata": {},
   "outputs": [],
   "source": [
    "'United States of America' in df['birth_country'].unique()"
   ]
  },
  {
   "cell_type": "code",
   "execution_count": null,
   "id": "879d9382",
   "metadata": {},
   "outputs": [],
   "source": [
    "df_us_born = df[\n",
    "    df['birth_country'] == 'United States of America'\n",
    "]"
   ]
  },
  {
   "cell_type": "code",
   "execution_count": null,
   "id": "5fa54ba8",
   "metadata": {},
   "outputs": [],
   "source": [
    "df_us_born.info()"
   ]
  },
  {
   "cell_type": "code",
   "execution_count": null,
   "id": "0e629c60",
   "metadata": {},
   "outputs": [],
   "source": [
    "us_total_winners = len(df_us_born)"
   ]
  },
  {
   "cell_type": "code",
   "execution_count": null,
   "id": "93748638",
   "metadata": {},
   "outputs": [],
   "source": [
    "decade_counts = df_us_born['decade'].value_counts().reset_index().sort_values('decade')\n",
    "decade_counts"
   ]
  },
  {
   "cell_type": "code",
   "execution_count": null,
   "id": "e592296c",
   "metadata": {},
   "outputs": [],
   "source": [
    "g = sns.catplot(\n",
    "    kind='bar', \n",
    "    data=decade_counts,\n",
    "    y='count', \n",
    "    x='decade', \n",
    "    hue='decade'\n",
    ")\n",
    "plt.xticks(rotation=90);"
   ]
  },
  {
   "cell_type": "code",
   "execution_count": null,
   "id": "92f14433",
   "metadata": {},
   "outputs": [],
   "source": [
    "max_decade_usa = 2000"
   ]
  },
  {
   "cell_type": "markdown",
   "id": "95f0c2a4",
   "metadata": {},
   "source": [
    "### Which decade and Nobel Prize category combination had the highest proportion of female laureates?"
   ]
  },
  {
   "cell_type": "code",
   "execution_count": null,
   "id": "176b33df",
   "metadata": {},
   "outputs": [],
   "source": [
    "df_female = df[df['sex'] == 'Female']\n",
    "df_female.head()"
   ]
  },
  {
   "cell_type": "code",
   "execution_count": null,
   "id": "23644ef7",
   "metadata": {},
   "outputs": [],
   "source": [
    "female_by_decade_category = df_female.pivot_table(\n",
    "    index='decade',\n",
    "    columns='category',\n",
    "    values='laureate_id',   \n",
    "    aggfunc='count',\n",
    "    fill_value=0           \n",
    ")\n",
    "female_by_decade_category"
   ]
  },
  {
   "cell_type": "code",
   "execution_count": null,
   "id": "e42ee12c",
   "metadata": {},
   "outputs": [],
   "source": [
    "g = sns.heatmap(data=female_by_decade_category)"
   ]
  },
  {
   "cell_type": "code",
   "execution_count": null,
   "id": "3599a94b",
   "metadata": {},
   "outputs": [],
   "source": [
    "female_by_decade_category.plot(kind='bar', stacked=True)\n",
    "plt.show()"
   ]
  },
  {
   "cell_type": "code",
   "execution_count": null,
   "id": "dc6528ab",
   "metadata": {},
   "outputs": [],
   "source": [
    "max_female_dict = {\n",
    "    2010: 'Peace'\n",
    "}"
   ]
  },
  {
   "cell_type": "markdown",
   "id": "0d656499",
   "metadata": {},
   "source": [
    "Who was the first woman to receive a Nobel Prize, and in what category?"
   ]
  },
  {
   "cell_type": "code",
   "execution_count": null,
   "id": "abd88b98",
   "metadata": {},
   "outputs": [],
   "source": [
    "df_female.head()"
   ]
  },
  {
   "cell_type": "code",
   "execution_count": null,
   "id": "7ca15a18",
   "metadata": {},
   "outputs": [],
   "source": [
    "first_woman = df_female.iloc[df_female['year'].idxmin()]\n",
    "first_woman_name, first_woman_category = first_woman.full_name, first_woman.category"
   ]
  },
  {
   "cell_type": "code",
   "execution_count": null,
   "id": "8d12e0af",
   "metadata": {},
   "outputs": [],
   "source": [
    "first_woman_name"
   ]
  },
  {
   "cell_type": "code",
   "execution_count": null,
   "id": "7e3f74e1",
   "metadata": {},
   "outputs": [],
   "source": [
    "first_woman_category"
   ]
  },
  {
   "cell_type": "markdown",
   "id": "790d2265",
   "metadata": {},
   "source": [
    "Which individuals or organizations have won more than one Nobel Prize throughout the years?"
   ]
  },
  {
   "cell_type": "code",
   "execution_count": null,
   "id": "c2dec443",
   "metadata": {},
   "outputs": [],
   "source": [
    "df.columns"
   ]
  },
  {
   "cell_type": "code",
   "execution_count": null,
   "id": "fc4b5fe3",
   "metadata": {},
   "outputs": [],
   "source": [
    "df['organization_name'].unique()[:10]"
   ]
  },
  {
   "cell_type": "code",
   "execution_count": null,
   "id": "220994c3",
   "metadata": {},
   "outputs": [],
   "source": [
    "org_counts = df['organization_name'].value_counts().reset_index()\n",
    "org_counts.columns = ['org', 'count']\n",
    "org_counts"
   ]
  },
  {
   "cell_type": "code",
   "execution_count": null,
   "id": "7f9e44c2",
   "metadata": {},
   "outputs": [],
   "source": [
    "filetered_orgs = org_counts[org_counts['count'] > 5]"
   ]
  },
  {
   "cell_type": "code",
   "execution_count": null,
   "id": "d7380993",
   "metadata": {},
   "outputs": [],
   "source": [
    "g = sns.catplot(\n",
    "    data=filetered_orgs,\n",
    "    y='org', x='count', \n",
    "    kind='bar'\n",
    ")"
   ]
  },
  {
   "cell_type": "code",
   "execution_count": null,
   "id": "437c413f",
   "metadata": {},
   "outputs": [],
   "source": [
    "org_counts.iloc[org_counts.idxmax()]"
   ]
  },
  {
   "cell_type": "code",
   "execution_count": null,
   "id": "42e61969",
   "metadata": {},
   "outputs": [],
   "source": [
    "repeat_list = list(org_counts[org_counts['count'] > 1]['org'])\n",
    "repeat_list"
   ]
  },
  {
   "cell_type": "code",
   "execution_count": null,
   "id": "5dc733cf",
   "metadata": {},
   "outputs": [],
   "source": []
  }
 ],
 "metadata": {
  "editor": "DataCamp Workspace",
  "kernelspec": {
   "display_name": "base",
   "language": "python",
   "name": "python3"
  },
  "language_info": {
   "codemirror_mode": {
    "name": "ipython",
    "version": 3
   },
   "file_extension": ".py",
   "mimetype": "text/x-python",
   "name": "python",
   "nbconvert_exporter": "python",
   "pygments_lexer": "ipython3",
   "version": "3.13.5"
  }
 },
 "nbformat": 4,
 "nbformat_minor": 5
}
