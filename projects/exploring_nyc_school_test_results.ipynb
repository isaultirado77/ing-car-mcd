{
 "cells": [
  {
   "cell_type": "code",
   "execution_count": 132,
   "id": "6f11bdb4-bd67-45ca-9c22-2c6ae5c0b02d",
   "metadata": {
    "executionCancelledAt": null,
    "executionTime": 10,
    "lastExecutedAt": 1755885898054,
    "lastExecutedByKernel": "0f3755f6-b785-4504-9bab-90d93ebcf14d",
    "lastScheduledRunId": null,
    "lastSuccessfullyExecutedCode": "# Re-run this cell \nimport pandas as pd"
   },
   "outputs": [],
   "source": [
    "# Re-run this cell \n",
    "import pandas as pd"
   ]
  },
  {
   "cell_type": "code",
   "execution_count": 133,
   "id": "d0eb4f16-5a99-460d-a5ba-706b7ef0bbe7",
   "metadata": {
    "executionCancelledAt": null,
    "executionTime": null,
    "id": "bA5ajAmk7XH6",
    "lastExecutedAt": null,
    "lastExecutedByKernel": null,
    "lastScheduledRunId": null,
    "lastSuccessfullyExecutedCode": null,
    "outputsMetadata": {
     "0": {
      "height": 550,
      "tableState": {
       "customFilter": {
        "const": {
         "type": "boolean",
         "valid": true,
         "value": true
        },
        "id": "31abb839-806d-4bee-a0bd-bf5c085ab11d",
        "nodeType": "const"
       }
      },
      "type": "dataFrame"
     }
    }
   },
   "outputs": [
    {
     "data": {
      "application/com.datacamp.data-table.v2+json": {
       "table": {
        "data": {
         "average_math": [
          657,
          395,
          418,
          613,
          410
         ],
         "average_reading": [
          601,
          411,
          428,
          453,
          406
         ],
         "average_writing": [
          601,
          387,
          415,
          463,
          381
         ],
         "borough": [
          "Manhattan",
          "Manhattan",
          "Manhattan",
          "Manhattan",
          "Manhattan"
         ],
         "building_code": [
          "M022",
          "M445",
          "M445",
          "M445",
          "M056"
         ],
         "index": [
          0,
          1,
          2,
          3,
          4
         ],
         "percent_tested": [
          null,
          78.9,
          65.1,
          95.9,
          59.7
         ],
         "school_name": [
          "New Explorations into Science, Technology and Math High School",
          "Essex Street Academy",
          "Lower Manhattan Arts Academy",
          "High School for Dual Language and Asian Studies",
          "Henry Street School for International Studies"
         ]
        },
        "schema": {
         "fields": [
          {
           "name": "index",
           "type": "integer"
          },
          {
           "name": "school_name",
           "type": "string"
          },
          {
           "name": "borough",
           "type": "string"
          },
          {
           "name": "building_code",
           "type": "string"
          },
          {
           "name": "average_math",
           "type": "integer"
          },
          {
           "name": "average_reading",
           "type": "integer"
          },
          {
           "name": "average_writing",
           "type": "integer"
          },
          {
           "name": "percent_tested",
           "type": "number"
          }
         ],
         "pandas_version": "1.4.0",
         "primaryKey": [
          "index"
         ]
        }
       },
       "total_rows": 5,
       "truncation_type": null
      },
      "text/html": [
       "<div>\n",
       "<style scoped>\n",
       "    .dataframe tbody tr th:only-of-type {\n",
       "        vertical-align: middle;\n",
       "    }\n",
       "\n",
       "    .dataframe tbody tr th {\n",
       "        vertical-align: top;\n",
       "    }\n",
       "\n",
       "    .dataframe thead th {\n",
       "        text-align: right;\n",
       "    }\n",
       "</style>\n",
       "<table border=\"1\" class=\"dataframe\">\n",
       "  <thead>\n",
       "    <tr style=\"text-align: right;\">\n",
       "      <th></th>\n",
       "      <th>school_name</th>\n",
       "      <th>borough</th>\n",
       "      <th>building_code</th>\n",
       "      <th>average_math</th>\n",
       "      <th>average_reading</th>\n",
       "      <th>average_writing</th>\n",
       "      <th>percent_tested</th>\n",
       "    </tr>\n",
       "  </thead>\n",
       "  <tbody>\n",
       "    <tr>\n",
       "      <th>0</th>\n",
       "      <td>New Explorations into Science, Technology and ...</td>\n",
       "      <td>Manhattan</td>\n",
       "      <td>M022</td>\n",
       "      <td>657</td>\n",
       "      <td>601</td>\n",
       "      <td>601</td>\n",
       "      <td>NaN</td>\n",
       "    </tr>\n",
       "    <tr>\n",
       "      <th>1</th>\n",
       "      <td>Essex Street Academy</td>\n",
       "      <td>Manhattan</td>\n",
       "      <td>M445</td>\n",
       "      <td>395</td>\n",
       "      <td>411</td>\n",
       "      <td>387</td>\n",
       "      <td>78.9</td>\n",
       "    </tr>\n",
       "    <tr>\n",
       "      <th>2</th>\n",
       "      <td>Lower Manhattan Arts Academy</td>\n",
       "      <td>Manhattan</td>\n",
       "      <td>M445</td>\n",
       "      <td>418</td>\n",
       "      <td>428</td>\n",
       "      <td>415</td>\n",
       "      <td>65.1</td>\n",
       "    </tr>\n",
       "    <tr>\n",
       "      <th>3</th>\n",
       "      <td>High School for Dual Language and Asian Studies</td>\n",
       "      <td>Manhattan</td>\n",
       "      <td>M445</td>\n",
       "      <td>613</td>\n",
       "      <td>453</td>\n",
       "      <td>463</td>\n",
       "      <td>95.9</td>\n",
       "    </tr>\n",
       "    <tr>\n",
       "      <th>4</th>\n",
       "      <td>Henry Street School for International Studies</td>\n",
       "      <td>Manhattan</td>\n",
       "      <td>M056</td>\n",
       "      <td>410</td>\n",
       "      <td>406</td>\n",
       "      <td>381</td>\n",
       "      <td>59.7</td>\n",
       "    </tr>\n",
       "  </tbody>\n",
       "</table>\n",
       "</div>"
      ],
      "text/plain": [
       "                                         school_name  ... percent_tested\n",
       "0  New Explorations into Science, Technology and ...  ...            NaN\n",
       "1                               Essex Street Academy  ...           78.9\n",
       "2                       Lower Manhattan Arts Academy  ...           65.1\n",
       "3    High School for Dual Language and Asian Studies  ...           95.9\n",
       "4      Henry Street School for International Studies  ...           59.7\n",
       "\n",
       "[5 rows x 7 columns]"
      ]
     },
     "execution_count": 133,
     "metadata": {
      "application/com.datacamp.data-table.v2+json": {
       "status": "success"
      }
     },
     "output_type": "execute_result"
    }
   ],
   "source": [
    "# Read in the data\n",
    "schools = pd.read_csv(\"schools.csv\")\n",
    "\n",
    "schools.head()"
   ]
  },
  {
   "cell_type": "markdown",
   "id": "73f9373f-085d-4725-b3ee-8b6d66774063",
   "metadata": {},
   "source": [
    "## EDA"
   ]
  },
  {
   "cell_type": "code",
   "execution_count": 134,
   "id": "a8eec5fe-7720-49e8-aab0-052563497e2d",
   "metadata": {
    "executionCancelledAt": null,
    "executionTime": 60,
    "lastExecutedAt": 1755885898163,
    "lastExecutedByKernel": "0f3755f6-b785-4504-9bab-90d93ebcf14d",
    "lastScheduledRunId": null,
    "lastSuccessfullyExecutedCode": "schools.info()",
    "outputsMetadata": {
     "0": {
      "height": 311,
      "type": "stream"
     }
    }
   },
   "outputs": [
    {
     "name": "stdout",
     "output_type": "stream",
     "text": [
      "<class 'pandas.core.frame.DataFrame'>\n",
      "RangeIndex: 375 entries, 0 to 374\n",
      "Data columns (total 7 columns):\n",
      " #   Column           Non-Null Count  Dtype  \n",
      "---  ------           --------------  -----  \n",
      " 0   school_name      375 non-null    object \n",
      " 1   borough          375 non-null    object \n",
      " 2   building_code    375 non-null    object \n",
      " 3   average_math     375 non-null    int64  \n",
      " 4   average_reading  375 non-null    int64  \n",
      " 5   average_writing  375 non-null    int64  \n",
      " 6   percent_tested   355 non-null    float64\n",
      "dtypes: float64(1), int64(3), object(3)\n",
      "memory usage: 20.6+ KB\n"
     ]
    }
   ],
   "source": [
    "schools.info()"
   ]
  },
  {
   "cell_type": "markdown",
   "id": "e4b7c74f-f94f-484f-8451-2e40dc73c737",
   "metadata": {},
   "source": [
    "* 375 observations\n",
    "* 6 feature columns"
   ]
  },
  {
   "cell_type": "markdown",
   "id": "2f66d7fb-5c95-4846-9ac9-db8d292b13bd",
   "metadata": {},
   "source": [
    "### Categorical features"
   ]
  },
  {
   "cell_type": "code",
   "execution_count": 135,
   "id": "389a54c0-0f4e-4f17-9d48-0f4331c75775",
   "metadata": {
    "executionCancelledAt": null,
    "executionTime": null,
    "lastExecutedAt": null,
    "lastExecutedByKernel": null,
    "lastScheduledRunId": null,
    "lastSuccessfullyExecutedCode": null,
    "outputsMetadata": {
     "0": {
      "height": 550,
      "tableState": {
       "customFilter": {
        "const": {
         "type": "boolean",
         "valid": true,
         "value": true
        },
        "id": "7118da83-59a8-4f18-99f1-deb32d93f035",
        "nodeType": "const"
       }
      },
      "type": "dataFrame"
     }
    }
   },
   "outputs": [
    {
     "data": {
      "application/com.datacamp.data-table.v2+json": {
       "table": {
        "data": {
         "borough": [
          "Manhattan",
          "Manhattan",
          "Manhattan",
          "Manhattan",
          "Manhattan"
         ],
         "building_code": [
          "M022",
          "M445",
          "M445",
          "M445",
          "M056"
         ],
         "index": [
          0,
          1,
          2,
          3,
          4
         ],
         "school_name": [
          "New Explorations into Science, Technology and Math High School",
          "Essex Street Academy",
          "Lower Manhattan Arts Academy",
          "High School for Dual Language and Asian Studies",
          "Henry Street School for International Studies"
         ]
        },
        "schema": {
         "fields": [
          {
           "name": "index",
           "type": "integer"
          },
          {
           "name": "school_name",
           "type": "string"
          },
          {
           "name": "borough",
           "type": "string"
          },
          {
           "name": "building_code",
           "type": "string"
          }
         ],
         "pandas_version": "1.4.0",
         "primaryKey": [
          "index"
         ]
        }
       },
       "total_rows": 5,
       "truncation_type": null
      },
      "text/html": [
       "<div>\n",
       "<style scoped>\n",
       "    .dataframe tbody tr th:only-of-type {\n",
       "        vertical-align: middle;\n",
       "    }\n",
       "\n",
       "    .dataframe tbody tr th {\n",
       "        vertical-align: top;\n",
       "    }\n",
       "\n",
       "    .dataframe thead th {\n",
       "        text-align: right;\n",
       "    }\n",
       "</style>\n",
       "<table border=\"1\" class=\"dataframe\">\n",
       "  <thead>\n",
       "    <tr style=\"text-align: right;\">\n",
       "      <th></th>\n",
       "      <th>school_name</th>\n",
       "      <th>borough</th>\n",
       "      <th>building_code</th>\n",
       "    </tr>\n",
       "  </thead>\n",
       "  <tbody>\n",
       "    <tr>\n",
       "      <th>0</th>\n",
       "      <td>New Explorations into Science, Technology and ...</td>\n",
       "      <td>Manhattan</td>\n",
       "      <td>M022</td>\n",
       "    </tr>\n",
       "    <tr>\n",
       "      <th>1</th>\n",
       "      <td>Essex Street Academy</td>\n",
       "      <td>Manhattan</td>\n",
       "      <td>M445</td>\n",
       "    </tr>\n",
       "    <tr>\n",
       "      <th>2</th>\n",
       "      <td>Lower Manhattan Arts Academy</td>\n",
       "      <td>Manhattan</td>\n",
       "      <td>M445</td>\n",
       "    </tr>\n",
       "    <tr>\n",
       "      <th>3</th>\n",
       "      <td>High School for Dual Language and Asian Studies</td>\n",
       "      <td>Manhattan</td>\n",
       "      <td>M445</td>\n",
       "    </tr>\n",
       "    <tr>\n",
       "      <th>4</th>\n",
       "      <td>Henry Street School for International Studies</td>\n",
       "      <td>Manhattan</td>\n",
       "      <td>M056</td>\n",
       "    </tr>\n",
       "  </tbody>\n",
       "</table>\n",
       "</div>"
      ],
      "text/plain": [
       "                                         school_name    borough building_code\n",
       "0  New Explorations into Science, Technology and ...  Manhattan          M022\n",
       "1                               Essex Street Academy  Manhattan          M445\n",
       "2                       Lower Manhattan Arts Academy  Manhattan          M445\n",
       "3    High School for Dual Language and Asian Studies  Manhattan          M445\n",
       "4      Henry Street School for International Studies  Manhattan          M056"
      ]
     },
     "execution_count": 135,
     "metadata": {
      "application/com.datacamp.data-table.v2+json": {
       "status": "success"
      }
     },
     "output_type": "execute_result"
    }
   ],
   "source": [
    "cat_feat = schools.select_dtypes(include=object)\n",
    "cat_feat.head()"
   ]
  },
  {
   "cell_type": "code",
   "execution_count": 136,
   "id": "bb22c351-3425-4eb9-8ab1-a4c8a83ff422",
   "metadata": {
    "executionCancelledAt": null,
    "executionTime": 55,
    "lastExecutedAt": 1755885898267,
    "lastExecutedByKernel": "0f3755f6-b785-4504-9bab-90d93ebcf14d",
    "lastScheduledRunId": null,
    "lastSuccessfullyExecutedCode": "for col in cat_feat: \n    print(cat_feat[col].value_counts(), '\\n')",
    "outputsMetadata": {
     "0": {
      "height": 616,
      "type": "stream"
     }
    }
   },
   "outputs": [
    {
     "name": "stdout",
     "output_type": "stream",
     "text": [
      "New Explorations into Science, Technology and Math High School    1\n",
      "Multicultural High School                                         1\n",
      "High School for Enterprise, Business, and Technology              1\n",
      "PROGRESS High School for Professional Careers                     1\n",
      "Midwood High School                                               1\n",
      "                                                                 ..\n",
      "Urban Assembly School for Applied Math and Science                1\n",
      "Frederick Douglass Academy III Secondary School                   1\n",
      "Morris Academy for Collaborative Studies                          1\n",
      "School for Excellence                                             1\n",
      "Scholars' Academy                                                 1\n",
      "Name: school_name, Length: 375, dtype: int64 \n",
      "\n",
      "Brooklyn         109\n",
      "Bronx             98\n",
      "Manhattan         89\n",
      "Queens            69\n",
      "Staten Island     10\n",
      "Name: borough, dtype: int64 \n",
      "\n",
      "X425    6\n",
      "X435    6\n",
      "X415    5\n",
      "M490    5\n",
      "M535    5\n",
      "       ..\n",
      "X973    1\n",
      "X878    1\n",
      "X067    1\n",
      "X879    1\n",
      "Q180    1\n",
      "Name: building_code, Length: 233, dtype: int64 \n",
      "\n"
     ]
    }
   ],
   "source": [
    "for col in cat_feat: \n",
    "    print(cat_feat[col].value_counts(), '\\n')"
   ]
  },
  {
   "cell_type": "markdown",
   "id": "e99a74d1-92e2-4a31-8aec-1afad87709ad",
   "metadata": {
    "executionCancelledAt": null,
    "executionTime": 10,
    "lastExecutedAt": 1755882370266,
    "lastExecutedByKernel": "0f3755f6-b785-4504-9bab-90d93ebcf14d",
    "lastScheduledRunId": null,
    "lastSuccessfullyExecutedCode": "### Numerical features"
   },
   "source": [
    "### Numerical features"
   ]
  },
  {
   "cell_type": "code",
   "execution_count": 137,
   "id": "91ac382c-2c8b-490e-bc99-06f08c777416",
   "metadata": {
    "executionCancelledAt": null,
    "executionTime": null,
    "lastExecutedAt": null,
    "lastExecutedByKernel": null,
    "lastScheduledRunId": null,
    "lastSuccessfullyExecutedCode": null,
    "outputsMetadata": {
     "0": {
      "height": 550,
      "tableState": {
       "customFilter": {
        "const": {
         "type": "boolean",
         "valid": true,
         "value": true
        },
        "id": "7118da83-59a8-4f18-99f1-deb32d93f035",
        "nodeType": "const"
       }
      },
      "type": "dataFrame"
     }
    }
   },
   "outputs": [
    {
     "data": {
      "application/com.datacamp.data-table.v2+json": {
       "table": {
        "data": {
         "average_math": [
          657,
          395,
          418,
          613,
          410
         ],
         "average_reading": [
          601,
          411,
          428,
          453,
          406
         ],
         "average_writing": [
          601,
          387,
          415,
          463,
          381
         ],
         "index": [
          0,
          1,
          2,
          3,
          4
         ],
         "percent_tested": [
          null,
          78.9,
          65.1,
          95.9,
          59.7
         ]
        },
        "schema": {
         "fields": [
          {
           "name": "index",
           "type": "integer"
          },
          {
           "name": "average_math",
           "type": "integer"
          },
          {
           "name": "average_reading",
           "type": "integer"
          },
          {
           "name": "average_writing",
           "type": "integer"
          },
          {
           "name": "percent_tested",
           "type": "number"
          }
         ],
         "pandas_version": "1.4.0",
         "primaryKey": [
          "index"
         ]
        }
       },
       "total_rows": 5,
       "truncation_type": null
      },
      "text/html": [
       "<div>\n",
       "<style scoped>\n",
       "    .dataframe tbody tr th:only-of-type {\n",
       "        vertical-align: middle;\n",
       "    }\n",
       "\n",
       "    .dataframe tbody tr th {\n",
       "        vertical-align: top;\n",
       "    }\n",
       "\n",
       "    .dataframe thead th {\n",
       "        text-align: right;\n",
       "    }\n",
       "</style>\n",
       "<table border=\"1\" class=\"dataframe\">\n",
       "  <thead>\n",
       "    <tr style=\"text-align: right;\">\n",
       "      <th></th>\n",
       "      <th>average_math</th>\n",
       "      <th>average_reading</th>\n",
       "      <th>average_writing</th>\n",
       "      <th>percent_tested</th>\n",
       "    </tr>\n",
       "  </thead>\n",
       "  <tbody>\n",
       "    <tr>\n",
       "      <th>0</th>\n",
       "      <td>657</td>\n",
       "      <td>601</td>\n",
       "      <td>601</td>\n",
       "      <td>NaN</td>\n",
       "    </tr>\n",
       "    <tr>\n",
       "      <th>1</th>\n",
       "      <td>395</td>\n",
       "      <td>411</td>\n",
       "      <td>387</td>\n",
       "      <td>78.9</td>\n",
       "    </tr>\n",
       "    <tr>\n",
       "      <th>2</th>\n",
       "      <td>418</td>\n",
       "      <td>428</td>\n",
       "      <td>415</td>\n",
       "      <td>65.1</td>\n",
       "    </tr>\n",
       "    <tr>\n",
       "      <th>3</th>\n",
       "      <td>613</td>\n",
       "      <td>453</td>\n",
       "      <td>463</td>\n",
       "      <td>95.9</td>\n",
       "    </tr>\n",
       "    <tr>\n",
       "      <th>4</th>\n",
       "      <td>410</td>\n",
       "      <td>406</td>\n",
       "      <td>381</td>\n",
       "      <td>59.7</td>\n",
       "    </tr>\n",
       "  </tbody>\n",
       "</table>\n",
       "</div>"
      ],
      "text/plain": [
       "   average_math  average_reading  average_writing  percent_tested\n",
       "0           657              601              601             NaN\n",
       "1           395              411              387            78.9\n",
       "2           418              428              415            65.1\n",
       "3           613              453              463            95.9\n",
       "4           410              406              381            59.7"
      ]
     },
     "execution_count": 137,
     "metadata": {
      "application/com.datacamp.data-table.v2+json": {
       "status": "success"
      }
     },
     "output_type": "execute_result"
    }
   ],
   "source": [
    "num_feat = schools.select_dtypes(exclude=object)\n",
    "num_feat.head()"
   ]
  },
  {
   "cell_type": "code",
   "execution_count": 138,
   "id": "dc0eb492-226d-453f-97ed-651886ab0166",
   "metadata": {
    "executionCancelledAt": null,
    "executionTime": null,
    "lastExecutedAt": null,
    "lastExecutedByKernel": null,
    "lastScheduledRunId": null,
    "lastSuccessfullyExecutedCode": null,
    "outputsMetadata": {
     "0": {
      "height": 550,
      "tableState": {
       "customFilter": {
        "const": {
         "type": "boolean",
         "valid": true,
         "value": true
        },
        "id": "7118da83-59a8-4f18-99f1-deb32d93f035",
        "nodeType": "const"
       }
      },
      "type": "dataFrame"
     }
    }
   },
   "outputs": [
    {
     "data": {
      "application/com.datacamp.data-table.v2+json": {
       "table": {
        "data": {
         "average_math": [
          375,
          432.944,
          71.9523725421,
          317,
          386,
          415,
          458.5,
          754
         ],
         "average_reading": [
          375,
          424.504,
          61.8810689564,
          302,
          386,
          413,
          445,
          697
         ],
         "average_writing": [
          375,
          418.4586666667,
          64.5485993861,
          284,
          382,
          403,
          437.5,
          693
         ],
         "index": [
          "count",
          "mean",
          "std",
          "min",
          "25%",
          "50%",
          "75%",
          "max"
         ],
         "percent_tested": [
          355,
          64.9763380282,
          18.7476342191,
          18.5,
          50.95,
          64.8,
          79.6,
          100
         ]
        },
        "schema": {
         "fields": [
          {
           "name": "index",
           "type": "string"
          },
          {
           "name": "average_math",
           "type": "number"
          },
          {
           "name": "average_reading",
           "type": "number"
          },
          {
           "name": "average_writing",
           "type": "number"
          },
          {
           "name": "percent_tested",
           "type": "number"
          }
         ],
         "pandas_version": "1.4.0",
         "primaryKey": [
          "index"
         ]
        }
       },
       "total_rows": 8,
       "truncation_type": null
      },
      "text/html": [
       "<div>\n",
       "<style scoped>\n",
       "    .dataframe tbody tr th:only-of-type {\n",
       "        vertical-align: middle;\n",
       "    }\n",
       "\n",
       "    .dataframe tbody tr th {\n",
       "        vertical-align: top;\n",
       "    }\n",
       "\n",
       "    .dataframe thead th {\n",
       "        text-align: right;\n",
       "    }\n",
       "</style>\n",
       "<table border=\"1\" class=\"dataframe\">\n",
       "  <thead>\n",
       "    <tr style=\"text-align: right;\">\n",
       "      <th></th>\n",
       "      <th>average_math</th>\n",
       "      <th>average_reading</th>\n",
       "      <th>average_writing</th>\n",
       "      <th>percent_tested</th>\n",
       "    </tr>\n",
       "  </thead>\n",
       "  <tbody>\n",
       "    <tr>\n",
       "      <th>count</th>\n",
       "      <td>375.000000</td>\n",
       "      <td>375.000000</td>\n",
       "      <td>375.000000</td>\n",
       "      <td>355.000000</td>\n",
       "    </tr>\n",
       "    <tr>\n",
       "      <th>mean</th>\n",
       "      <td>432.944000</td>\n",
       "      <td>424.504000</td>\n",
       "      <td>418.458667</td>\n",
       "      <td>64.976338</td>\n",
       "    </tr>\n",
       "    <tr>\n",
       "      <th>std</th>\n",
       "      <td>71.952373</td>\n",
       "      <td>61.881069</td>\n",
       "      <td>64.548599</td>\n",
       "      <td>18.747634</td>\n",
       "    </tr>\n",
       "    <tr>\n",
       "      <th>min</th>\n",
       "      <td>317.000000</td>\n",
       "      <td>302.000000</td>\n",
       "      <td>284.000000</td>\n",
       "      <td>18.500000</td>\n",
       "    </tr>\n",
       "    <tr>\n",
       "      <th>25%</th>\n",
       "      <td>386.000000</td>\n",
       "      <td>386.000000</td>\n",
       "      <td>382.000000</td>\n",
       "      <td>50.950000</td>\n",
       "    </tr>\n",
       "    <tr>\n",
       "      <th>50%</th>\n",
       "      <td>415.000000</td>\n",
       "      <td>413.000000</td>\n",
       "      <td>403.000000</td>\n",
       "      <td>64.800000</td>\n",
       "    </tr>\n",
       "    <tr>\n",
       "      <th>75%</th>\n",
       "      <td>458.500000</td>\n",
       "      <td>445.000000</td>\n",
       "      <td>437.500000</td>\n",
       "      <td>79.600000</td>\n",
       "    </tr>\n",
       "    <tr>\n",
       "      <th>max</th>\n",
       "      <td>754.000000</td>\n",
       "      <td>697.000000</td>\n",
       "      <td>693.000000</td>\n",
       "      <td>100.000000</td>\n",
       "    </tr>\n",
       "  </tbody>\n",
       "</table>\n",
       "</div>"
      ],
      "text/plain": [
       "       average_math  average_reading  average_writing  percent_tested\n",
       "count    375.000000       375.000000       375.000000      355.000000\n",
       "mean     432.944000       424.504000       418.458667       64.976338\n",
       "std       71.952373        61.881069        64.548599       18.747634\n",
       "min      317.000000       302.000000       284.000000       18.500000\n",
       "25%      386.000000       386.000000       382.000000       50.950000\n",
       "50%      415.000000       413.000000       403.000000       64.800000\n",
       "75%      458.500000       445.000000       437.500000       79.600000\n",
       "max      754.000000       697.000000       693.000000      100.000000"
      ]
     },
     "execution_count": 138,
     "metadata": {
      "application/com.datacamp.data-table.v2+json": {
       "status": "success"
      }
     },
     "output_type": "execute_result"
    }
   ],
   "source": [
    "num_feat.describe()"
   ]
  },
  {
   "cell_type": "markdown",
   "id": "6281767a-b84e-4453-a709-c24191f79564",
   "metadata": {},
   "source": [
    "### NUll values"
   ]
  },
  {
   "cell_type": "code",
   "execution_count": 139,
   "id": "7d419048-ade9-4dae-bfc2-5cc2e4754689",
   "metadata": {
    "executionCancelledAt": null,
    "executionTime": null,
    "lastExecutedAt": null,
    "lastExecutedByKernel": null,
    "lastScheduledRunId": null,
    "lastSuccessfullyExecutedCode": null,
    "outputsMetadata": {
     "0": {
      "height": 50,
      "tableState": {
       "customFilter": {
        "const": {
         "type": "boolean",
         "valid": true,
         "value": true
        },
        "id": "7118da83-59a8-4f18-99f1-deb32d93f035",
        "nodeType": "const"
       }
      },
      "type": "dataFrame"
     }
    }
   },
   "outputs": [
    {
     "data": {
      "application/com.datacamp.data-table.v2+json": {
       "table": {
        "data": {
         "0": [
          0,
          0,
          0,
          0,
          0,
          0,
          20
         ],
         "index": [
          "school_name",
          "borough",
          "building_code",
          "average_math",
          "average_reading",
          "average_writing",
          "percent_tested"
         ]
        },
        "schema": {
         "fields": [
          {
           "name": "index",
           "type": "string"
          },
          {
           "name": "0",
           "type": "integer"
          }
         ],
         "pandas_version": "1.4.0",
         "primaryKey": [
          "index"
         ]
        }
       },
       "total_rows": 7,
       "truncation_type": null
      },
      "text/plain": [
       "school_name         0\n",
       "borough             0\n",
       "building_code       0\n",
       "average_math        0\n",
       "average_reading     0\n",
       "average_writing     0\n",
       "percent_tested     20\n",
       "dtype: int64"
      ]
     },
     "execution_count": 139,
     "metadata": {
      "application/com.datacamp.data-table.v2+json": {
       "status": "success"
      }
     },
     "output_type": "execute_result"
    }
   ],
   "source": [
    "schools.isnull().sum()"
   ]
  },
  {
   "cell_type": "markdown",
   "id": "3dd56241-2f2f-4980-93ea-1f7770d931e6",
   "metadata": {},
   "source": [
    "* Percent tested is the only feature with null values"
   ]
  },
  {
   "cell_type": "markdown",
   "id": "e7fe12cf-9498-4a49-9e9e-db525e7d2f1b",
   "metadata": {},
   "source": [
    "## Summary Statistics"
   ]
  },
  {
   "cell_type": "markdown",
   "id": "58a3c405-8c25-4519-9c84-fc7780e7a656",
   "metadata": {},
   "source": [
    "* Wich NYC schools have the best math results?"
   ]
  },
  {
   "cell_type": "code",
   "execution_count": 140,
   "id": "b2eb6b9d-41cf-4668-a927-661be15204b7",
   "metadata": {
    "executionCancelledAt": null,
    "executionTime": 52,
    "lastExecutedAt": 1755885898487,
    "lastExecutedByKernel": "0f3755f6-b785-4504-9bab-90d93ebcf14d",
    "lastScheduledRunId": null,
    "lastSuccessfullyExecutedCode": "schools.columns"
   },
   "outputs": [
    {
     "data": {
      "text/plain": [
       "Index(['school_name', 'borough', 'building_code', 'average_math',\n",
       "       'average_reading', 'average_writing', 'percent_tested'],\n",
       "      dtype='object')"
      ]
     },
     "execution_count": 140,
     "metadata": {},
     "output_type": "execute_result"
    }
   ],
   "source": [
    "schools.columns"
   ]
  },
  {
   "cell_type": "code",
   "execution_count": 141,
   "id": "71db5fd7-9cd7-406f-92da-9c1c94578b2c",
   "metadata": {
    "executionCancelledAt": null,
    "executionTime": 55,
    "lastExecutedAt": 1755885898542,
    "lastExecutedByKernel": "0f3755f6-b785-4504-9bab-90d93ebcf14d",
    "lastScheduledRunId": null,
    "lastSuccessfullyExecutedCode": "cols = ['school_name', 'average_math']\nthreshold_score = 0.8 * 800\nmask_best_math_schools = schools['average_math'] >= threshold_score"
   },
   "outputs": [],
   "source": [
    "cols = ['school_name', 'average_math']\n",
    "threshold_score = 0.8 * 800\n",
    "mask_best_math_schools = schools['average_math'] >= threshold_score"
   ]
  },
  {
   "cell_type": "code",
   "execution_count": 142,
   "id": "5d2cca46-93e1-49c2-8780-3c8af342ee8d",
   "metadata": {
    "executionCancelledAt": null,
    "executionTime": null,
    "lastExecutedAt": null,
    "lastExecutedByKernel": null,
    "lastScheduledRunId": null,
    "lastSuccessfullyExecutedCode": null,
    "outputsMetadata": {
     "0": {
      "height": 50,
      "tableState": {
       "customFilter": {
        "const": {
         "type": "boolean",
         "valid": true,
         "value": true
        },
        "id": "7118da83-59a8-4f18-99f1-deb32d93f035",
        "nodeType": "const"
       }
      },
      "type": "dataFrame"
     }
    }
   },
   "outputs": [
    {
     "data": {
      "application/com.datacamp.data-table.v2+json": {
       "table": {
        "data": {
         "average_math": [
          754,
          714,
          711,
          701,
          683
         ],
         "index": [
          88,
          170,
          93,
          365,
          68
         ],
         "school_name": [
          "Stuyvesant High School",
          "Bronx High School of Science",
          "Staten Island Technical High School",
          "Queens High School for the Sciences at York College",
          "High School for Mathematics, Science, and Engineering at City College"
         ]
        },
        "schema": {
         "fields": [
          {
           "name": "index",
           "type": "integer"
          },
          {
           "name": "school_name",
           "type": "string"
          },
          {
           "name": "average_math",
           "type": "integer"
          }
         ],
         "pandas_version": "1.4.0",
         "primaryKey": [
          "index"
         ]
        }
       },
       "total_rows": 5,
       "truncation_type": null
      },
      "text/html": [
       "<div>\n",
       "<style scoped>\n",
       "    .dataframe tbody tr th:only-of-type {\n",
       "        vertical-align: middle;\n",
       "    }\n",
       "\n",
       "    .dataframe tbody tr th {\n",
       "        vertical-align: top;\n",
       "    }\n",
       "\n",
       "    .dataframe thead th {\n",
       "        text-align: right;\n",
       "    }\n",
       "</style>\n",
       "<table border=\"1\" class=\"dataframe\">\n",
       "  <thead>\n",
       "    <tr style=\"text-align: right;\">\n",
       "      <th></th>\n",
       "      <th>school_name</th>\n",
       "      <th>average_math</th>\n",
       "    </tr>\n",
       "  </thead>\n",
       "  <tbody>\n",
       "    <tr>\n",
       "      <th>88</th>\n",
       "      <td>Stuyvesant High School</td>\n",
       "      <td>754</td>\n",
       "    </tr>\n",
       "    <tr>\n",
       "      <th>170</th>\n",
       "      <td>Bronx High School of Science</td>\n",
       "      <td>714</td>\n",
       "    </tr>\n",
       "    <tr>\n",
       "      <th>93</th>\n",
       "      <td>Staten Island Technical High School</td>\n",
       "      <td>711</td>\n",
       "    </tr>\n",
       "    <tr>\n",
       "      <th>365</th>\n",
       "      <td>Queens High School for the Sciences at York Co...</td>\n",
       "      <td>701</td>\n",
       "    </tr>\n",
       "    <tr>\n",
       "      <th>68</th>\n",
       "      <td>High School for Mathematics, Science, and Engi...</td>\n",
       "      <td>683</td>\n",
       "    </tr>\n",
       "  </tbody>\n",
       "</table>\n",
       "</div>"
      ],
      "text/plain": [
       "                                           school_name  average_math\n",
       "88                              Stuyvesant High School           754\n",
       "170                       Bronx High School of Science           714\n",
       "93                 Staten Island Technical High School           711\n",
       "365  Queens High School for the Sciences at York Co...           701\n",
       "68   High School for Mathematics, Science, and Engi...           683"
      ]
     },
     "execution_count": 142,
     "metadata": {
      "application/com.datacamp.data-table.v2+json": {
       "status": "success"
      }
     },
     "output_type": "execute_result"
    }
   ],
   "source": [
    "best_math_schools = schools[mask_best_math_schools][cols].sort_values(by='average_math', ascending=False)\n",
    "best_math_schools.head()"
   ]
  },
  {
   "cell_type": "markdown",
   "id": "28b34178-a060-48f2-9986-d8743c24377b",
   "metadata": {},
   "source": [
    "* What are the top 10 performing schools based on the combined SAT scores?"
   ]
  },
  {
   "cell_type": "code",
   "execution_count": 143,
   "id": "b88f3a51-ccbb-4386-9467-5731fff7621c",
   "metadata": {
    "executionCancelledAt": null,
    "executionTime": null,
    "lastExecutedAt": null,
    "lastExecutedByKernel": null,
    "lastScheduledRunId": null,
    "lastSuccessfullyExecutedCode": null,
    "outputsMetadata": {
     "0": {
      "height": 50,
      "tableState": {
       "customFilter": {
        "const": {
         "type": "boolean",
         "valid": true,
         "value": true
        },
        "id": "7118da83-59a8-4f18-99f1-deb32d93f035",
        "nodeType": "const"
       }
      },
      "type": "dataFrame"
     }
    }
   },
   "outputs": [
    {
     "data": {
      "application/com.datacamp.data-table.v2+json": {
       "table": {
        "data": {
         "average_math": [
          657,
          395,
          418,
          613,
          410
         ],
         "average_reading": [
          601,
          411,
          428,
          453,
          406
         ],
         "average_writing": [
          601,
          387,
          415,
          463,
          381
         ],
         "borough": [
          "Manhattan",
          "Manhattan",
          "Manhattan",
          "Manhattan",
          "Manhattan"
         ],
         "building_code": [
          "M022",
          "M445",
          "M445",
          "M445",
          "M056"
         ],
         "index": [
          0,
          1,
          2,
          3,
          4
         ],
         "percent_tested": [
          null,
          78.9,
          65.1,
          95.9,
          59.7
         ],
         "school_name": [
          "New Explorations into Science, Technology and Math High School",
          "Essex Street Academy",
          "Lower Manhattan Arts Academy",
          "High School for Dual Language and Asian Studies",
          "Henry Street School for International Studies"
         ],
         "total_SAT": [
          1859,
          1193,
          1261,
          1529,
          1197
         ]
        },
        "schema": {
         "fields": [
          {
           "name": "index",
           "type": "integer"
          },
          {
           "name": "school_name",
           "type": "string"
          },
          {
           "name": "borough",
           "type": "string"
          },
          {
           "name": "building_code",
           "type": "string"
          },
          {
           "name": "average_math",
           "type": "integer"
          },
          {
           "name": "average_reading",
           "type": "integer"
          },
          {
           "name": "average_writing",
           "type": "integer"
          },
          {
           "name": "percent_tested",
           "type": "number"
          },
          {
           "name": "total_SAT",
           "type": "integer"
          }
         ],
         "pandas_version": "1.4.0",
         "primaryKey": [
          "index"
         ]
        }
       },
       "total_rows": 5,
       "truncation_type": null
      },
      "text/html": [
       "<div>\n",
       "<style scoped>\n",
       "    .dataframe tbody tr th:only-of-type {\n",
       "        vertical-align: middle;\n",
       "    }\n",
       "\n",
       "    .dataframe tbody tr th {\n",
       "        vertical-align: top;\n",
       "    }\n",
       "\n",
       "    .dataframe thead th {\n",
       "        text-align: right;\n",
       "    }\n",
       "</style>\n",
       "<table border=\"1\" class=\"dataframe\">\n",
       "  <thead>\n",
       "    <tr style=\"text-align: right;\">\n",
       "      <th></th>\n",
       "      <th>school_name</th>\n",
       "      <th>borough</th>\n",
       "      <th>building_code</th>\n",
       "      <th>average_math</th>\n",
       "      <th>average_reading</th>\n",
       "      <th>average_writing</th>\n",
       "      <th>percent_tested</th>\n",
       "      <th>total_SAT</th>\n",
       "    </tr>\n",
       "  </thead>\n",
       "  <tbody>\n",
       "    <tr>\n",
       "      <th>0</th>\n",
       "      <td>New Explorations into Science, Technology and ...</td>\n",
       "      <td>Manhattan</td>\n",
       "      <td>M022</td>\n",
       "      <td>657</td>\n",
       "      <td>601</td>\n",
       "      <td>601</td>\n",
       "      <td>NaN</td>\n",
       "      <td>1859</td>\n",
       "    </tr>\n",
       "    <tr>\n",
       "      <th>1</th>\n",
       "      <td>Essex Street Academy</td>\n",
       "      <td>Manhattan</td>\n",
       "      <td>M445</td>\n",
       "      <td>395</td>\n",
       "      <td>411</td>\n",
       "      <td>387</td>\n",
       "      <td>78.9</td>\n",
       "      <td>1193</td>\n",
       "    </tr>\n",
       "    <tr>\n",
       "      <th>2</th>\n",
       "      <td>Lower Manhattan Arts Academy</td>\n",
       "      <td>Manhattan</td>\n",
       "      <td>M445</td>\n",
       "      <td>418</td>\n",
       "      <td>428</td>\n",
       "      <td>415</td>\n",
       "      <td>65.1</td>\n",
       "      <td>1261</td>\n",
       "    </tr>\n",
       "    <tr>\n",
       "      <th>3</th>\n",
       "      <td>High School for Dual Language and Asian Studies</td>\n",
       "      <td>Manhattan</td>\n",
       "      <td>M445</td>\n",
       "      <td>613</td>\n",
       "      <td>453</td>\n",
       "      <td>463</td>\n",
       "      <td>95.9</td>\n",
       "      <td>1529</td>\n",
       "    </tr>\n",
       "    <tr>\n",
       "      <th>4</th>\n",
       "      <td>Henry Street School for International Studies</td>\n",
       "      <td>Manhattan</td>\n",
       "      <td>M056</td>\n",
       "      <td>410</td>\n",
       "      <td>406</td>\n",
       "      <td>381</td>\n",
       "      <td>59.7</td>\n",
       "      <td>1197</td>\n",
       "    </tr>\n",
       "  </tbody>\n",
       "</table>\n",
       "</div>"
      ],
      "text/plain": [
       "                                         school_name  ... total_SAT\n",
       "0  New Explorations into Science, Technology and ...  ...      1859\n",
       "1                               Essex Street Academy  ...      1193\n",
       "2                       Lower Manhattan Arts Academy  ...      1261\n",
       "3    High School for Dual Language and Asian Studies  ...      1529\n",
       "4      Henry Street School for International Studies  ...      1197\n",
       "\n",
       "[5 rows x 8 columns]"
      ]
     },
     "execution_count": 143,
     "metadata": {
      "application/com.datacamp.data-table.v2+json": {
       "status": "success"
      }
     },
     "output_type": "execute_result"
    }
   ],
   "source": [
    "schools['total_SAT'] = schools['average_math'] + schools['average_reading'] + schools['average_writing']\n",
    "schools.head()"
   ]
  },
  {
   "cell_type": "code",
   "execution_count": 144,
   "id": "fd669893-f793-4eb5-b1a3-c9c98dd662ee",
   "metadata": {
    "executionCancelledAt": null,
    "executionTime": 47,
    "lastExecutedAt": 1755885898698,
    "lastExecutedByKernel": "0f3755f6-b785-4504-9bab-90d93ebcf14d",
    "lastScheduledRunId": null,
    "lastSuccessfullyExecutedCode": "cols2 = ['school_name', 'total_SAT']"
   },
   "outputs": [],
   "source": [
    "cols2 = ['school_name', 'total_SAT']"
   ]
  },
  {
   "cell_type": "code",
   "execution_count": 145,
   "id": "d28f8154-fb49-463a-818e-084d56bf4ee0",
   "metadata": {
    "executionCancelledAt": null,
    "executionTime": null,
    "lastExecutedAt": null,
    "lastExecutedByKernel": null,
    "lastScheduledRunId": null,
    "lastSuccessfullyExecutedCode": null,
    "outputsMetadata": {
     "0": {
      "height": 50,
      "tableState": {
       "customFilter": {
        "const": {
         "type": "boolean",
         "valid": true,
         "value": true
        },
        "id": "7118da83-59a8-4f18-99f1-deb32d93f035",
        "nodeType": "const"
       }
      },
      "type": "dataFrame"
     }
    }
   },
   "outputs": [
    {
     "data": {
      "application/com.datacamp.data-table.v2+json": {
       "table": {
        "data": {
         "index": [
          88,
          170,
          93,
          174,
          333,
          365,
          5,
          280,
          45,
          68
         ],
         "school_name": [
          "Stuyvesant High School",
          "Bronx High School of Science",
          "Staten Island Technical High School",
          "High School of American Studies at Lehman College",
          "Townsend Harris High School",
          "Queens High School for the Sciences at York College",
          "Bard High School Early College",
          "Brooklyn Technical High School",
          "Eleanor Roosevelt High School",
          "High School for Mathematics, Science, and Engineering at City College"
         ],
         "total_SAT": [
          2144,
          2041,
          2041,
          2013,
          1981,
          1947,
          1914,
          1896,
          1889,
          1889
         ]
        },
        "schema": {
         "fields": [
          {
           "name": "index",
           "type": "integer"
          },
          {
           "name": "school_name",
           "type": "string"
          },
          {
           "name": "total_SAT",
           "type": "integer"
          }
         ],
         "pandas_version": "1.4.0",
         "primaryKey": [
          "index"
         ]
        }
       },
       "total_rows": 10,
       "truncation_type": null
      },
      "text/html": [
       "<div>\n",
       "<style scoped>\n",
       "    .dataframe tbody tr th:only-of-type {\n",
       "        vertical-align: middle;\n",
       "    }\n",
       "\n",
       "    .dataframe tbody tr th {\n",
       "        vertical-align: top;\n",
       "    }\n",
       "\n",
       "    .dataframe thead th {\n",
       "        text-align: right;\n",
       "    }\n",
       "</style>\n",
       "<table border=\"1\" class=\"dataframe\">\n",
       "  <thead>\n",
       "    <tr style=\"text-align: right;\">\n",
       "      <th></th>\n",
       "      <th>school_name</th>\n",
       "      <th>total_SAT</th>\n",
       "    </tr>\n",
       "  </thead>\n",
       "  <tbody>\n",
       "    <tr>\n",
       "      <th>88</th>\n",
       "      <td>Stuyvesant High School</td>\n",
       "      <td>2144</td>\n",
       "    </tr>\n",
       "    <tr>\n",
       "      <th>170</th>\n",
       "      <td>Bronx High School of Science</td>\n",
       "      <td>2041</td>\n",
       "    </tr>\n",
       "    <tr>\n",
       "      <th>93</th>\n",
       "      <td>Staten Island Technical High School</td>\n",
       "      <td>2041</td>\n",
       "    </tr>\n",
       "    <tr>\n",
       "      <th>174</th>\n",
       "      <td>High School of American Studies at Lehman College</td>\n",
       "      <td>2013</td>\n",
       "    </tr>\n",
       "    <tr>\n",
       "      <th>333</th>\n",
       "      <td>Townsend Harris High School</td>\n",
       "      <td>1981</td>\n",
       "    </tr>\n",
       "    <tr>\n",
       "      <th>365</th>\n",
       "      <td>Queens High School for the Sciences at York Co...</td>\n",
       "      <td>1947</td>\n",
       "    </tr>\n",
       "    <tr>\n",
       "      <th>5</th>\n",
       "      <td>Bard High School Early College</td>\n",
       "      <td>1914</td>\n",
       "    </tr>\n",
       "    <tr>\n",
       "      <th>280</th>\n",
       "      <td>Brooklyn Technical High School</td>\n",
       "      <td>1896</td>\n",
       "    </tr>\n",
       "    <tr>\n",
       "      <th>45</th>\n",
       "      <td>Eleanor Roosevelt High School</td>\n",
       "      <td>1889</td>\n",
       "    </tr>\n",
       "    <tr>\n",
       "      <th>68</th>\n",
       "      <td>High School for Mathematics, Science, and Engi...</td>\n",
       "      <td>1889</td>\n",
       "    </tr>\n",
       "  </tbody>\n",
       "</table>\n",
       "</div>"
      ],
      "text/plain": [
       "                                           school_name  total_SAT\n",
       "88                              Stuyvesant High School       2144\n",
       "170                       Bronx High School of Science       2041\n",
       "93                 Staten Island Technical High School       2041\n",
       "174  High School of American Studies at Lehman College       2013\n",
       "333                        Townsend Harris High School       1981\n",
       "365  Queens High School for the Sciences at York Co...       1947\n",
       "5                       Bard High School Early College       1914\n",
       "280                     Brooklyn Technical High School       1896\n",
       "45                       Eleanor Roosevelt High School       1889\n",
       "68   High School for Mathematics, Science, and Engi...       1889"
      ]
     },
     "execution_count": 145,
     "metadata": {
      "application/com.datacamp.data-table.v2+json": {
       "status": "success"
      }
     },
     "output_type": "execute_result"
    }
   ],
   "source": [
    "top_10_schools = schools.sort_values(by='total_SAT', ascending=False)[cols2].head(10)\n",
    "top_10_schools"
   ]
  },
  {
   "cell_type": "markdown",
   "id": "aa3a609c-993f-4518-be4c-ecb84b92fafb",
   "metadata": {},
   "source": [
    "* Which single borough has the largest standard deviation in the combined SAT score?"
   ]
  },
  {
   "cell_type": "code",
   "execution_count": 146,
   "id": "234409c8-d74c-4053-b521-7e19cc138f85",
   "metadata": {
    "executionCancelledAt": null,
    "executionTime": 48,
    "lastExecutedAt": 1755885898795,
    "lastExecutedByKernel": "0f3755f6-b785-4504-9bab-90d93ebcf14d",
    "lastScheduledRunId": null,
    "lastSuccessfullyExecutedCode": "schools_by_borough = schools.groupby('borough')['total_SAT'].agg(['count', 'mean', 'std']).round(2)\nschools_by_borough.rename(\n        columns={'count': 'num_schools', 'mean': 'average_SAT', 'std': 'std_SAT'}, \n        inplace=True\n    )\nschools_by_borough",
    "outputsMetadata": {
     "0": {
      "height": 50,
      "tableState": {
       "customFilter": {
        "const": {
         "type": "boolean",
         "valid": true,
         "value": true
        },
        "id": "7118da83-59a8-4f18-99f1-deb32d93f035",
        "nodeType": "const"
       }
      },
      "type": "dataFrame"
     }
    }
   },
   "outputs": [
    {
     "data": {
      "application/com.datacamp.data-table.v2+json": {
       "table": {
        "data": {
         "average_SAT": [
          1202.72,
          1230.26,
          1340.13,
          1345.48,
          1439
         ],
         "borough": [
          "Bronx",
          "Brooklyn",
          "Manhattan",
          "Queens",
          "Staten Island"
         ],
         "num_schools": [
          98,
          109,
          89,
          69,
          10
         ],
         "std_SAT": [
          150.39,
          154.87,
          230.29,
          195.25,
          222.3
         ]
        },
        "schema": {
         "fields": [
          {
           "name": "borough",
           "type": "string"
          },
          {
           "name": "num_schools",
           "type": "integer"
          },
          {
           "name": "average_SAT",
           "type": "number"
          },
          {
           "name": "std_SAT",
           "type": "number"
          }
         ],
         "pandas_version": "1.4.0",
         "primaryKey": [
          "borough"
         ]
        }
       },
       "total_rows": 5,
       "truncation_type": null
      },
      "text/html": [
       "<div>\n",
       "<style scoped>\n",
       "    .dataframe tbody tr th:only-of-type {\n",
       "        vertical-align: middle;\n",
       "    }\n",
       "\n",
       "    .dataframe tbody tr th {\n",
       "        vertical-align: top;\n",
       "    }\n",
       "\n",
       "    .dataframe thead th {\n",
       "        text-align: right;\n",
       "    }\n",
       "</style>\n",
       "<table border=\"1\" class=\"dataframe\">\n",
       "  <thead>\n",
       "    <tr style=\"text-align: right;\">\n",
       "      <th></th>\n",
       "      <th>num_schools</th>\n",
       "      <th>average_SAT</th>\n",
       "      <th>std_SAT</th>\n",
       "    </tr>\n",
       "    <tr>\n",
       "      <th>borough</th>\n",
       "      <th></th>\n",
       "      <th></th>\n",
       "      <th></th>\n",
       "    </tr>\n",
       "  </thead>\n",
       "  <tbody>\n",
       "    <tr>\n",
       "      <th>Bronx</th>\n",
       "      <td>98</td>\n",
       "      <td>1202.72</td>\n",
       "      <td>150.39</td>\n",
       "    </tr>\n",
       "    <tr>\n",
       "      <th>Brooklyn</th>\n",
       "      <td>109</td>\n",
       "      <td>1230.26</td>\n",
       "      <td>154.87</td>\n",
       "    </tr>\n",
       "    <tr>\n",
       "      <th>Manhattan</th>\n",
       "      <td>89</td>\n",
       "      <td>1340.13</td>\n",
       "      <td>230.29</td>\n",
       "    </tr>\n",
       "    <tr>\n",
       "      <th>Queens</th>\n",
       "      <td>69</td>\n",
       "      <td>1345.48</td>\n",
       "      <td>195.25</td>\n",
       "    </tr>\n",
       "    <tr>\n",
       "      <th>Staten Island</th>\n",
       "      <td>10</td>\n",
       "      <td>1439.00</td>\n",
       "      <td>222.30</td>\n",
       "    </tr>\n",
       "  </tbody>\n",
       "</table>\n",
       "</div>"
      ],
      "text/plain": [
       "               num_schools  average_SAT  std_SAT\n",
       "borough                                         \n",
       "Bronx                   98      1202.72   150.39\n",
       "Brooklyn               109      1230.26   154.87\n",
       "Manhattan               89      1340.13   230.29\n",
       "Queens                  69      1345.48   195.25\n",
       "Staten Island           10      1439.00   222.30"
      ]
     },
     "execution_count": 146,
     "metadata": {
      "application/com.datacamp.data-table.v2+json": {
       "status": "success"
      }
     },
     "output_type": "execute_result"
    }
   ],
   "source": [
    "schools_by_borough = schools.groupby('borough')['total_SAT'].agg(['count', 'mean', 'std']).round(2)\n",
    "schools_by_borough.rename(\n",
    "        columns={'count': 'num_schools', 'mean': 'average_SAT', 'std': 'std_SAT'}, \n",
    "        inplace=True\n",
    "    )\n",
    "schools_by_borough"
   ]
  },
  {
   "cell_type": "code",
   "execution_count": 147,
   "id": "f6238599-c8c7-4284-b5eb-8c7120aa0060",
   "metadata": {
    "executionCancelledAt": null,
    "executionTime": 60,
    "lastExecutedAt": 1755885898855,
    "lastExecutedByKernel": "0f3755f6-b785-4504-9bab-90d93ebcf14d",
    "lastScheduledRunId": null,
    "lastSuccessfullyExecutedCode": "largest_std_dev = schools_by_borough[\n    schools_by_borough['std_SAT'] == schools_by_borough['std_SAT'].max()\n]\nlargest_std_dev",
    "outputsMetadata": {
     "0": {
      "height": 50,
      "tableState": {
       "customFilter": {
        "const": {
         "type": "boolean",
         "valid": true,
         "value": true
        },
        "id": "7118da83-59a8-4f18-99f1-deb32d93f035",
        "nodeType": "const"
       }
      },
      "type": "dataFrame"
     }
    }
   },
   "outputs": [
    {
     "data": {
      "application/com.datacamp.data-table.v2+json": {
       "table": {
        "data": {
         "average_SAT": [
          1340.13
         ],
         "borough": [
          "Manhattan"
         ],
         "num_schools": [
          89
         ],
         "std_SAT": [
          230.29
         ]
        },
        "schema": {
         "fields": [
          {
           "name": "borough",
           "type": "string"
          },
          {
           "name": "num_schools",
           "type": "integer"
          },
          {
           "name": "average_SAT",
           "type": "number"
          },
          {
           "name": "std_SAT",
           "type": "number"
          }
         ],
         "pandas_version": "1.4.0",
         "primaryKey": [
          "borough"
         ]
        }
       },
       "total_rows": 1,
       "truncation_type": null
      },
      "text/html": [
       "<div>\n",
       "<style scoped>\n",
       "    .dataframe tbody tr th:only-of-type {\n",
       "        vertical-align: middle;\n",
       "    }\n",
       "\n",
       "    .dataframe tbody tr th {\n",
       "        vertical-align: top;\n",
       "    }\n",
       "\n",
       "    .dataframe thead th {\n",
       "        text-align: right;\n",
       "    }\n",
       "</style>\n",
       "<table border=\"1\" class=\"dataframe\">\n",
       "  <thead>\n",
       "    <tr style=\"text-align: right;\">\n",
       "      <th></th>\n",
       "      <th>num_schools</th>\n",
       "      <th>average_SAT</th>\n",
       "      <th>std_SAT</th>\n",
       "    </tr>\n",
       "    <tr>\n",
       "      <th>borough</th>\n",
       "      <th></th>\n",
       "      <th></th>\n",
       "      <th></th>\n",
       "    </tr>\n",
       "  </thead>\n",
       "  <tbody>\n",
       "    <tr>\n",
       "      <th>Manhattan</th>\n",
       "      <td>89</td>\n",
       "      <td>1340.13</td>\n",
       "      <td>230.29</td>\n",
       "    </tr>\n",
       "  </tbody>\n",
       "</table>\n",
       "</div>"
      ],
      "text/plain": [
       "           num_schools  average_SAT  std_SAT\n",
       "borough                                     \n",
       "Manhattan           89      1340.13   230.29"
      ]
     },
     "execution_count": 147,
     "metadata": {
      "application/com.datacamp.data-table.v2+json": {
       "status": "success"
      }
     },
     "output_type": "execute_result"
    }
   ],
   "source": [
    "largest_std_dev = schools_by_borough[\n",
    "    schools_by_borough['std_SAT'] == schools_by_borough['std_SAT'].max()\n",
    "]\n",
    "largest_std_dev"
   ]
  },
  {
   "cell_type": "markdown",
   "id": "a8b7eced-8fb6-48b7-a68e-9fb8c396a298",
   "metadata": {},
   "source": [
    "## Plotting results"
   ]
  }
 ],
 "metadata": {
  "editor": "DataLab",
  "kernelspec": {
   "display_name": "Python 3 (ipykernel)",
   "language": "python",
   "name": "python3"
  },
  "language_info": {
   "codemirror_mode": {
    "name": "ipython",
    "version": 3
   },
   "file_extension": ".py",
   "mimetype": "text/x-python",
   "name": "python",
   "nbconvert_exporter": "python",
   "pygments_lexer": "ipython3",
   "version": "3.8.10"
  }
 },
 "nbformat": 4,
 "nbformat_minor": 5
}
