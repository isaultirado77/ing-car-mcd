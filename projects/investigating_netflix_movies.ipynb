{
 "cells": [
  {
   "cell_type": "code",
   "execution_count": 74,
   "id": "320a3abc-8a36-4b2b-baaf-473325363a4d",
   "metadata": {
    "executionCancelledAt": null,
    "executionTime": 49,
    "lastExecutedAt": 1755798447092,
    "lastExecutedByKernel": "e4d09064-5b49-4abb-9e2d-59f4faaa4ac4",
    "lastScheduledRunId": null,
    "lastSuccessfullyExecutedCode": "# Importing pandas and matplotlib\nimport pandas as pd\nimport matplotlib.pyplot as plt"
   },
   "outputs": [],
   "source": [
    "# Importing pandas and matplotlib\n",
    "import pandas as pd\n",
    "import matplotlib.pyplot as plt"
   ]
  },
  {
   "cell_type": "code",
   "execution_count": 75,
   "id": "9f92a131-2195-4f8a-924e-855f753944a6",
   "metadata": {
    "executionCancelledAt": null,
    "executionTime": 48,
    "lastExecutedAt": 1755798447140,
    "lastExecutedByKernel": "e4d09064-5b49-4abb-9e2d-59f4faaa4ac4",
    "lastScheduledRunId": null,
    "lastSuccessfullyExecutedCode": "# Read in the Netflix CSV as a DataFrame\nnetflix_df = pd.read_csv(\"netflix_data.csv\")"
   },
   "outputs": [],
   "source": [
    "# Read in the Netflix CSV as a DataFrame\n",
    "netflix_df = pd.read_csv(\"netflix_data.csv\")"
   ]
  },
  {
   "cell_type": "markdown",
   "id": "37d73cdd-36d7-4c64-8d8b-5dd7f8d55e48",
   "metadata": {},
   "source": [
    "# EDA"
   ]
  },
  {
   "cell_type": "code",
   "execution_count": 76,
   "id": "14925249-2c59-489d-af94-0d78ff6fede4",
   "metadata": {
    "executionCancelledAt": null,
    "executionTime": 52,
    "lastExecutedAt": 1755798447192,
    "lastExecutedByKernel": "e4d09064-5b49-4abb-9e2d-59f4faaa4ac4",
    "lastScheduledRunId": null,
    "lastSuccessfullyExecutedCode": "netflix_df.head()",
    "outputsMetadata": {
     "0": {
      "height": 550,
      "tableState": {},
      "type": "dataFrame"
     }
    }
   },
   "outputs": [
    {
     "data": {
      "application/com.datacamp.data-table.v2+json": {
       "table": {
        "data": {
         "cast": [
          "Demián Bichir, Héctor Bonilla, Oscar Serrano, Azalia Ortiz, Octavio Michel, Carmen Beato",
          "Tedd Chan, Stella Chung, Henley Hii, Lawrence Koh, Tommy Kuan, Josh Lai, Mark Lee, Susan Leong, Benjamin Lim",
          "Elijah Wood, John C. Reilly, Jennifer Connelly, Christopher Plummer, Crispin Glover, Martin Landau, Fred Tatasciore, Alan Oppenheimer, Tom Kane",
          "Jim Sturgess, Kevin Spacey, Kate Bosworth, Aaron Yoo, Liza Lapira, Jacob Pitts, Laurence Fishburne, Jack McGee, Josh Gad, Sam Golzari, Helen Carey, Jack Gilpin",
          "Erdal Beşikçioğlu, Yasemin Allen, Melis Birkan, Saygın Soysal, Berkan Şal, Metin Belgin, Ayça Eren, Selin Uludoğan, Özay Fecht, Suna Yıldızoğlu"
         ],
         "country": [
          "Mexico",
          "Singapore",
          "United States",
          "United States",
          "Turkey"
         ],
         "date_added": [
          "December 23, 2016",
          "December 20, 2018",
          "November 16, 2017",
          "January 1, 2020",
          "July 1, 2017"
         ],
         "description": [
          "After a devastating earthquake hits Mexico City, trapped survivors from all walks of life wait to be rescued while trying desperately to stay alive.",
          "When an army recruit is found dead, his fellow soldiers are forced to confront a terrifying secret that's haunting their jungle island training camp.",
          "In a postapocalyptic world, rag-doll robots hide in fear from dangerous machines out to exterminate them, until a brave newcomer joins the group.",
          "A brilliant group of students become card-counting experts with the intent of swindling millions out of Las Vegas casinos by playing blackjack.",
          "A genetics professor experiments with a treatment for his comatose sister that blends medical and shamanic cures, but unlocks a shocking side effect."
         ],
         "director": [
          "Jorge Michel Grau",
          "Gilbert Chan",
          "Shane Acker",
          "Robert Luketic",
          "Serdar Akar"
         ],
         "duration": [
          93,
          78,
          80,
          123,
          1
         ],
         "genre": [
          "Dramas",
          "Horror Movies",
          "Action",
          "Dramas",
          "International TV"
         ],
         "index": [
          0,
          1,
          2,
          3,
          4
         ],
         "release_year": [
          2016,
          2011,
          2009,
          2008,
          2016
         ],
         "show_id": [
          "s2",
          "s3",
          "s4",
          "s5",
          "s6"
         ],
         "title": [
          "7:19",
          "23:59",
          "9",
          "21",
          "46"
         ],
         "type": [
          "Movie",
          "Movie",
          "Movie",
          "Movie",
          "TV Show"
         ]
        },
        "schema": {
         "fields": [
          {
           "name": "index",
           "type": "integer"
          },
          {
           "name": "show_id",
           "type": "string"
          },
          {
           "name": "type",
           "type": "string"
          },
          {
           "name": "title",
           "type": "string"
          },
          {
           "name": "director",
           "type": "string"
          },
          {
           "name": "cast",
           "type": "string"
          },
          {
           "name": "country",
           "type": "string"
          },
          {
           "name": "date_added",
           "type": "string"
          },
          {
           "name": "release_year",
           "type": "integer"
          },
          {
           "name": "duration",
           "type": "integer"
          },
          {
           "name": "description",
           "type": "string"
          },
          {
           "name": "genre",
           "type": "string"
          }
         ],
         "pandas_version": "1.4.0",
         "primaryKey": [
          "index"
         ]
        }
       },
       "total_rows": 5,
       "truncation_type": null
      },
      "text/html": [
       "<div>\n",
       "<style scoped>\n",
       "    .dataframe tbody tr th:only-of-type {\n",
       "        vertical-align: middle;\n",
       "    }\n",
       "\n",
       "    .dataframe tbody tr th {\n",
       "        vertical-align: top;\n",
       "    }\n",
       "\n",
       "    .dataframe thead th {\n",
       "        text-align: right;\n",
       "    }\n",
       "</style>\n",
       "<table border=\"1\" class=\"dataframe\">\n",
       "  <thead>\n",
       "    <tr style=\"text-align: right;\">\n",
       "      <th></th>\n",
       "      <th>show_id</th>\n",
       "      <th>type</th>\n",
       "      <th>title</th>\n",
       "      <th>director</th>\n",
       "      <th>cast</th>\n",
       "      <th>country</th>\n",
       "      <th>date_added</th>\n",
       "      <th>release_year</th>\n",
       "      <th>duration</th>\n",
       "      <th>description</th>\n",
       "      <th>genre</th>\n",
       "    </tr>\n",
       "  </thead>\n",
       "  <tbody>\n",
       "    <tr>\n",
       "      <th>0</th>\n",
       "      <td>s2</td>\n",
       "      <td>Movie</td>\n",
       "      <td>7:19</td>\n",
       "      <td>Jorge Michel Grau</td>\n",
       "      <td>Demián Bichir, Héctor Bonilla, Oscar Serrano, ...</td>\n",
       "      <td>Mexico</td>\n",
       "      <td>December 23, 2016</td>\n",
       "      <td>2016</td>\n",
       "      <td>93</td>\n",
       "      <td>After a devastating earthquake hits Mexico Cit...</td>\n",
       "      <td>Dramas</td>\n",
       "    </tr>\n",
       "    <tr>\n",
       "      <th>1</th>\n",
       "      <td>s3</td>\n",
       "      <td>Movie</td>\n",
       "      <td>23:59</td>\n",
       "      <td>Gilbert Chan</td>\n",
       "      <td>Tedd Chan, Stella Chung, Henley Hii, Lawrence ...</td>\n",
       "      <td>Singapore</td>\n",
       "      <td>December 20, 2018</td>\n",
       "      <td>2011</td>\n",
       "      <td>78</td>\n",
       "      <td>When an army recruit is found dead, his fellow...</td>\n",
       "      <td>Horror Movies</td>\n",
       "    </tr>\n",
       "    <tr>\n",
       "      <th>2</th>\n",
       "      <td>s4</td>\n",
       "      <td>Movie</td>\n",
       "      <td>9</td>\n",
       "      <td>Shane Acker</td>\n",
       "      <td>Elijah Wood, John C. Reilly, Jennifer Connelly...</td>\n",
       "      <td>United States</td>\n",
       "      <td>November 16, 2017</td>\n",
       "      <td>2009</td>\n",
       "      <td>80</td>\n",
       "      <td>In a postapocalyptic world, rag-doll robots hi...</td>\n",
       "      <td>Action</td>\n",
       "    </tr>\n",
       "    <tr>\n",
       "      <th>3</th>\n",
       "      <td>s5</td>\n",
       "      <td>Movie</td>\n",
       "      <td>21</td>\n",
       "      <td>Robert Luketic</td>\n",
       "      <td>Jim Sturgess, Kevin Spacey, Kate Bosworth, Aar...</td>\n",
       "      <td>United States</td>\n",
       "      <td>January 1, 2020</td>\n",
       "      <td>2008</td>\n",
       "      <td>123</td>\n",
       "      <td>A brilliant group of students become card-coun...</td>\n",
       "      <td>Dramas</td>\n",
       "    </tr>\n",
       "    <tr>\n",
       "      <th>4</th>\n",
       "      <td>s6</td>\n",
       "      <td>TV Show</td>\n",
       "      <td>46</td>\n",
       "      <td>Serdar Akar</td>\n",
       "      <td>Erdal Beşikçioğlu, Yasemin Allen, Melis Birkan...</td>\n",
       "      <td>Turkey</td>\n",
       "      <td>July 1, 2017</td>\n",
       "      <td>2016</td>\n",
       "      <td>1</td>\n",
       "      <td>A genetics professor experiments with a treatm...</td>\n",
       "      <td>International TV</td>\n",
       "    </tr>\n",
       "  </tbody>\n",
       "</table>\n",
       "</div>"
      ],
      "text/plain": [
       "  show_id  ...             genre\n",
       "0      s2  ...            Dramas\n",
       "1      s3  ...     Horror Movies\n",
       "2      s4  ...            Action\n",
       "3      s5  ...            Dramas\n",
       "4      s6  ...  International TV\n",
       "\n",
       "[5 rows x 11 columns]"
      ]
     },
     "execution_count": 76,
     "metadata": {
      "application/com.datacamp.data-table.v2+json": {
       "status": "success"
      }
     },
     "output_type": "execute_result"
    }
   ],
   "source": [
    "netflix_df.head()"
   ]
  },
  {
   "cell_type": "code",
   "execution_count": 77,
   "id": "72658473-114f-49eb-bd4e-cc03c710834a",
   "metadata": {
    "executionCancelledAt": null,
    "executionTime": 53,
    "lastExecutedAt": 1755798447245,
    "lastExecutedByKernel": "e4d09064-5b49-4abb-9e2d-59f4faaa4ac4",
    "lastScheduledRunId": null,
    "lastSuccessfullyExecutedCode": "netflix_df.info()",
    "outputsMetadata": {
     "0": {
      "height": 395,
      "type": "stream"
     }
    }
   },
   "outputs": [
    {
     "name": "stdout",
     "output_type": "stream",
     "text": [
      "<class 'pandas.core.frame.DataFrame'>\n",
      "RangeIndex: 4812 entries, 0 to 4811\n",
      "Data columns (total 11 columns):\n",
      " #   Column        Non-Null Count  Dtype \n",
      "---  ------        --------------  ----- \n",
      " 0   show_id       4812 non-null   object\n",
      " 1   type          4812 non-null   object\n",
      " 2   title         4812 non-null   object\n",
      " 3   director      4812 non-null   object\n",
      " 4   cast          4812 non-null   object\n",
      " 5   country       4812 non-null   object\n",
      " 6   date_added    4812 non-null   object\n",
      " 7   release_year  4812 non-null   int64 \n",
      " 8   duration      4812 non-null   int64 \n",
      " 9   description   4812 non-null   object\n",
      " 10  genre         4812 non-null   object\n",
      "dtypes: int64(2), object(9)\n",
      "memory usage: 413.7+ KB\n"
     ]
    }
   ],
   "source": [
    "netflix_df.info()"
   ]
  },
  {
   "cell_type": "markdown",
   "id": "d0189608-fe1d-4e00-9a4f-63f7cd7d3d5e",
   "metadata": {},
   "source": [
    "* There isn't null values on the DataFrame"
   ]
  },
  {
   "cell_type": "code",
   "execution_count": 78,
   "id": "fd74eea8-af27-4ba9-adb0-52e65190760f",
   "metadata": {
    "executionCancelledAt": null,
    "executionTime": 47,
    "lastExecutedAt": 1755798447292,
    "lastExecutedByKernel": "e4d09064-5b49-4abb-9e2d-59f4faaa4ac4",
    "lastScheduledRunId": null,
    "lastSuccessfullyExecutedCode": "netflix_df.describe()",
    "outputsMetadata": {
     "0": {
      "height": 550,
      "tableState": {},
      "type": "dataFrame"
     }
    }
   },
   "outputs": [
    {
     "data": {
      "application/com.datacamp.data-table.v2+json": {
       "table": {
        "data": {
         "duration": [
          4812,
          99.5667082294,
          30.8893048709,
          1,
          88,
          99,
          116,
          253
         ],
         "index": [
          "count",
          "mean",
          "std",
          "min",
          "25%",
          "50%",
          "75%",
          "max"
         ],
         "release_year": [
          4812,
          2012.7115544472,
          9.5179777992,
          1942,
          2011,
          2016,
          2018,
          2021
         ]
        },
        "schema": {
         "fields": [
          {
           "name": "index",
           "type": "string"
          },
          {
           "name": "release_year",
           "type": "number"
          },
          {
           "name": "duration",
           "type": "number"
          }
         ],
         "pandas_version": "1.4.0",
         "primaryKey": [
          "index"
         ]
        }
       },
       "total_rows": 8,
       "truncation_type": null
      },
      "text/html": [
       "<div>\n",
       "<style scoped>\n",
       "    .dataframe tbody tr th:only-of-type {\n",
       "        vertical-align: middle;\n",
       "    }\n",
       "\n",
       "    .dataframe tbody tr th {\n",
       "        vertical-align: top;\n",
       "    }\n",
       "\n",
       "    .dataframe thead th {\n",
       "        text-align: right;\n",
       "    }\n",
       "</style>\n",
       "<table border=\"1\" class=\"dataframe\">\n",
       "  <thead>\n",
       "    <tr style=\"text-align: right;\">\n",
       "      <th></th>\n",
       "      <th>release_year</th>\n",
       "      <th>duration</th>\n",
       "    </tr>\n",
       "  </thead>\n",
       "  <tbody>\n",
       "    <tr>\n",
       "      <th>count</th>\n",
       "      <td>4812.000000</td>\n",
       "      <td>4812.000000</td>\n",
       "    </tr>\n",
       "    <tr>\n",
       "      <th>mean</th>\n",
       "      <td>2012.711554</td>\n",
       "      <td>99.566708</td>\n",
       "    </tr>\n",
       "    <tr>\n",
       "      <th>std</th>\n",
       "      <td>9.517978</td>\n",
       "      <td>30.889305</td>\n",
       "    </tr>\n",
       "    <tr>\n",
       "      <th>min</th>\n",
       "      <td>1942.000000</td>\n",
       "      <td>1.000000</td>\n",
       "    </tr>\n",
       "    <tr>\n",
       "      <th>25%</th>\n",
       "      <td>2011.000000</td>\n",
       "      <td>88.000000</td>\n",
       "    </tr>\n",
       "    <tr>\n",
       "      <th>50%</th>\n",
       "      <td>2016.000000</td>\n",
       "      <td>99.000000</td>\n",
       "    </tr>\n",
       "    <tr>\n",
       "      <th>75%</th>\n",
       "      <td>2018.000000</td>\n",
       "      <td>116.000000</td>\n",
       "    </tr>\n",
       "    <tr>\n",
       "      <th>max</th>\n",
       "      <td>2021.000000</td>\n",
       "      <td>253.000000</td>\n",
       "    </tr>\n",
       "  </tbody>\n",
       "</table>\n",
       "</div>"
      ],
      "text/plain": [
       "       release_year     duration\n",
       "count   4812.000000  4812.000000\n",
       "mean    2012.711554    99.566708\n",
       "std        9.517978    30.889305\n",
       "min     1942.000000     1.000000\n",
       "25%     2011.000000    88.000000\n",
       "50%     2016.000000    99.000000\n",
       "75%     2018.000000   116.000000\n",
       "max     2021.000000   253.000000"
      ]
     },
     "execution_count": 78,
     "metadata": {
      "application/com.datacamp.data-table.v2+json": {
       "status": "success"
      }
     },
     "output_type": "execute_result"
    }
   ],
   "source": [
    "netflix_df.describe()"
   ]
  },
  {
   "cell_type": "code",
   "execution_count": 79,
   "id": "ab7a5bfe-9f77-4ae1-9e49-794b23485ae7",
   "metadata": {
    "executionCancelledAt": null,
    "executionTime": 48,
    "lastExecutedAt": 1755798447340,
    "lastExecutedByKernel": "e4d09064-5b49-4abb-9e2d-59f4faaa4ac4",
    "lastScheduledRunId": null,
    "lastSuccessfullyExecutedCode": "netflix_df.columns"
   },
   "outputs": [
    {
     "data": {
      "text/plain": [
       "Index(['show_id', 'type', 'title', 'director', 'cast', 'country', 'date_added',\n",
       "       'release_year', 'duration', 'description', 'genre'],\n",
       "      dtype='object')"
      ]
     },
     "execution_count": 79,
     "metadata": {},
     "output_type": "execute_result"
    }
   ],
   "source": [
    "netflix_df.columns"
   ]
  },
  {
   "cell_type": "code",
   "execution_count": 80,
   "id": "d6afc07a-98ae-403d-9571-d9d1091b39b9",
   "metadata": {
    "executionCancelledAt": null,
    "executionTime": 48,
    "lastExecutedAt": 1755798447388,
    "lastExecutedByKernel": "e4d09064-5b49-4abb-9e2d-59f4faaa4ac4",
    "lastScheduledRunId": null,
    "lastSuccessfullyExecutedCode": "netflix_df['type'].unique()"
   },
   "outputs": [
    {
     "data": {
      "text/plain": [
       "array(['Movie', 'TV Show'], dtype=object)"
      ]
     },
     "execution_count": 80,
     "metadata": {},
     "output_type": "execute_result"
    }
   ],
   "source": [
    "netflix_df['type'].unique()"
   ]
  },
  {
   "cell_type": "markdown",
   "id": "673fd2ce-31d1-4dd3-ae74-8c32e862beb5",
   "metadata": {
    "executionCancelledAt": null,
    "executionTime": 52,
    "lastExecutedAt": 1755795858721,
    "lastExecutedByKernel": "e4d09064-5b49-4abb-9e2d-59f4faaa4ac4",
    "lastScheduledRunId": null,
    "lastSuccessfullyExecutedCode": "* Two unique movie types: Movie, Tv Show"
   },
   "source": [
    "* Two unique movie types: Movie, Tv Show"
   ]
  },
  {
   "cell_type": "markdown",
   "id": "26f1b6fb-00fc-4edb-8eac-56d1caa9a1e1",
   "metadata": {},
   "source": [
    "* What was the most frequent movie duration in the 1990s?"
   ]
  },
  {
   "cell_type": "code",
   "execution_count": 81,
   "id": "6be7e0e8-9e1c-4cc7-b180-6fbff3455bc3",
   "metadata": {
    "executionCancelledAt": null,
    "executionTime": 44,
    "lastExecutedAt": 1755798447432,
    "lastExecutedByKernel": "e4d09064-5b49-4abb-9e2d-59f4faaa4ac4",
    "lastScheduledRunId": null,
    "lastSuccessfullyExecutedCode": "netflix_df['type'] == 'Movie';\nnetflix_df['release_year'] >= 1990;\n(netflix_df['release_year'] <= 1999);\n",
    "outputsMetadata": {
     "0": {
      "height": 550,
      "tableState": {
       "customFilter": {
        "const": {
         "type": "boolean",
         "valid": true,
         "value": true
        },
        "id": "9d942372-1709-45d0-910c-e24d4f496d04",
        "nodeType": "const"
       }
      },
      "type": "dataFrame"
     }
    }
   },
   "outputs": [],
   "source": [
    "netflix_df['type'] == 'Movie';\n",
    "netflix_df['release_year'] >= 1990;\n",
    "(netflix_df['release_year'] <= 1999);\n"
   ]
  },
  {
   "cell_type": "code",
   "execution_count": 82,
   "id": "a307401d-1692-421f-a24c-bfbc649ffa9d",
   "metadata": {
    "executionCancelledAt": null,
    "executionTime": 48,
    "lastExecutedAt": 1755798447480,
    "lastExecutedByKernel": "e4d09064-5b49-4abb-9e2d-59f4faaa4ac4",
    "lastScheduledRunId": null,
    "lastSuccessfullyExecutedCode": "# Filtering 90s movies\nmovies_90s = (\n    (netflix_df['release_year'] >= 1990) &\n    (netflix_df['release_year'] <= 1999) &\n    (netflix_df['type'] == 'Movie')\n)\nnetflix_movies_90s_df = netflix_df[movies_90s]\nnetflix_movies_90s_df.head()",
    "outputsMetadata": {
     "0": {
      "chartState": {
       "chartModel": {
        "cellRange": {
         "columns": [],
         "rowEndIndex": null,
         "rowEndPinned": null,
         "rowStartIndex": null,
         "rowStartPinned": null
        },
        "chartId": "id-abfo4y7kor4",
        "chartOptions": {
         "common": {
          "animation": {
           "enabled": true
          }
         }
        },
        "chartPalette": {
         "altDown": {
          "fill": "#ffa03a",
          "stroke": "#cc6f10"
         },
         "altNeutral": {
          "fill": "#b5b5b5",
          "stroke": "#575757"
         },
         "altUp": {
          "fill": "#5090dc",
          "stroke": "#2b5c95"
         },
         "down": {
          "fill": "#ef5452",
          "stroke": "#a82529"
         },
         "fills": [
          "#6568A0",
          "#43D7A4",
          "#4095DB",
          "#FACC5F",
          "#CAE279",
          "#F08083",
          "#5BCDF2",
          "#F099DC",
          "#965858",
          "#7DB64F",
          "#A98954"
         ],
         "neutral": {
          "fill": "#b5b5b5",
          "stroke": "#575757"
         },
         "strokes": [
          "#6568A0",
          "#43D7A4",
          "#4095DB",
          "#FACC5F",
          "#CAE279",
          "#F08083",
          "#5BCDF2",
          "#F099DC",
          "#965858",
          "#7DB64F",
          "#A98954"
         ],
         "up": {
          "fill": "#459d55",
          "stroke": "#1e652e"
         }
        },
        "chartThemeName": "datalabTheme",
        "chartType": "groupedColumn",
        "modelType": "range",
        "suppressChartRanges": false,
        "switchCategorySeries": false,
        "unlinkChart": false,
        "version": "32.2.2"
       },
       "rangeChartModel": {
        "rangeColumns": [],
        "switchCategorySeries": false
       }
      },
      "height": 550,
      "tableState": {},
      "type": "dataFrame"
     }
    },
    "version": "ag-charts-v1",
    "visualizeDataframe": false
   },
   "outputs": [
    {
     "data": {
      "application/com.datacamp.data-table.v2+json": {
       "table": {
        "data": {
         "cast": [
          "Samuel L. Jackson, John Heard, Kelly Rowan, Clifton Collins Jr., Tony Plana",
          "Debra Winger, Barbara Hershey, Gabriel Byrne, Laurie Metcalf, John Terry, Maggie Gyllenhaal, Jake Gyllenhaal, Chloe Webb, David Strathairn",
          "Will Ferrell, Chris Kattan, Dan Hedaya, Molly Shannon, Richard Grieco, Loni Anderson, Elisa Donovan, Gigi Rice, Lochlyn Munro, Dwayne Hickman",
          "Martin Lawrence, Lynn Whitfield, Regina King, Bobby Brown, Della Reese, Daryl Mitchell, Roger Mosley, Malinda Williams, Roger E. Mosley, Simbi Khali, Tangie Ambrose, Wendy Raquel Robinson, Stacii Jae Johnson, Faizon Love, Miguel A. Núñez Jr., Tracy Morgan",
          "Saif Ali Khan, Mamta Kulkarni, Mohnish Bahl, Sharmila Tagore, Saeed Jaffrey, Kader Khan"
         ],
         "country": [
          "United States",
          "United States",
          "United States",
          "United States",
          "India"
         ],
         "date_added": [
          "November 1, 2019",
          "April 1, 2018",
          "December 1, 2019",
          "December 1, 2020",
          "June 1, 2017"
         ],
         "description": [
          "After one of his high school students attacks him, dedicated teacher Trevor Garfield grows weary of the gang warfare in the New York City school system and moves to California to teach there, thinking it must be a less hostile environment.",
          "At the center of this engrossing melodrama is a Golden Globe-nominated turn by Debra Winger, who plays a sheltered, slow-witted woman living with her widowed Aunt Frances while working at a dry cleaners.",
          "After a run-in with Richard Grieco, dimwits Doug and Steve gain entry to a swanky nightclub in this comedy based on a \"Saturday Night Live\" sketch.",
          "When a philandering club promoter sets out to woo a rich, glamorous woman, he has no clue just how much mayhem he's about to unleash on his life.",
          "Raised by a kindly thief, orphaned Jimmy goes on the run from goons and falls in love with Jyoti, whose father indirectly caused his parents' deaths."
         ],
         "director": [
          "Kevin Reynolds",
          "Stephen Gyllenhaal",
          "John Fortenberry",
          "Martin Lawrence",
          "Umesh Mehra"
         ],
         "duration": [
          119,
          101,
          82,
          108,
          154
         ],
         "genre": [
          "Dramas",
          "Dramas",
          "Comedies",
          "Comedies",
          "Dramas"
         ],
         "index": [
          6,
          118,
          145,
          167,
          194
         ],
         "release_year": [
          1997,
          1993,
          1998,
          1996,
          1993
         ],
         "show_id": [
          "s8",
          "s167",
          "s211",
          "s239",
          "s274"
         ],
         "title": [
          "187",
          "A Dangerous Woman",
          "A Night at the Roxbury",
          "A Thin Line Between Love & Hate",
          "Aashik Awara"
         ],
         "type": [
          "Movie",
          "Movie",
          "Movie",
          "Movie",
          "Movie"
         ]
        },
        "schema": {
         "fields": [
          {
           "name": "index",
           "type": "integer"
          },
          {
           "name": "show_id",
           "type": "string"
          },
          {
           "name": "type",
           "type": "string"
          },
          {
           "name": "title",
           "type": "string"
          },
          {
           "name": "director",
           "type": "string"
          },
          {
           "name": "cast",
           "type": "string"
          },
          {
           "name": "country",
           "type": "string"
          },
          {
           "name": "date_added",
           "type": "string"
          },
          {
           "name": "release_year",
           "type": "integer"
          },
          {
           "name": "duration",
           "type": "integer"
          },
          {
           "name": "description",
           "type": "string"
          },
          {
           "name": "genre",
           "type": "string"
          }
         ],
         "pandas_version": "1.4.0",
         "primaryKey": [
          "index"
         ]
        }
       },
       "total_rows": 5,
       "truncation_type": null
      },
      "text/html": [
       "<div>\n",
       "<style scoped>\n",
       "    .dataframe tbody tr th:only-of-type {\n",
       "        vertical-align: middle;\n",
       "    }\n",
       "\n",
       "    .dataframe tbody tr th {\n",
       "        vertical-align: top;\n",
       "    }\n",
       "\n",
       "    .dataframe thead th {\n",
       "        text-align: right;\n",
       "    }\n",
       "</style>\n",
       "<table border=\"1\" class=\"dataframe\">\n",
       "  <thead>\n",
       "    <tr style=\"text-align: right;\">\n",
       "      <th></th>\n",
       "      <th>show_id</th>\n",
       "      <th>type</th>\n",
       "      <th>title</th>\n",
       "      <th>director</th>\n",
       "      <th>cast</th>\n",
       "      <th>country</th>\n",
       "      <th>date_added</th>\n",
       "      <th>release_year</th>\n",
       "      <th>duration</th>\n",
       "      <th>description</th>\n",
       "      <th>genre</th>\n",
       "    </tr>\n",
       "  </thead>\n",
       "  <tbody>\n",
       "    <tr>\n",
       "      <th>6</th>\n",
       "      <td>s8</td>\n",
       "      <td>Movie</td>\n",
       "      <td>187</td>\n",
       "      <td>Kevin Reynolds</td>\n",
       "      <td>Samuel L. Jackson, John Heard, Kelly Rowan, Cl...</td>\n",
       "      <td>United States</td>\n",
       "      <td>November 1, 2019</td>\n",
       "      <td>1997</td>\n",
       "      <td>119</td>\n",
       "      <td>After one of his high school students attacks ...</td>\n",
       "      <td>Dramas</td>\n",
       "    </tr>\n",
       "    <tr>\n",
       "      <th>118</th>\n",
       "      <td>s167</td>\n",
       "      <td>Movie</td>\n",
       "      <td>A Dangerous Woman</td>\n",
       "      <td>Stephen Gyllenhaal</td>\n",
       "      <td>Debra Winger, Barbara Hershey, Gabriel Byrne, ...</td>\n",
       "      <td>United States</td>\n",
       "      <td>April 1, 2018</td>\n",
       "      <td>1993</td>\n",
       "      <td>101</td>\n",
       "      <td>At the center of this engrossing melodrama is ...</td>\n",
       "      <td>Dramas</td>\n",
       "    </tr>\n",
       "    <tr>\n",
       "      <th>145</th>\n",
       "      <td>s211</td>\n",
       "      <td>Movie</td>\n",
       "      <td>A Night at the Roxbury</td>\n",
       "      <td>John Fortenberry</td>\n",
       "      <td>Will Ferrell, Chris Kattan, Dan Hedaya, Molly ...</td>\n",
       "      <td>United States</td>\n",
       "      <td>December 1, 2019</td>\n",
       "      <td>1998</td>\n",
       "      <td>82</td>\n",
       "      <td>After a run-in with Richard Grieco, dimwits Do...</td>\n",
       "      <td>Comedies</td>\n",
       "    </tr>\n",
       "    <tr>\n",
       "      <th>167</th>\n",
       "      <td>s239</td>\n",
       "      <td>Movie</td>\n",
       "      <td>A Thin Line Between Love &amp; Hate</td>\n",
       "      <td>Martin Lawrence</td>\n",
       "      <td>Martin Lawrence, Lynn Whitfield, Regina King, ...</td>\n",
       "      <td>United States</td>\n",
       "      <td>December 1, 2020</td>\n",
       "      <td>1996</td>\n",
       "      <td>108</td>\n",
       "      <td>When a philandering club promoter sets out to ...</td>\n",
       "      <td>Comedies</td>\n",
       "    </tr>\n",
       "    <tr>\n",
       "      <th>194</th>\n",
       "      <td>s274</td>\n",
       "      <td>Movie</td>\n",
       "      <td>Aashik Awara</td>\n",
       "      <td>Umesh Mehra</td>\n",
       "      <td>Saif Ali Khan, Mamta Kulkarni, Mohnish Bahl, S...</td>\n",
       "      <td>India</td>\n",
       "      <td>June 1, 2017</td>\n",
       "      <td>1993</td>\n",
       "      <td>154</td>\n",
       "      <td>Raised by a kindly thief, orphaned Jimmy goes ...</td>\n",
       "      <td>Dramas</td>\n",
       "    </tr>\n",
       "  </tbody>\n",
       "</table>\n",
       "</div>"
      ],
      "text/plain": [
       "    show_id   type  ...                                        description     genre\n",
       "6        s8  Movie  ...  After one of his high school students attacks ...    Dramas\n",
       "118    s167  Movie  ...  At the center of this engrossing melodrama is ...    Dramas\n",
       "145    s211  Movie  ...  After a run-in with Richard Grieco, dimwits Do...  Comedies\n",
       "167    s239  Movie  ...  When a philandering club promoter sets out to ...  Comedies\n",
       "194    s274  Movie  ...  Raised by a kindly thief, orphaned Jimmy goes ...    Dramas\n",
       "\n",
       "[5 rows x 11 columns]"
      ]
     },
     "execution_count": 82,
     "metadata": {
      "application/com.datacamp.data-table.v2+json": {
       "status": "success"
      }
     },
     "output_type": "execute_result"
    }
   ],
   "source": [
    "# Filtering 90s movies\n",
    "movies_90s = (\n",
    "    (netflix_df['release_year'] >= 1990) &\n",
    "    (netflix_df['release_year'] <= 1999) &\n",
    "    (netflix_df['type'] == 'Movie')\n",
    ")\n",
    "netflix_movies_90s_df = netflix_df[movies_90s]\n",
    "netflix_movies_90s_df.head()"
   ]
  },
  {
   "cell_type": "code",
   "execution_count": 83,
   "id": "ed36d501-c3e9-4501-9056-12abeea17495",
   "metadata": {
    "executionCancelledAt": null,
    "executionTime": 48,
    "lastExecutedAt": 1755798447528,
    "lastExecutedByKernel": "e4d09064-5b49-4abb-9e2d-59f4faaa4ac4",
    "lastScheduledRunId": null,
    "lastSuccessfullyExecutedCode": "# The most frecuent duration:\nduration = netflix_movies_90s_df['duration'].value_counts().idxmax()\nprint('Most frecurnt movie durarion: ', duration)",
    "outputsMetadata": {
     "0": {
      "height": 38,
      "type": "stream"
     }
    }
   },
   "outputs": [
    {
     "name": "stdout",
     "output_type": "stream",
     "text": [
      "Most frecurnt movie durarion:  94\n"
     ]
    }
   ],
   "source": [
    "# The most frecuent duration:\n",
    "duration = netflix_movies_90s_df['duration'].value_counts().idxmax()\n",
    "print('Most frecurnt movie durarion: ', duration)"
   ]
  },
  {
   "cell_type": "markdown",
   "id": "596f540a-8ec3-49d1-a905-1d846675a32b",
   "metadata": {},
   "source": [
    "* How many  action movies in the 90's are considered short (duration less than 90 minutes)?"
   ]
  },
  {
   "cell_type": "code",
   "execution_count": 84,
   "id": "3d963455-aab4-4e4c-82f3-1a90f33dfb3b",
   "metadata": {
    "executionCancelledAt": null,
    "executionTime": 44,
    "lastExecutedAt": 1755798447572,
    "lastExecutedByKernel": "e4d09064-5b49-4abb-9e2d-59f4faaa4ac4",
    "lastScheduledRunId": null,
    "lastSuccessfullyExecutedCode": "short_action_movies = (netflix_movies_90s_df['genre'] == 'Action') & (netflix_movies_90s_df['duration'] < 90)\nshort_action_90s_movies = netflix_movies_90s_df[short_action_movies]\nshort_action_90s_movies.head()",
    "outputsMetadata": {
     "0": {
      "height": 550,
      "tableState": {},
      "type": "dataFrame"
     }
    }
   },
   "outputs": [
    {
     "data": {
      "application/com.datacamp.data-table.v2+json": {
       "table": {
        "data": {
         "cast": [
          "Megumi Ogata, Kotono Mitsuishi, Megumi Hayashibara, Yuko Miyamura, Yuriko Yamaguchi, Fumihiko Tachiki, Motomu Kiyokawa, Koichi Yamadera, Takehito Koyasu, Hiro Yuki, Miki Nagasawa, Mugihito, Akira Ishida",
          "Takeshi Kaneshiro, Yuen Biao, Valerie Chow, Jessica Hester Hsuan, Tak Yuen, Wah Yuen, Corey Yuen",
          "Stephen Chow, Bill Tung, Stanley Sui-Fan Fung, Vivian Chan, Indra Leech, Amy Yip",
          "Wesley Snipes, Bruce Payne, Tom Sizemore, Alex Datcher, Bruce Greenwood, Elizabeth Hurley, Michael Horse, Marc Macaulay, Ernie Lively",
          "Jackie Chan, Anita Mui, Françoise Yip, Bill Tung, Marc Akerstream, Garvin Cross, Morgan Lam, Ailen Sit"
         ],
         "country": [
          "Japan",
          "Hong Kong",
          "Hong Kong",
          "United States",
          "Hong Kong"
         ],
         "date_added": [
          "June 21, 2019",
          "August 1, 2018",
          "August 16, 2018",
          "January 1, 2021",
          "November 1, 2019"
         ],
         "description": [
          "Fifteen years after the Second Impact, apathetic teen Shinji joins his father's group NERV to fight the Angels. But the truth may destroy them all.",
          "A pugilist from Shantung struggles to rise to the top of the Shanghai triad ladder, where his stellar martial arts talents can shine.",
          "An officer killed on the job returns to Earth as a ghost to solve his own murder and seek justice with the help of a rookie cop and some funky magic.",
          "Air marshal John Cutter must stop notorious terrorist Charles Rane from killing hostages on board a flight that should have delivered Rane to jail.",
          "During a visit to the Bronx to help out at his uncle's store, a cheerful martial arts expert springs into action when a gang terrorizes the shop."
         ],
         "director": [
          "Hideaki Anno",
          "Corey Yuen",
          "Sze Yu Lau",
          "Kevin Hooks",
          "Stanley Tong"
         ],
         "duration": [
          69,
          89,
          88,
          84,
          89
         ],
         "genre": [
          "Action",
          "Action",
          "Action",
          "Action",
          "Action"
         ],
         "index": [
          1288,
          1698,
          2328,
          2993,
          3297
         ],
         "release_year": [
          1998,
          1997,
          1990,
          1992,
          1995
         ],
         "show_id": [
          "s2039",
          "s2708",
          "s3718",
          "s4787",
          "s5299"
         ],
         "title": [
          "EVANGELION: DEATH (TRUE)²",
          "Hero",
          "Look Out, Officer",
          "Passenger 57",
          "Rumble in the Bronx"
         ],
         "type": [
          "Movie",
          "Movie",
          "Movie",
          "Movie",
          "Movie"
         ]
        },
        "schema": {
         "fields": [
          {
           "name": "index",
           "type": "integer"
          },
          {
           "name": "show_id",
           "type": "string"
          },
          {
           "name": "type",
           "type": "string"
          },
          {
           "name": "title",
           "type": "string"
          },
          {
           "name": "director",
           "type": "string"
          },
          {
           "name": "cast",
           "type": "string"
          },
          {
           "name": "country",
           "type": "string"
          },
          {
           "name": "date_added",
           "type": "string"
          },
          {
           "name": "release_year",
           "type": "integer"
          },
          {
           "name": "duration",
           "type": "integer"
          },
          {
           "name": "description",
           "type": "string"
          },
          {
           "name": "genre",
           "type": "string"
          }
         ],
         "pandas_version": "1.4.0",
         "primaryKey": [
          "index"
         ]
        }
       },
       "total_rows": 5,
       "truncation_type": null
      },
      "text/html": [
       "<div>\n",
       "<style scoped>\n",
       "    .dataframe tbody tr th:only-of-type {\n",
       "        vertical-align: middle;\n",
       "    }\n",
       "\n",
       "    .dataframe tbody tr th {\n",
       "        vertical-align: top;\n",
       "    }\n",
       "\n",
       "    .dataframe thead th {\n",
       "        text-align: right;\n",
       "    }\n",
       "</style>\n",
       "<table border=\"1\" class=\"dataframe\">\n",
       "  <thead>\n",
       "    <tr style=\"text-align: right;\">\n",
       "      <th></th>\n",
       "      <th>show_id</th>\n",
       "      <th>type</th>\n",
       "      <th>title</th>\n",
       "      <th>director</th>\n",
       "      <th>cast</th>\n",
       "      <th>country</th>\n",
       "      <th>date_added</th>\n",
       "      <th>release_year</th>\n",
       "      <th>duration</th>\n",
       "      <th>description</th>\n",
       "      <th>genre</th>\n",
       "    </tr>\n",
       "  </thead>\n",
       "  <tbody>\n",
       "    <tr>\n",
       "      <th>1288</th>\n",
       "      <td>s2039</td>\n",
       "      <td>Movie</td>\n",
       "      <td>EVANGELION: DEATH (TRUE)²</td>\n",
       "      <td>Hideaki Anno</td>\n",
       "      <td>Megumi Ogata, Kotono Mitsuishi, Megumi Hayashi...</td>\n",
       "      <td>Japan</td>\n",
       "      <td>June 21, 2019</td>\n",
       "      <td>1998</td>\n",
       "      <td>69</td>\n",
       "      <td>Fifteen years after the Second Impact, apathet...</td>\n",
       "      <td>Action</td>\n",
       "    </tr>\n",
       "    <tr>\n",
       "      <th>1698</th>\n",
       "      <td>s2708</td>\n",
       "      <td>Movie</td>\n",
       "      <td>Hero</td>\n",
       "      <td>Corey Yuen</td>\n",
       "      <td>Takeshi Kaneshiro, Yuen Biao, Valerie Chow, Je...</td>\n",
       "      <td>Hong Kong</td>\n",
       "      <td>August 1, 2018</td>\n",
       "      <td>1997</td>\n",
       "      <td>89</td>\n",
       "      <td>A pugilist from Shantung struggles to rise to ...</td>\n",
       "      <td>Action</td>\n",
       "    </tr>\n",
       "    <tr>\n",
       "      <th>2328</th>\n",
       "      <td>s3718</td>\n",
       "      <td>Movie</td>\n",
       "      <td>Look Out, Officer</td>\n",
       "      <td>Sze Yu Lau</td>\n",
       "      <td>Stephen Chow, Bill Tung, Stanley Sui-Fan Fung,...</td>\n",
       "      <td>Hong Kong</td>\n",
       "      <td>August 16, 2018</td>\n",
       "      <td>1990</td>\n",
       "      <td>88</td>\n",
       "      <td>An officer killed on the job returns to Earth ...</td>\n",
       "      <td>Action</td>\n",
       "    </tr>\n",
       "    <tr>\n",
       "      <th>2993</th>\n",
       "      <td>s4787</td>\n",
       "      <td>Movie</td>\n",
       "      <td>Passenger 57</td>\n",
       "      <td>Kevin Hooks</td>\n",
       "      <td>Wesley Snipes, Bruce Payne, Tom Sizemore, Alex...</td>\n",
       "      <td>United States</td>\n",
       "      <td>January 1, 2021</td>\n",
       "      <td>1992</td>\n",
       "      <td>84</td>\n",
       "      <td>Air marshal John Cutter must stop notorious te...</td>\n",
       "      <td>Action</td>\n",
       "    </tr>\n",
       "    <tr>\n",
       "      <th>3297</th>\n",
       "      <td>s5299</td>\n",
       "      <td>Movie</td>\n",
       "      <td>Rumble in the Bronx</td>\n",
       "      <td>Stanley Tong</td>\n",
       "      <td>Jackie Chan, Anita Mui, Françoise Yip, Bill Tu...</td>\n",
       "      <td>Hong Kong</td>\n",
       "      <td>November 1, 2019</td>\n",
       "      <td>1995</td>\n",
       "      <td>89</td>\n",
       "      <td>During a visit to the Bronx to help out at his...</td>\n",
       "      <td>Action</td>\n",
       "    </tr>\n",
       "  </tbody>\n",
       "</table>\n",
       "</div>"
      ],
      "text/plain": [
       "     show_id   type  ...                                        description   genre\n",
       "1288   s2039  Movie  ...  Fifteen years after the Second Impact, apathet...  Action\n",
       "1698   s2708  Movie  ...  A pugilist from Shantung struggles to rise to ...  Action\n",
       "2328   s3718  Movie  ...  An officer killed on the job returns to Earth ...  Action\n",
       "2993   s4787  Movie  ...  Air marshal John Cutter must stop notorious te...  Action\n",
       "3297   s5299  Movie  ...  During a visit to the Bronx to help out at his...  Action\n",
       "\n",
       "[5 rows x 11 columns]"
      ]
     },
     "execution_count": 84,
     "metadata": {
      "application/com.datacamp.data-table.v2+json": {
       "status": "success"
      }
     },
     "output_type": "execute_result"
    }
   ],
   "source": [
    "short_action_movies = (netflix_movies_90s_df['genre'] == 'Action') & (netflix_movies_90s_df['duration'] < 90)\n",
    "short_action_90s_movies = netflix_movies_90s_df[short_action_movies]\n",
    "short_action_90s_movies.head()"
   ]
  },
  {
   "cell_type": "code",
   "execution_count": 85,
   "id": "fbd3dc6d-e0b2-455a-8012-7286e19acd71",
   "metadata": {
    "executionCancelledAt": null,
    "executionTime": 52,
    "lastExecutedAt": 1755798447624,
    "lastExecutedByKernel": "e4d09064-5b49-4abb-9e2d-59f4faaa4ac4",
    "lastScheduledRunId": null,
    "lastSuccessfullyExecutedCode": "short_action_movies.sum()",
    "outputsMetadata": {
     "0": {
      "height": 500,
      "tableState": {},
      "type": "dataFrame"
     }
    }
   },
   "outputs": [
    {
     "data": {
      "text/plain": [
       "7"
      ]
     },
     "execution_count": 85,
     "metadata": {},
     "output_type": "execute_result"
    }
   ],
   "source": [
    "short_action_movies.sum()"
   ]
  },
  {
   "cell_type": "code",
   "execution_count": 86,
   "id": "ba8a0d1a-f2d5-4bc5-8514-dddeca454820",
   "metadata": {
    "executionCancelledAt": null,
    "executionTime": 52,
    "lastExecutedAt": 1755798447676,
    "lastExecutedByKernel": "e4d09064-5b49-4abb-9e2d-59f4faaa4ac4",
    "lastScheduledRunId": null,
    "lastSuccessfullyExecutedCode": "short_movie_count = short_action_movies.sum()\nprint('Total of short action movies in the 90s: ', short_movie_count)",
    "outputsMetadata": {
     "0": {
      "height": 38,
      "type": "stream"
     }
    }
   },
   "outputs": [
    {
     "name": "stdout",
     "output_type": "stream",
     "text": [
      "Total of short action movies in the 90s:  7\n"
     ]
    }
   ],
   "source": [
    "short_movie_count = short_action_movies.sum()\n",
    "print('Total of short action movies in the 90s: ', short_movie_count)"
   ]
  },
  {
   "cell_type": "code",
   "execution_count": 86,
   "id": "e7196e35-8be6-4cea-8a1a-197b00d90562",
   "metadata": {
    "executionCancelledAt": null,
    "executionTime": 48,
    "lastExecutedAt": 1755798447724,
    "lastExecutedByKernel": "e4d09064-5b49-4abb-9e2d-59f4faaa4ac4",
    "lastScheduledRunId": null,
    "lastSuccessfullyExecutedCode": ""
   },
   "outputs": [],
   "source": []
  }
 ],
 "metadata": {
  "colab": {
   "name": "Welcome to DataCamp Workspaces.ipynb",
   "provenance": []
  },
  "editor": "DataLab",
  "kernelspec": {
   "display_name": "Python 3 (ipykernel)",
   "language": "python",
   "name": "python3"
  },
  "language_info": {
   "codemirror_mode": {
    "name": "ipython",
    "version": 3
   },
   "file_extension": ".py",
   "mimetype": "text/x-python",
   "name": "python",
   "nbconvert_exporter": "python",
   "pygments_lexer": "ipython3",
   "version": "3.8.10"
  }
 },
 "nbformat": 4,
 "nbformat_minor": 5
}
